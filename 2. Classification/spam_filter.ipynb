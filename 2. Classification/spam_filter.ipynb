{
 "cells": [
  {
   "cell_type": "markdown",
   "metadata": {},
   "source": [
    "# Load data"
   ]
  },
  {
   "cell_type": "code",
   "execution_count": 1,
   "metadata": {},
   "outputs": [],
   "source": [
    "import os\n",
    "\n",
    "ham_files = [\"./datastes/spam/easy_ham/\"+f for f in os.listdir(\"./datastes/spam/easy_ham/\")]\n",
    "spam_files = [\"./datastes/spam/spam/\"+f for f in os.listdir(\"./datastes/spam/spam\")]"
   ]
  },
  {
   "cell_type": "code",
   "execution_count": 2,
   "metadata": {},
   "outputs": [
    {
     "name": "stdout",
     "output_type": "stream",
     "text": [
      "ham: 2501\n",
      "spam: 501\n"
     ]
    }
   ],
   "source": [
    "print(f\"ham: {len(ham_files)}\\nspam: {len(spam_files)}\")"
   ]
  },
  {
   "cell_type": "code",
   "execution_count": 3,
   "metadata": {},
   "outputs": [],
   "source": [
    "import email\n",
    "import email.policy\n",
    "\n",
    "def get_email(filepath):\n",
    "    with open(filepath, \"rb\") as f:\n",
    "        return email.parser.BytesParser(policy=email.policy.default).parse(f)\n",
    "\n",
    "ham_emails = [get_email(file) for file in ham_files]\n",
    "spam_emails = [get_email(file) for file in spam_files]"
   ]
  },
  {
   "cell_type": "code",
   "execution_count": 4,
   "metadata": {},
   "outputs": [
    {
     "name": "stdout",
     "output_type": "stream",
     "text": [
      "Martin A posted:\n",
      "Tassos Papadopoulos, the Greek sculptor behind the plan, judged that the\n",
      " limestone of Mount Kerdylio, 70 miles east of Salonika and not far from the\n",
      " Mount Athos monastic community, was ideal for the patriotic sculpture. \n",
      " \n",
      " As well as Alexander's granite features, 240 ft high and 170 ft wide, a\n",
      " museum, a restored amphitheatre and car park for admiring crowds are\n",
      "planned\n",
      "---------------------\n",
      "So is this mountain limestone or granite?\n",
      "If it's limestone, it'll weather pretty fast.\n",
      "\n",
      "------------------------ Yahoo! Groups Sponsor ---------------------~-->\n",
      "4 DVDs Free +s&p Join Now\n",
      "http://us.click.yahoo.com/pt6YBB/NXiEAA/mG3HAA/7gSolB/TM\n",
      "---------------------------------------------------------------------~->\n",
      "\n",
      "To unsubscribe from this group, send an email to:\n",
      "forteana-unsubscribe@egroups.com\n",
      "\n",
      " \n",
      "\n",
      "Your use of Yahoo! Groups is subject to http://docs.yahoo.com/info/terms/\n"
     ]
    }
   ],
   "source": [
    "print(ham_emails[1].get_content().strip())"
   ]
  },
  {
   "cell_type": "code",
   "execution_count": 5,
   "metadata": {},
   "outputs": [
    {
     "name": "stdout",
     "output_type": "stream",
     "text": [
      "A POWERHOUSE GIFTING PROGRAM You Don't Want To Miss! \n",
      " \n",
      "  GET IN WITH THE FOUNDERS! \n",
      "The MAJOR PLAYERS are on This ONE\n",
      "For ONCE be where the PlayerS are\n",
      "This is YOUR Private Invitation\n",
      "\n",
      "EXPERTS ARE CALLING THIS THE FASTEST WAY \n",
      "TO HUGE CASH FLOW EVER CONCEIVED\n",
      "Leverage $1,000 into $50,000 Over and Over Again\n",
      "\n",
      "THE QUESTION HERE IS:\n",
      "YOU EITHER WANT TO BE WEALTHY \n",
      "OR YOU DON'T!!!\n",
      "WHICH ONE ARE YOU?\n",
      "I am tossing you a financial lifeline and for your sake I \n",
      "Hope you GRAB onto it and hold on tight For the Ride of youR life!\n",
      "\n",
      "Testimonials\n",
      "\n",
      "Hear what average people are doing their first few days:\n",
      "�We've received 8,000 in 1 day and we are doing that over and over again!' Q.S. in AL\n",
      " �I'm a single mother in FL and I've received 12,000 in the last 4 days.� D. S. in FL\n",
      "�I was not sure about this when I sent off my $1,000 pledge, but I got back $2,000 the very next day!� L.L. in KY\n",
      "�I didn't have the money, so I found myself a partner to work this with. We have received $4,000 over the last 2 days. \n",
      "I think I made the right decision; don't you?� K. C. in FL\n",
      "�I pick up $3,000 my first day and I  they gave me free leads and all the training, you can too!� J.W. in CA\n",
      "\n",
      "ANNOUNCING: We will CLOSE your sales for YOU! And Help you get a Fax Blast IMMEDIATELY Upon Your Entry!!!    YOU Make the MONEY!!!\n",
      "FREE LEADS!!! TRAINING!!!\n",
      "\n",
      "$$DON'T WAIT!!! CALL NOW $$\n",
      "FAX BACK TO: 1-800-421-6318 OR Call 1-800-896-6568 \n",
      "\n",
      "Name__________________________________Phone___________________________________________\n",
      "\n",
      "Fax_____________________________________Email____________________________________________\n",
      "\n",
      "Best Time To Call_________________________Time Zone________________________________________\n",
      "\n",
      "This message is sent in compliance of the new e-mail bill. \"Per Section 301, Paragraph (a)(2)(C) of S. 1618, further transmissions by the sender of this email may be stopped, at no cost to you, by sending a reply to this email address with the word \"REMOVE\" in the subject line. Errors, omissions, and exceptions excluded.\n",
      " \n",
      "This is NOT spam! I have compiled this list from our Replicate Database, relative to Seattle Marketing Group, The Gigt, or Turbo Team for the sole purpose of these communications. Your continued inclusion is ONLY by your gracious permission. If you wish to not receive this mail from me, please send an email to tesrewinter@yahoo.com with \"Remove\" in the subject and you will be deleted immediately.\n"
     ]
    }
   ],
   "source": [
    "print(spam_emails[5].get_content().strip())"
   ]
  },
  {
   "cell_type": "code",
   "execution_count": 6,
   "metadata": {},
   "outputs": [],
   "source": [
    "def get_email_structure(email):\n",
    "    if isinstance(email, str):\n",
    "        return email\n",
    "    payload = email.get_payload()\n",
    "    if isinstance(payload, list):\n",
    "        multipart = \", \".join([get_email_structure(sub_email)\n",
    "                               for sub_email in payload])\n",
    "        return f\"multipart({multipart})\"\n",
    "    else:\n",
    "        return email.get_content_type()"
   ]
  },
  {
   "cell_type": "code",
   "execution_count": 7,
   "metadata": {},
   "outputs": [],
   "source": [
    "from collections import Counter\n",
    "\n",
    "def structures_counter(emails):\n",
    "    structures = Counter()\n",
    "    for email in emails:\n",
    "        structure = get_email_structure(email)\n",
    "        structures[structure] += 1\n",
    "    return structures"
   ]
  },
  {
   "cell_type": "code",
   "execution_count": 8,
   "metadata": {},
   "outputs": [
    {
     "data": {
      "text/plain": [
       "[('text/plain', 2409),\n",
       " ('multipart(text/plain, application/pgp-signature)', 66),\n",
       " ('multipart(text/plain, text/html)', 8),\n",
       " ('multipart(text/plain, text/plain)', 4),\n",
       " ('multipart(text/plain)', 3),\n",
       " ('multipart(text/plain, application/octet-stream)', 2),\n",
       " ('multipart(text/plain, text/enriched)', 1),\n",
       " ('multipart(text/plain, application/ms-tnef, text/plain)', 1),\n",
       " ('multipart(multipart(text/plain, text/plain, text/plain), application/pgp-signature)',\n",
       "  1),\n",
       " ('multipart(text/plain, video/mng)', 1),\n",
       " ('multipart(text/plain, multipart(text/plain))', 1),\n",
       " ('multipart(text/plain, application/x-pkcs7-signature)', 1),\n",
       " ('multipart(text/plain, multipart(text/plain, text/plain), text/rfc822-headers)',\n",
       "  1),\n",
       " ('multipart(text/plain, multipart(text/plain, text/plain), multipart(multipart(text/plain, application/x-pkcs7-signature)))',\n",
       "  1),\n",
       " ('multipart(text/plain, application/x-java-applet)', 1)]"
      ]
     },
     "execution_count": 8,
     "metadata": {},
     "output_type": "execute_result"
    }
   ],
   "source": [
    "structures_counter(ham_emails).most_common()"
   ]
  },
  {
   "cell_type": "code",
   "execution_count": 9,
   "metadata": {},
   "outputs": [
    {
     "data": {
      "text/plain": [
       "[('text/plain', 219),\n",
       " ('text/html', 183),\n",
       " ('multipart(text/plain, text/html)', 45),\n",
       " ('multipart(text/html)', 20),\n",
       " ('multipart(text/plain)', 19),\n",
       " ('multipart(multipart(text/html))', 5),\n",
       " ('multipart(text/plain, image/jpeg)', 3),\n",
       " ('multipart(text/html, application/octet-stream)', 2),\n",
       " ('multipart(text/plain, application/octet-stream)', 1),\n",
       " ('multipart(text/html, text/plain)', 1),\n",
       " ('multipart(multipart(text/html), application/octet-stream, image/jpeg)', 1),\n",
       " ('multipart(multipart(text/plain, text/html), image/gif)', 1),\n",
       " ('multipart/alternative', 1)]"
      ]
     },
     "execution_count": 9,
     "metadata": {},
     "output_type": "execute_result"
    }
   ],
   "source": [
    "structures_counter(spam_emails).most_common()"
   ]
  },
  {
   "cell_type": "code",
   "execution_count": 10,
   "metadata": {},
   "outputs": [
    {
     "name": "stdout",
     "output_type": "stream",
     "text": [
      "Return-Path : <12a1mailbot1@web.de>\n",
      "Delivered-To : zzzz@localhost.spamassassin.taint.org\n",
      "Received : from localhost (localhost [127.0.0.1])\tby phobos.labs.spamassassin.taint.org (Postfix) with ESMTP id 136B943C32\tfor <zzzz@localhost>; Thu, 22 Aug 2002 08:17:21 -0400 (EDT)\n",
      "Received : from mail.webnote.net [193.120.211.219]\tby localhost with POP3 (fetchmail-5.9.0)\tfor zzzz@localhost (single-drop); Thu, 22 Aug 2002 13:17:21 +0100 (IST)\n",
      "Received : from dd_it7 ([210.97.77.167])\tby webnote.net (8.9.3/8.9.3) with ESMTP id NAA04623\tfor <zzzz@spamassassin.taint.org>; Thu, 22 Aug 2002 13:09:41 +0100\n",
      "From : 12a1mailbot1@web.de\n",
      "Received : from r-smtp.korea.com - 203.122.2.197 by dd_it7  with Microsoft SMTPSVC(5.5.1775.675.6);\t Sat, 24 Aug 2002 09:42:10 +0900\n",
      "To : dcek1a1@netsgo.com\n",
      "Subject : Life Insurance - Why Pay More?\n",
      "Date : Wed, 21 Aug 2002 20:31:57 -1600\n",
      "MIME-Version : 1.0\n",
      "Message-ID : <0103c1042001882DD_IT7@dd_it7>\n",
      "Content-Type : text/html; charset=\"iso-8859-1\"\n",
      "Content-Transfer-Encoding : quoted-printable\n"
     ]
    }
   ],
   "source": [
    "for header, value in spam_emails[0].items():\n",
    "    print(header, \":\", value)"
   ]
  },
  {
   "cell_type": "code",
   "execution_count": 11,
   "metadata": {},
   "outputs": [
    {
     "data": {
      "text/plain": [
       "'Life Insurance - Why Pay More?'"
      ]
     },
     "execution_count": 11,
     "metadata": {},
     "output_type": "execute_result"
    }
   ],
   "source": [
    "spam_emails[0][\"Subject\"]"
   ]
  },
  {
   "cell_type": "markdown",
   "metadata": {},
   "source": [
    "# Split data into train and test set"
   ]
  },
  {
   "cell_type": "code",
   "execution_count": 12,
   "metadata": {},
   "outputs": [],
   "source": [
    "import numpy as np\n",
    "from sklearn.model_selection import train_test_split\n",
    "\n",
    "X = np.array(ham_emails + spam_emails, dtype=object)\n",
    "y = np.array([0] * len(ham_emails) + [1] * len(spam_emails))\n",
    "\n",
    "X_train, X_test, y_train, y_test = train_test_split(X, y, test_size=0.2, random_state=42)"
   ]
  },
  {
   "cell_type": "code",
   "execution_count": 13,
   "metadata": {},
   "outputs": [],
   "source": [
    "from bs4 import BeautifulSoup\n",
    "\n",
    "def html_to_plain_text(html_doc):\n",
    "    soup = BeautifulSoup(html_doc, 'html.parser')\n",
    "    return soup.get_text(\" \", strip=True)"
   ]
  },
  {
   "cell_type": "code",
   "execution_count": 21,
   "metadata": {},
   "outputs": [
    {
     "name": "stdout",
     "output_type": "stream",
     "text": [
      "145\n",
      "<html>\n",
      "<head>\n",
      "\n",
      "</head>\n",
      "<body bgcolor=#FFFFFF text=#000000 >\n",
      "<table width=100% height=100% border=0 cellspacing=0 cellpadding=0 >\n",
      "  <tr>\n",
      "    <td valign=middle > \n",
      "      <div align=center> \n",
      "        <table width=550 border=0 cellspacing=0 cellpadding=0>\n",
      "          <tr> \n",
      "            <td width=22 height=50 bgcolor=D5D5D5>&nbsp;</td>\n",
      "            <td width=213 height=50 bgcolor=D5D5D5>&nbsp;<font size=\"2\" face=\"Verdana, Arial, Helvetica, sans-serif\"><strong>&nbsp;&nbsp;The \n",
      "              Best Mortage  Rates</strong></font></td>\n",
      "            <td colspan=2 height=50 bgcolor=979797>&nbsp;&nbsp;&nbsp;&nbsp;&nbsp;<font face=Verdana, Arial, Helvetica, sans-serif color=#FFFFFF><b>Simple, \n",
      "              Easy and FREE</b></font></td>\n",
      "            <td width=22 height=50 bgcolor=D5D5D5>&nbsp; </td>\n",
      "          </tr>\n",
      "          <tr> \n",
      "            <td width=22 height=25 bgcolor=D5D5D5>&nbsp;</td>\n",
      "            <td width=213 height=25 bgcolor=979797>&nbsp;</td>\n",
      "            <td colspan=2 height=25 bgcolor=A6A6A6>&nbsp;</td>\n",
      "            <td width=22 height=25 bgcolor=D5D5D5>&nbsp;</td>\n",
      "          </tr>\n",
      "          <tr> \n",
      "            <td width=22 height=54 bgcolor=D5D5D5>&nbsp;</td>\n",
      "            <td colspan=3 rowspan=2 valign=top > \n",
      "              <div align=left> \n",
      "                <div align=center></div>\n",
      "                <div align=center> \n",
      "                  <table border=4 bordercolor=#000000 cellpadding=10 cellspacing=0\n",
      "width=506 height=100%>\n",
      "                    <tbody> \n",
      "                    <tr bgcolor=efefef> \n",
      "                      <td colspan=2>\n",
      "                        <div align=center><font color=#ffffff \n",
      "      face=Tahoma,Arial,Helvetica size=4><b><font size=3 color=#333333>Have \n",
      "                          HUNDREDS of lenders compete for your loan!</font></b></font> \n",
      "                        </div>\n",
      "                      </td>\n",
      "                    </tr>\n",
      "                    <tr> \n",
      "                      <td bgcolor=#009966 valign=top width=160> <br><br>\n",
      "                        <li><b><font color=#FFFFFF size=2 face=Arial, Helvetica,\n",
      "sans-serif>Refinancing </font></b> \n",
      "                        <li><font size=2 face=Arial, Helvetica, sans-serif><b><font\n",
      "color=#FFFFFF>New Home Loans </font></b></font> \n",
      "                          <li><font size=2 face=Arial, Helvetica, sans-serif><b><font\n",
      "color=#FFFFFF>Debt Consolidation </font></b></font> \n",
      "<li><font size=2 face=Arial, Helvetica, sans-serif><b><font\n",
      "color=#FFFFFF>Second Mortgage </font></b></font> \n",
      "                        <li><font size=2 face=Arial, Helvetica, sans-serif><b><font\n",
      "color=#FFFFFF>Home Equity <br>\n",
      "                          </font></b></font><b><font color=#FFFFFF><br>\n",
      "                          </font></b><br>\n",
      "                          <center>\n",
      "                              <a\n",
      "href=http://61.129.68.54/master/index.php><font \n",
      "      color=#ffffff face=tahoma,arial,helvetica size=4><b>Click Here To<br>\n",
      "                            JUMP-START<br>\n",
      "                            your Plans for<br>\n",
      "                            the Future!!!</b></font></a> \n",
      "                          </center>\n",
      "                        </li>\n",
      "                      </td>\n",
      "                      <td><b><font face=Verdana, Arial, Helvetica, sans-serif size=2>Dear \n",
      "                        Homeowner,</font></b> \n",
      "                        <p align=left><font color=#000000 face=Verdana, Arial, Helvetica, sans-serif new=new roman,=roman, times=times size=2>Interest \n",
      "                          Rates are at their lowest point in 40 years! We help \n",
      "                          you find the best rate for your situation by matching \n",
      "                          your needs with hundreds of lenders!<br>\n",
      "                          <br>\n",
      "                            <a \n",
      "      href=http://61.129.68.54/master/index.php><b>Home Improvement, Refinance, \n",
      "                            Second Mortgage, Home Equity Loans, and More!</b></a></font><font face=Verdana, Arial, Helvetica, sans-serif size=2><br>\n",
      "                          <br>\n",
      "                          You're eligible even with less than perfect credit!<br>\n",
      "                          <br>\n",
      "                          This service is <font color=#000000><b>100% FREE</b></font> \n",
      "                          to home owners and new home buyers without any obligation. \n",
      "                          <br>\n",
      "                          <br>\n",
      "                          Just fill out a quick, simple form and jump-start your \n",
      "                          future plans today!</font><br>\n",
      "                          <br>\n",
      "                            <a \n",
      "      href=http://61.129.68.54/master/index.php><font \n",
      "      color=#00b000 face=verdana,arial,helvetica size=5><b><font\n",
      "color=#009933>Click Here To Begin</font></b></font></a> <font \n",
      "size=1> </font></p>\n",
      "                      </td>\n",
      "                    </tr>\n",
      "                    </tbody> \n",
      "                  </table>\n",
      "                </div>\n",
      "              </div>\n",
      "              </td>\n",
      "            <td width=22 height=54 bgcolor=D5D5D5>&nbsp;</td>\n",
      "          </tr>\n",
      "          <tr> \n",
      "            <td width=22 bgcolor=D5D5D5>&nbsp;</td>\n",
      "            <td width=22 bgcolor=D5D5D5>&nbsp;</td>\n",
      "          </tr>\n",
      "          <tr> \n",
      "            <td height=20 bgcolor=D5D5D5 width=22>&nbsp;</td>\n",
      "            <td height=20 colspan=3 bgcolor=#dedede>\n",
      "              <div align=left>\n",
      "                <div align=center></div>\n",
      "              </div>\n",
      "              <div align=center> \n",
      "                <table border=0 cellpadding=4 cellspacing=0 width=500>\n",
      "                  <tbody> \n",
      "                  <tr> \n",
      "                      <td><font color=#000000 \n",
      "      face=Verdana size=1>You are receiving this email because you registered \n",
      "                        at one of JUNCAN.net's partner sites, and agreed to receive \n",
      "                        gifts and special offers that may be of interest to you. \n",
      "                        If you do not want to receive special offers in the future, \n",
      "                        please <a href=http://61.129.68.54/empires/remove/remove.html>click \n",
      "                        here</a>.<br>\n",
      "                      You are subscribed as: webmaster@efi.ie </font></td>\n",
      "                  </tr>\n",
      "                  </tbody> \n",
      "                </table>\n",
      "              </div>\n",
      "            </td>\n",
      "            <td height=20 bgcolor=D5D5D5 width=22>&nbsp;</td>\n",
      "          </tr>\n",
      "          <tr> \n",
      "            <td width=22 height=26 bgcolor=CCCCCC>&nbsp;</td>\n",
      "            <td height=26 bgcolor=CCCCCC width=213><font face=Verdana, Arial size=1>&nbsp; \n",
      "              </font></td>\n",
      "            <td height=26 bgcolor=797975 width=268> \n",
      "              <div align=right><font face=Verdana, arial=Arial size=1 color=#FFFFFF>Equal \n",
      "                Housing Opportunity</font><font face=Verdana, Arial size=1>.</font></div>\n",
      "            </td>\n",
      "            <td height=26 bgcolor=797975 width=25>&nbsp;</td>\n",
      "            <td width=22 height=26 bgcolor=D5D5D5>&nbsp;</td>\n",
      "          </tr>\n",
      "        </table>\n",
      "      </div>\n",
      "    </td>\n",
      "  </tr>\n",
      "</table>\n",
      "</body>\n",
      "</html> ...\n"
     ]
    }
   ],
   "source": [
    "html_spam_emails = [email for email in X_train[y_train==1]\n",
    "                    if get_email_structure(email) == \"text/html\"]\n",
    "print(len(html_spam_emails))\n",
    "sample_html_spam = html_spam_emails[0]\n",
    "print(sample_html_spam.get_content().strip()[:10000], \"...\")"
   ]
  },
  {
   "cell_type": "code",
   "execution_count": 19,
   "metadata": {},
   "outputs": [
    {
     "name": "stdout",
     "output_type": "stream",
     "text": [
      "The \n",
      "              Best Mortage  Rates Simple, \n",
      "              Easy and FREE Have \n",
      "                          HUNDREDS of lenders compete for your loan! Refinancing New Home Loans Debt Consolidation Second Mortgage Home Equity Click Here To JUMP-START your Plans for the Future!!! Dear \n",
      "                        Homeowner, Interest \n",
      "                          Rates are at their lowest point in 40 years! We help \n",
      "                          you find the best rate for your situation by matching \n",
      "                          your needs with hundreds of lenders! Home Improvement, Refinance, \n",
      "                            Second Mortgage, Home Equity Loans, and More! You're eligible even with less than perfect credit! This service is 100% FREE to home owners and new home buyers without any obligation. Just fill out a quick, simple form and jump-start your \n",
      "                          future plans today! Click Here To Begin You are receiving this email because you registered \n",
      "                        at one ...\n"
     ]
    }
   ],
   "source": [
    "print(html_to_plain_text(sample_html_spam.get_content())[:1000], \"...\")"
   ]
  },
  {
   "cell_type": "code",
   "execution_count": 16,
   "metadata": {},
   "outputs": [
    {
     "name": "stdout",
     "output_type": "stream",
     "text": [
      "The \n",
      "              Best Mortage  Rates Simple, \n",
      "              Easy and FREE Have \n",
      "                   ...\n"
     ]
    }
   ],
   "source": [
    "def email_to_text(email):\n",
    "    html = None\n",
    "    for part in email.walk():\n",
    "        ctype = part.get_content_type()\n",
    "        if not ctype in (\"text/plain\", \"text/html\"):\n",
    "            continue\n",
    "        try:\n",
    "            content = part.get_content()\n",
    "        except: # in case of encoding issues\n",
    "            content = str(part.get_payload())\n",
    "        if ctype == \"text/plain\":\n",
    "            return content\n",
    "        else:\n",
    "            html = content\n",
    "    if html:\n",
    "        return html_to_plain_text(html)\n",
    "\n",
    "print(email_to_text(sample_html_spam)[:100], \"...\")"
   ]
  },
  {
   "cell_type": "code",
   "execution_count": 17,
   "metadata": {},
   "outputs": [
    {
     "name": "stdout",
     "output_type": "stream",
     "text": [
      "Computations => comput\n",
      "Computation => comput\n",
      "Computing => comput\n",
      "Computed => comput\n",
      "Compute => comput\n",
      "Compulsive => compuls\n"
     ]
    }
   ],
   "source": [
    "import nltk\n",
    "\n",
    "stemmer = nltk.PorterStemmer()\n",
    "for word in (\"Computations\", \"Computation\", \"Computing\", \"Computed\", \"Compute\",\n",
    "             \"Compulsive\"):\n",
    "    print(word, \"=>\", stemmer.stem(word))"
   ]
  },
  {
   "cell_type": "code",
   "execution_count": 18,
   "metadata": {},
   "outputs": [
    {
     "name": "stdout",
     "output_type": "stream",
     "text": [
      "['github.com', 'https://youtu.be/7Pq-S557XQU?t=3m32s']\n"
     ]
    }
   ],
   "source": [
    "import urlextract # may require an Internet connection to download root domain\n",
    "                  # names\n",
    "\n",
    "url_extractor = urlextract.URLExtract()\n",
    "some_text = \"Will it detect github.com and https://youtu.be/7Pq-S557XQU?t=3m32s\"\n",
    "print(url_extractor.find_urls(some_text))"
   ]
  },
  {
   "cell_type": "markdown",
   "metadata": {},
   "source": [
    "# Preprocessing"
   ]
  },
  {
   "cell_type": "code",
   "execution_count": 24,
   "metadata": {},
   "outputs": [],
   "source": [
    "from sklearn.base import BaseEstimator, TransformerMixin\n",
    "import regex as re\n",
    "\n",
    "class EmailToWordCounterTransformer(BaseEstimator, TransformerMixin):\n",
    "    def __init__(self, strip_headers=True, lower_case=True,\n",
    "                 remove_punctuation=True, replace_urls=True,\n",
    "                 replace_numbers=True, stemming=True):\n",
    "        self.strip_headers = strip_headers\n",
    "        self.lower_case = lower_case\n",
    "        self.remove_punctuation = remove_punctuation\n",
    "        self.replace_urls = replace_urls\n",
    "        self.replace_numbers = replace_numbers\n",
    "        self.stemming = stemming\n",
    "\n",
    "    def fit(self, X, y=None):\n",
    "        return self\n",
    "        \n",
    "    def transform(self, X, y=None):\n",
    "        X_transformed = []\n",
    "        for email in X:\n",
    "            text = email_to_text(email) or \"\"\n",
    "            if self.lower_case:\n",
    "                text = text.lower()\n",
    "            if self.replace_urls and url_extractor is not None:\n",
    "                urls = list(set(url_extractor.find_urls(text)))\n",
    "                urls.sort(key=lambda url: len(url), reverse=True)\n",
    "                for url in urls:\n",
    "                    text = text.replace(url, \" URL \")\n",
    "            if self.replace_numbers:\n",
    "                text = re.sub(r'\\d+(?:\\.\\d*)?(?:[eE][+-]?\\d+)?', 'NUMBER', text)\n",
    "            if self.remove_punctuation:\n",
    "                text = re.sub(r'\\W+', ' ', text, flags=re.M)\n",
    "            word_counts = Counter(text.split())\n",
    "            if self.stemming and stemmer is not None:\n",
    "                stemmed_word_counts = Counter()\n",
    "                for word, count in word_counts.items():\n",
    "                    stemmed_word = stemmer.stem(word)\n",
    "                    stemmed_word_counts[stemmed_word] += count\n",
    "                word_counts = stemmed_word_counts\n",
    "            X_transformed.append(word_counts)\n",
    "        return np.array(X_transformed)"
   ]
  },
  {
   "cell_type": "code",
   "execution_count": 25,
   "metadata": {},
   "outputs": [
    {
     "data": {
      "text/plain": [
       "array([Counter({'the': 11, 'of': 9, 'and': 8, 'all': 3, 'christian': 3, 'to': 3, 'by': 3, 'jefferson': 2, 'i': 2, 'have': 2, 'superstit': 2, 'one': 2, 'on': 2, 'been': 2, 'ha': 2, 'half': 2, 'rogueri': 2, 'teach': 2, 'jesu': 2, 'some': 1, 'interest': 1, 'quot': 1, 'url': 1, 'thoma': 1, 'examin': 1, 'known': 1, 'word': 1, 'do': 1, 'not': 1, 'find': 1, 'in': 1, 'our': 1, 'particular': 1, 'redeem': 1, 'featur': 1, 'they': 1, 'are': 1, 'alik': 1, 'found': 1, 'fabl': 1, 'mytholog': 1, 'million': 1, 'innoc': 1, 'men': 1, 'women': 1, 'children': 1, 'sinc': 1, 'introduct': 1, 'burnt': 1, 'tortur': 1, 'fine': 1, 'imprison': 1, 'what': 1, 'effect': 1, 'thi': 1, 'coercion': 1, 'make': 1, 'world': 1, 'fool': 1, 'other': 1, 'hypocrit': 1, 'support': 1, 'error': 1, 'over': 1, 'earth': 1, 'six': 1, 'histor': 1, 'american': 1, 'john': 1, 'e': 1, 'remsburg': 1, 'letter': 1, 'william': 1, 'short': 1, 'again': 1, 'becom': 1, 'most': 1, 'pervert': 1, 'system': 1, 'that': 1, 'ever': 1, 'shone': 1, 'man': 1, 'absurd': 1, 'untruth': 1, 'were': 1, 'perpetr': 1, 'upon': 1, 'a': 1, 'larg': 1, 'band': 1, 'dupe': 1, 'import': 1, 'led': 1, 'paul': 1, 'first': 1, 'great': 1, 'corrupt': 1}),\n",
       "       Counter({'url': 4, 's': 3, 'group': 3, 'to': 3, 'in': 2, 'forteana': 2, 'martin': 2, 'an': 2, 'and': 2, 'we': 2, 'is': 2, 'yahoo': 2, 'unsubscrib': 2, 'y': 1, 'adamson': 1, 'wrote': 1, 'for': 1, 'altern': 1, 'rather': 1, 'more': 1, 'factual': 1, 'base': 1, 'rundown': 1, 'on': 1, 'hamza': 1, 'career': 1, 'includ': 1, 'hi': 1, 'belief': 1, 'that': 1, 'all': 1, 'non': 1, 'muslim': 1, 'yemen': 1, 'should': 1, 'be': 1, 'murder': 1, 'outright': 1, 'know': 1, 'how': 1, 'unbias': 1, 'memri': 1, 'don': 1, 't': 1, 'html': 1, 'rob': 1, 'sponsor': 1, 'number': 1, 'dvd': 1, 'free': 1, 'p': 1, 'join': 1, 'now': 1, 'from': 1, 'thi': 1, 'send': 1, 'email': 1, 'egroup': 1, 'com': 1, 'your': 1, 'use': 1, 'of': 1, 'subject': 1}),\n",
       "       Counter({'number': 14, 'i': 6, 'the': 6, 'kernel': 6, 'sourc': 5, 'of': 3, 'packag': 3, 'get': 3, 'is': 3, 'tell': 3, 'url': 3, 'list': 3, 'build': 2, 'script': 2, 'some': 2, 'on': 2, 'apt': 2, 'instal': 2, 'thi': 2, 'can': 2, 'to': 2, 'thoma': 2, 'rpm': 2, 'hi': 1, 'in': 1, 'my': 1, 'have': 1, 'problem': 1, 'with': 1, 'for': 1, 'a': 1, 'virtual': 1, 'provid': 1, 'by': 1, 'run': 1, 'now': 1, 'first': 1, 'all': 1, 'doesn': 1, 't': 1, 'realli': 1, 'me': 1, 'what': 1, 'two': 1, 'option': 1, 'are': 1, 'second': 1, 'there': 1, 'way': 1, 'either': 1, 'done': 1, 'from': 1, 'automat': 1, 'so': 1, 'd': 1, 'like': 1, 'it': 1, 'proceed': 1, 'anyway': 1, 'thank': 1, 'dave': 1, 'dina': 1, 'project': 1, 'futur': 1, 'tv': 1, 'today': 1, 'm': 1, 'aliv': 1, 'becaus': 1, 'pain': 1, 'apestaart': 1, 'org': 1, 'urgent': 1, 'best': 1, 'radio': 1, 'internet': 1, '_______________________________________________': 1, 'mail': 1, 'freshrpm': 1, 'net': 1})],\n",
       "      dtype=object)"
      ]
     },
     "execution_count": 25,
     "metadata": {},
     "output_type": "execute_result"
    }
   ],
   "source": [
    "X_few = X_train[:3]\n",
    "X_few_wordcounts = EmailToWordCounterTransformer().fit_transform(X_few)\n",
    "X_few_wordcounts"
   ]
  },
  {
   "cell_type": "code",
   "execution_count": 26,
   "metadata": {},
   "outputs": [],
   "source": [
    "from scipy.sparse import csr_matrix\n",
    "\n",
    "class WordCounterToVectorTransformer(BaseEstimator, TransformerMixin):\n",
    "    def __init__(self, vocabulary_size=1000):\n",
    "        self.vocabulary_size = vocabulary_size\n",
    "\n",
    "    def fit(self, X, y=None):\n",
    "        total_count = Counter()\n",
    "        for word_count in X:\n",
    "            for word, count in word_count.items():\n",
    "                total_count[word] += min(count, 10)\n",
    "        most_common = total_count.most_common()[:self.vocabulary_size]\n",
    "        self.vocabulary_ = {word: index + 1\n",
    "                            for index, (word, count) in enumerate(most_common)}\n",
    "        return self\n",
    "        \n",
    "    def transform(self, X, y=None):\n",
    "        rows = []\n",
    "        cols = []\n",
    "        data = []\n",
    "        for row, word_count in enumerate(X):\n",
    "            for word, count in word_count.items():\n",
    "                rows.append(row)\n",
    "                cols.append(self.vocabulary_.get(word, 0))\n",
    "                data.append(count)\n",
    "        return csr_matrix((data, (rows, cols)),\n",
    "                          shape=(len(X), self.vocabulary_size + 1))"
   ]
  },
  {
   "cell_type": "code",
   "execution_count": 27,
   "metadata": {},
   "outputs": [
    {
     "data": {
      "text/plain": [
       "<3x11 sparse matrix of type '<class 'numpy.intc'>'\n",
       "\twith 27 stored elements in Compressed Sparse Row format>"
      ]
     },
     "execution_count": 27,
     "metadata": {},
     "output_type": "execute_result"
    }
   ],
   "source": [
    "vocab_transformer = WordCounterToVectorTransformer(vocabulary_size=10)\n",
    "X_few_vectors = vocab_transformer.fit_transform(X_few_wordcounts)\n",
    "X_few_vectors"
   ]
  },
  {
   "cell_type": "code",
   "execution_count": 28,
   "metadata": {},
   "outputs": [
    {
     "data": {
      "text/plain": [
       "array([[104,  11,   9,   0,   8,   1,   2,   3,   0,   3,   2],\n",
       "       [ 68,   0,   1,   1,   2,   4,   0,   3,   0,   1,   1],\n",
       "       [ 94,   6,   3,  14,   0,   3,   6,   2,   6,   1,   2]],\n",
       "      dtype=int32)"
      ]
     },
     "execution_count": 28,
     "metadata": {},
     "output_type": "execute_result"
    }
   ],
   "source": [
    "X_few_vectors.toarray()"
   ]
  },
  {
   "cell_type": "code",
   "execution_count": 29,
   "metadata": {},
   "outputs": [
    {
     "data": {
      "text/plain": [
       "{'the': 1,\n",
       " 'of': 2,\n",
       " 'number': 3,\n",
       " 'and': 4,\n",
       " 'url': 5,\n",
       " 'i': 6,\n",
       " 'to': 7,\n",
       " 'kernel': 8,\n",
       " 'all': 9,\n",
       " 'on': 10}"
      ]
     },
     "execution_count": 29,
     "metadata": {},
     "output_type": "execute_result"
    }
   ],
   "source": [
    "vocab_transformer.vocabulary_"
   ]
  },
  {
   "cell_type": "markdown",
   "metadata": {},
   "source": [
    "# Training"
   ]
  },
  {
   "cell_type": "code",
   "execution_count": 30,
   "metadata": {},
   "outputs": [],
   "source": [
    "from sklearn.pipeline import Pipeline\n",
    "\n",
    "preprocess_pipeline = Pipeline([\n",
    "    (\"email_to_wordcount\", EmailToWordCounterTransformer()),\n",
    "    (\"wordcount_to_vector\", WordCounterToVectorTransformer()),\n",
    "])\n",
    "\n",
    "X_train_transformed = preprocess_pipeline.fit_transform(X_train)"
   ]
  },
  {
   "cell_type": "code",
   "execution_count": 32,
   "metadata": {},
   "outputs": [
    {
     "data": {
      "text/plain": [
       "0.9800072825634624"
      ]
     },
     "execution_count": 32,
     "metadata": {},
     "output_type": "execute_result"
    }
   ],
   "source": [
    "from sklearn.linear_model import LogisticRegression\n",
    "from sklearn.model_selection import cross_val_score\n",
    "\n",
    "log_clf = LogisticRegression(max_iter=5000, random_state=42)\n",
    "score = cross_val_score(log_clf, X_train_transformed, y_train, cv=3)\n",
    "score.mean()"
   ]
  },
  {
   "cell_type": "code",
   "execution_count": 34,
   "metadata": {},
   "outputs": [
    {
     "name": "stdout",
     "output_type": "stream",
     "text": [
      "Precision: 98.06%\n",
      "Recall: 97.12%\n"
     ]
    }
   ],
   "source": [
    "from sklearn.metrics import precision_score, recall_score\n",
    "\n",
    "X_test_transformed = preprocess_pipeline.transform(X_test)\n",
    "\n",
    "log_clf = LogisticRegression(max_iter=5000, random_state=42)\n",
    "log_clf.fit(X_train_transformed, y_train)   \n",
    "\n",
    "y_pred = log_clf.predict(X_test_transformed)\n",
    "\n",
    "print(f\"Precision: {precision_score(y_test, y_pred):.2%}\")\n",
    "print(f\"Recall: {recall_score(y_test, y_pred):.2%}\")"
   ]
  }
 ],
 "metadata": {
  "kernelspec": {
   "display_name": ".venv",
   "language": "python",
   "name": "python3"
  },
  "language_info": {
   "codemirror_mode": {
    "name": "ipython",
    "version": 3
   },
   "file_extension": ".py",
   "mimetype": "text/x-python",
   "name": "python",
   "nbconvert_exporter": "python",
   "pygments_lexer": "ipython3",
   "version": "3.9.13"
  }
 },
 "nbformat": 4,
 "nbformat_minor": 2
}
