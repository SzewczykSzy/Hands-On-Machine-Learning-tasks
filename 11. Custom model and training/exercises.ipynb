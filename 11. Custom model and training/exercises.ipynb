{
 "cells": [
  {
   "cell_type": "markdown",
   "metadata": {},
   "source": [
    "# Ex. 12"
   ]
  },
  {
   "cell_type": "markdown",
   "metadata": {},
   "source": [
    "## a)"
   ]
  },
  {
   "cell_type": "code",
   "execution_count": 2,
   "metadata": {},
   "outputs": [],
   "source": [
    "import tensorflow as tf"
   ]
  },
  {
   "cell_type": "code",
   "execution_count": 3,
   "metadata": {},
   "outputs": [],
   "source": [
    "# def build(self, input_shape):\n",
    "#     self.alpha = self.add_weight(name=\"alpha\", shape=[input_shape[-1:]], dtype=tf.float32, initializer=\"ones\")\n",
    "#     self.beta = self.add_weight(name=\"beta\", shape=[input_shape[-1:]], dtype=tf.float32, initializer=\"zeros\")"
   ]
  },
  {
   "cell_type": "markdown",
   "metadata": {},
   "source": [
    "## b)"
   ]
  },
  {
   "cell_type": "code",
   "execution_count": null,
   "metadata": {},
   "outputs": [],
   "source": [
    "class MyDense(tf.keras.layers.Layer):\n",
    "    def __init__(self, eps, **kwargs):\n",
    "        super().__init__(**kwargs)\n",
    "        self.eps = eps\n",
    "\n",
    "    def build(self, input_shape):\n",
    "        self.alpha = self.add_weight(name=\"alpha\", shape=input_shape[-1:], dtype=tf.float32, initializer=\"ones\")\n",
    "        self.beta = self.add_weight(name=\"beta\", shape=input_shape[-1:], dtype=tf.float32, initializer=\"zeros\")\n",
    "\n",
    "    def call(self, X):\n",
    "        mu, var = tf.nn.moments(X, axes=-1, keepdims=True)\n",
    "        std = tf.sqrt(var)\n",
    "        return self.alpha * (X - mu)/(std + self.eps) + self.beta\n",
    "\n",
    "    def get_config(self):\n",
    "        base_config = super().get_config()\n",
    "        return {**base_config, \"eps\": self.eps}"
   ]
  }
 ],
 "metadata": {
  "kernelspec": {
   "display_name": ".venv",
   "language": "python",
   "name": "python3"
  },
  "language_info": {
   "codemirror_mode": {
    "name": "ipython",
    "version": 3
   },
   "file_extension": ".py",
   "mimetype": "text/x-python",
   "name": "python",
   "nbconvert_exporter": "python",
   "pygments_lexer": "ipython3",
   "version": "3.9.13"
  }
 },
 "nbformat": 4,
 "nbformat_minor": 2
}
