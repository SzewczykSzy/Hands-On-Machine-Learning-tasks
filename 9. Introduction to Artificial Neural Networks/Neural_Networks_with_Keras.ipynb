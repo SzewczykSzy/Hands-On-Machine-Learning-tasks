{
 "cells": [
  {
   "cell_type": "markdown",
   "metadata": {},
   "source": [
    "# Introduction to Artificial Neural Networks with Keras"
   ]
  },
  {
   "cell_type": "code",
   "execution_count": 1,
   "metadata": {},
   "outputs": [
    {
     "data": {
      "text/plain": [
       "array([ True, False])"
      ]
     },
     "execution_count": 1,
     "metadata": {},
     "output_type": "execute_result"
    }
   ],
   "source": [
    "import numpy as np\n",
    "from sklearn.datasets import load_iris\n",
    "from sklearn.linear_model import Perceptron\n",
    "\n",
    "iris = load_iris(as_frame=True)\n",
    "X = iris.data[[\"petal length (cm)\", \"petal width (cm)\"]].values\n",
    "y = (iris.target == 0) # Iris setosa\n",
    "\n",
    "per_clf = Perceptron(random_state=42)\n",
    "per_clf.fit(X, y)\n",
    "\n",
    "X_new = [[2, 0.5], [3, 1]]\n",
    "y_pred = per_clf.predict(X_new)\n",
    "y_pred"
   ]
  },
  {
   "cell_type": "markdown",
   "metadata": {},
   "source": [
    "## Regression MLPs"
   ]
  },
  {
   "cell_type": "code",
   "execution_count": 2,
   "metadata": {},
   "outputs": [
    {
     "data": {
      "text/plain": [
       "0.5053326657968837"
      ]
     },
     "execution_count": 2,
     "metadata": {},
     "output_type": "execute_result"
    }
   ],
   "source": [
    "from sklearn.datasets import fetch_california_housing\n",
    "from sklearn.metrics import root_mean_squared_error\n",
    "from sklearn.model_selection import train_test_split\n",
    "from sklearn.neural_network import MLPRegressor\n",
    "from sklearn.pipeline import make_pipeline\n",
    "from sklearn.preprocessing import StandardScaler\n",
    "\n",
    "housing = fetch_california_housing()\n",
    "X_train_full, X_test, y_train_full, y_test = train_test_split(housing.data, housing.target, random_state=42)\n",
    "X_train, X_valid, y_train, y_valid = train_test_split(X_train_full, y_train_full, random_state=42)\n",
    "\n",
    "mlp_reg = MLPRegressor(hidden_layer_sizes=[50, 50, 50], random_state=42)\n",
    "pipeline = make_pipeline(StandardScaler(), mlp_reg)\n",
    "pipeline.fit(X_train, y_train)\n",
    "\n",
    "y_pred = pipeline.predict(X_valid)\n",
    "rmse = root_mean_squared_error(y_valid, y_pred)\n",
    "rmse"
   ]
  },
  {
   "cell_type": "markdown",
   "metadata": {},
   "source": [
    "# Implementing MLPs with Keras\n",
    "## Building an Image Classifier Using the Sequential API\n",
    "### Using Keras to load the dataset"
   ]
  },
  {
   "cell_type": "code",
   "execution_count": 3,
   "metadata": {},
   "outputs": [],
   "source": [
    "import tensorflow as tf\n",
    "\n",
    "fashion_mnist = tf.keras.datasets.fashion_mnist.load_data()\n",
    "\n",
    "(X_train_full, y_train_full), (X_test, y_test) = fashion_mnist\n",
    "X_train, y_train = X_train_full[:-5000], y_train_full[:-5000]\n",
    "X_valid, y_valid = X_train_full[-5000:], y_train_full[-5000:]"
   ]
  },
  {
   "cell_type": "code",
   "execution_count": 4,
   "metadata": {},
   "outputs": [
    {
     "data": {
      "text/plain": [
       "(55000, 28, 28)"
      ]
     },
     "execution_count": 4,
     "metadata": {},
     "output_type": "execute_result"
    }
   ],
   "source": [
    "X_train.shape"
   ]
  },
  {
   "cell_type": "code",
   "execution_count": 5,
   "metadata": {},
   "outputs": [
    {
     "data": {
      "text/plain": [
       "dtype('uint8')"
      ]
     },
     "execution_count": 5,
     "metadata": {},
     "output_type": "execute_result"
    }
   ],
   "source": [
    "X_train.dtype"
   ]
  },
  {
   "cell_type": "code",
   "execution_count": 6,
   "metadata": {},
   "outputs": [],
   "source": [
    "X_train, X_valid, X_test = X_train / 255., X_valid / 255., X_test / 255"
   ]
  },
  {
   "cell_type": "code",
   "execution_count": 7,
   "metadata": {},
   "outputs": [],
   "source": [
    "class_names = [\"T-shirt/top\", \"Trouser\", \"Pullover\", \"Dress\", \"Coat\", \"Sandal\", \"Shirt\", \"Sneaker\", \"Bag\", \"Ankle boot\"]"
   ]
  },
  {
   "cell_type": "code",
   "execution_count": 8,
   "metadata": {},
   "outputs": [
    {
     "data": {
      "text/plain": [
       "'Ankle boot'"
      ]
     },
     "execution_count": 8,
     "metadata": {},
     "output_type": "execute_result"
    }
   ],
   "source": [
    "class_names[y_train[0]]"
   ]
  },
  {
   "cell_type": "markdown",
   "metadata": {},
   "source": [
    "### Creating the model using the sequential API"
   ]
  },
  {
   "cell_type": "code",
   "execution_count": 9,
   "metadata": {},
   "outputs": [],
   "source": [
    "tf.random.set_seed(42)\n",
    "\n",
    "model = tf.keras.Sequential()\n",
    "model.add(tf.keras.layers.Input(shape=[28, 28]))\n",
    "model.add(tf.keras.layers.Flatten())\n",
    "model.add(tf.keras.layers.Dense(300, activation=\"relu\"))\n",
    "model.add(tf.keras.layers.Dense(100, activation=\"relu\"))\n",
    "model.add(tf.keras.layers.Dense(10, activation=\"softmax\"))"
   ]
  },
  {
   "cell_type": "code",
   "execution_count": 10,
   "metadata": {},
   "outputs": [],
   "source": [
    "tf.keras.backend.clear_session()\n",
    "\n",
    "model = tf.keras.Sequential([\n",
    "tf.keras.layers.Flatten(input_shape=[28, 28]),\n",
    "tf.keras.layers.Dense(300, activation=\"relu\"),\n",
    "tf.keras.layers.Dense(100, activation=\"relu\"),\n",
    "tf.keras.layers.Dense(10, activation=\"softmax\")\n",
    "])"
   ]
  },
  {
   "cell_type": "code",
   "execution_count": 11,
   "metadata": {},
   "outputs": [
    {
     "name": "stdout",
     "output_type": "stream",
     "text": [
      "Model: \"sequential\"\n",
      "_________________________________________________________________\n",
      " Layer (type)                Output Shape              Param #   \n",
      "=================================================================\n",
      " flatten (Flatten)           (None, 784)               0         \n",
      "                                                                 \n",
      " dense (Dense)               (None, 300)               235500    \n",
      "                                                                 \n",
      " dense_1 (Dense)             (None, 100)               30100     \n",
      "                                                                 \n",
      " dense_2 (Dense)             (None, 10)                1010      \n",
      "                                                                 \n",
      "=================================================================\n",
      "Total params: 266,610\n",
      "Trainable params: 266,610\n",
      "Non-trainable params: 0\n",
      "_________________________________________________________________\n"
     ]
    }
   ],
   "source": [
    "model.summary()"
   ]
  },
  {
   "cell_type": "code",
   "execution_count": 12,
   "metadata": {},
   "outputs": [
    {
     "data": {
      "text/plain": [
       "[<keras.layers.reshaping.flatten.Flatten at 0x238d19cee50>,\n",
       " <keras.layers.core.dense.Dense at 0x238a6b5d2e0>,\n",
       " <keras.layers.core.dense.Dense at 0x238a6b5dbe0>,\n",
       " <keras.layers.core.dense.Dense at 0x238b0b4a220>]"
      ]
     },
     "execution_count": 12,
     "metadata": {},
     "output_type": "execute_result"
    }
   ],
   "source": [
    "model.layers"
   ]
  },
  {
   "cell_type": "code",
   "execution_count": 13,
   "metadata": {},
   "outputs": [
    {
     "data": {
      "text/plain": [
       "'dense'"
      ]
     },
     "execution_count": 13,
     "metadata": {},
     "output_type": "execute_result"
    }
   ],
   "source": [
    "hidden1 = model.layers[1]\n",
    "hidden1.name"
   ]
  },
  {
   "cell_type": "code",
   "execution_count": 14,
   "metadata": {},
   "outputs": [
    {
     "data": {
      "text/plain": [
       "True"
      ]
     },
     "execution_count": 14,
     "metadata": {},
     "output_type": "execute_result"
    }
   ],
   "source": [
    "model.get_layer('dense') is hidden1"
   ]
  },
  {
   "cell_type": "code",
   "execution_count": 15,
   "metadata": {},
   "outputs": [
    {
     "data": {
      "text/plain": [
       "array([[ 0.06116877,  0.06353503, -0.05060947, ...,  0.03129612,\n",
       "        -0.01579849, -0.04661714],\n",
       "       [ 0.00960366, -0.06561635, -0.04307916, ...,  0.06230925,\n",
       "         0.02395992, -0.01928115],\n",
       "       [-0.03532127,  0.05574727,  0.01197916, ...,  0.06260018,\n",
       "         0.01971903,  0.04356291],\n",
       "       ...,\n",
       "       [ 0.06424178, -0.01934123,  0.05357184, ..., -0.07402465,\n",
       "         0.06724738,  0.05543239],\n",
       "       [-0.02207049, -0.05249362,  0.03843149, ...,  0.017296  ,\n",
       "         0.02805458, -0.03693282],\n",
       "       [-0.02556239, -0.03230207, -0.06461984, ..., -0.00895464,\n",
       "         0.06191176,  0.02109194]], dtype=float32)"
      ]
     },
     "execution_count": 15,
     "metadata": {},
     "output_type": "execute_result"
    }
   ],
   "source": [
    "weights, biases = hidden1.get_weights()\n",
    "weights"
   ]
  },
  {
   "cell_type": "code",
   "execution_count": 16,
   "metadata": {},
   "outputs": [
    {
     "data": {
      "text/plain": [
       "(784, 300)"
      ]
     },
     "execution_count": 16,
     "metadata": {},
     "output_type": "execute_result"
    }
   ],
   "source": [
    "weights.shape"
   ]
  },
  {
   "cell_type": "code",
   "execution_count": 17,
   "metadata": {},
   "outputs": [
    {
     "data": {
      "text/plain": [
       "array([0., 0., 0., 0., 0., 0., 0., 0., 0., 0., 0., 0., 0., 0., 0., 0., 0.,\n",
       "       0., 0., 0., 0., 0., 0., 0., 0., 0., 0., 0., 0., 0., 0., 0., 0., 0.,\n",
       "       0., 0., 0., 0., 0., 0., 0., 0., 0., 0., 0., 0., 0., 0., 0., 0., 0.,\n",
       "       0., 0., 0., 0., 0., 0., 0., 0., 0., 0., 0., 0., 0., 0., 0., 0., 0.,\n",
       "       0., 0., 0., 0., 0., 0., 0., 0., 0., 0., 0., 0., 0., 0., 0., 0., 0.,\n",
       "       0., 0., 0., 0., 0., 0., 0., 0., 0., 0., 0., 0., 0., 0., 0., 0., 0.,\n",
       "       0., 0., 0., 0., 0., 0., 0., 0., 0., 0., 0., 0., 0., 0., 0., 0., 0.,\n",
       "       0., 0., 0., 0., 0., 0., 0., 0., 0., 0., 0., 0., 0., 0., 0., 0., 0.,\n",
       "       0., 0., 0., 0., 0., 0., 0., 0., 0., 0., 0., 0., 0., 0., 0., 0., 0.,\n",
       "       0., 0., 0., 0., 0., 0., 0., 0., 0., 0., 0., 0., 0., 0., 0., 0., 0.,\n",
       "       0., 0., 0., 0., 0., 0., 0., 0., 0., 0., 0., 0., 0., 0., 0., 0., 0.,\n",
       "       0., 0., 0., 0., 0., 0., 0., 0., 0., 0., 0., 0., 0., 0., 0., 0., 0.,\n",
       "       0., 0., 0., 0., 0., 0., 0., 0., 0., 0., 0., 0., 0., 0., 0., 0., 0.,\n",
       "       0., 0., 0., 0., 0., 0., 0., 0., 0., 0., 0., 0., 0., 0., 0., 0., 0.,\n",
       "       0., 0., 0., 0., 0., 0., 0., 0., 0., 0., 0., 0., 0., 0., 0., 0., 0.,\n",
       "       0., 0., 0., 0., 0., 0., 0., 0., 0., 0., 0., 0., 0., 0., 0., 0., 0.,\n",
       "       0., 0., 0., 0., 0., 0., 0., 0., 0., 0., 0., 0., 0., 0., 0., 0., 0.,\n",
       "       0., 0., 0., 0., 0., 0., 0., 0., 0., 0., 0.], dtype=float32)"
      ]
     },
     "execution_count": 17,
     "metadata": {},
     "output_type": "execute_result"
    }
   ],
   "source": [
    "biases"
   ]
  },
  {
   "cell_type": "code",
   "execution_count": 18,
   "metadata": {},
   "outputs": [
    {
     "data": {
      "text/plain": [
       "(300,)"
      ]
     },
     "execution_count": 18,
     "metadata": {},
     "output_type": "execute_result"
    }
   ],
   "source": [
    "biases.shape"
   ]
  },
  {
   "cell_type": "markdown",
   "metadata": {},
   "source": [
    "### Compiling the model"
   ]
  },
  {
   "cell_type": "code",
   "execution_count": 19,
   "metadata": {},
   "outputs": [],
   "source": [
    "model.compile(loss=\"sparse_categorical_crossentropy\",\n",
    "              optimizer=\"sgd\",\n",
    "              metrics=[\"accuracy\"])"
   ]
  },
  {
   "cell_type": "markdown",
   "metadata": {},
   "source": [
    "### Training and evaluating the model"
   ]
  },
  {
   "cell_type": "code",
   "execution_count": 20,
   "metadata": {},
   "outputs": [
    {
     "name": "stdout",
     "output_type": "stream",
     "text": [
      "Epoch 1/30\n"
     ]
    },
    {
     "name": "stdout",
     "output_type": "stream",
     "text": [
      "1719/1719 [==============================] - 6s 3ms/step - loss: 0.7103 - accuracy: 0.7659 - val_loss: 0.5009 - val_accuracy: 0.8258\n",
      "Epoch 2/30\n",
      "1719/1719 [==============================] - 5s 3ms/step - loss: 0.4850 - accuracy: 0.8308 - val_loss: 0.4607 - val_accuracy: 0.8368\n",
      "Epoch 3/30\n",
      "1719/1719 [==============================] - 5s 3ms/step - loss: 0.4383 - accuracy: 0.8459 - val_loss: 0.4223 - val_accuracy: 0.8530\n",
      "Epoch 4/30\n",
      "1719/1719 [==============================] - 5s 3ms/step - loss: 0.4133 - accuracy: 0.8558 - val_loss: 0.3954 - val_accuracy: 0.8610\n",
      "Epoch 5/30\n",
      "1719/1719 [==============================] - 5s 3ms/step - loss: 0.3920 - accuracy: 0.8628 - val_loss: 0.3863 - val_accuracy: 0.8654\n",
      "Epoch 6/30\n",
      "1719/1719 [==============================] - 6s 3ms/step - loss: 0.3753 - accuracy: 0.8676 - val_loss: 0.3916 - val_accuracy: 0.8642\n",
      "Epoch 7/30\n",
      "1719/1719 [==============================] - 5s 3ms/step - loss: 0.3623 - accuracy: 0.8721 - val_loss: 0.3703 - val_accuracy: 0.8710\n",
      "Epoch 8/30\n",
      "1719/1719 [==============================] - 4s 2ms/step - loss: 0.3501 - accuracy: 0.8766 - val_loss: 0.3674 - val_accuracy: 0.8682\n",
      "Epoch 9/30\n",
      "1719/1719 [==============================] - 3s 2ms/step - loss: 0.3391 - accuracy: 0.8806 - val_loss: 0.3503 - val_accuracy: 0.8756\n",
      "Epoch 10/30\n",
      "1719/1719 [==============================] - 3s 2ms/step - loss: 0.3287 - accuracy: 0.8820 - val_loss: 0.3479 - val_accuracy: 0.8748\n",
      "Epoch 11/30\n",
      "1719/1719 [==============================] - 3s 2ms/step - loss: 0.3199 - accuracy: 0.8867 - val_loss: 0.3665 - val_accuracy: 0.8660\n",
      "Epoch 12/30\n",
      "1719/1719 [==============================] - 4s 2ms/step - loss: 0.3125 - accuracy: 0.8879 - val_loss: 0.3468 - val_accuracy: 0.8714\n",
      "Epoch 13/30\n",
      "1719/1719 [==============================] - 5s 3ms/step - loss: 0.3053 - accuracy: 0.8912 - val_loss: 0.3266 - val_accuracy: 0.8818\n",
      "Epoch 14/30\n",
      "1719/1719 [==============================] - 5s 3ms/step - loss: 0.2979 - accuracy: 0.8931 - val_loss: 0.3359 - val_accuracy: 0.8794\n",
      "Epoch 15/30\n",
      "1719/1719 [==============================] - 5s 3ms/step - loss: 0.2925 - accuracy: 0.8960 - val_loss: 0.3391 - val_accuracy: 0.8750\n",
      "Epoch 16/30\n",
      "1719/1719 [==============================] - 5s 3ms/step - loss: 0.2854 - accuracy: 0.8973 - val_loss: 0.3283 - val_accuracy: 0.8786\n",
      "Epoch 17/30\n",
      "1719/1719 [==============================] - 5s 3ms/step - loss: 0.2804 - accuracy: 0.8994 - val_loss: 0.3328 - val_accuracy: 0.8782\n",
      "Epoch 18/30\n",
      "1719/1719 [==============================] - 5s 3ms/step - loss: 0.2745 - accuracy: 0.9012 - val_loss: 0.3233 - val_accuracy: 0.8820\n",
      "Epoch 19/30\n",
      "1719/1719 [==============================] - 5s 3ms/step - loss: 0.2697 - accuracy: 0.9034 - val_loss: 0.3406 - val_accuracy: 0.8720\n",
      "Epoch 20/30\n",
      "1719/1719 [==============================] - 5s 3ms/step - loss: 0.2647 - accuracy: 0.9050 - val_loss: 0.3177 - val_accuracy: 0.8818\n",
      "Epoch 21/30\n",
      "1719/1719 [==============================] - 5s 3ms/step - loss: 0.2595 - accuracy: 0.9068 - val_loss: 0.3108 - val_accuracy: 0.8846\n",
      "Epoch 22/30\n",
      "1719/1719 [==============================] - 5s 3ms/step - loss: 0.2547 - accuracy: 0.9073 - val_loss: 0.3143 - val_accuracy: 0.8844\n",
      "Epoch 23/30\n",
      "1719/1719 [==============================] - 5s 3ms/step - loss: 0.2504 - accuracy: 0.9096 - val_loss: 0.3428 - val_accuracy: 0.8730\n",
      "Epoch 24/30\n",
      "1719/1719 [==============================] - 5s 3ms/step - loss: 0.2454 - accuracy: 0.9118 - val_loss: 0.3142 - val_accuracy: 0.8826\n",
      "Epoch 25/30\n",
      "1719/1719 [==============================] - 5s 3ms/step - loss: 0.2413 - accuracy: 0.9124 - val_loss: 0.3142 - val_accuracy: 0.8846\n",
      "Epoch 26/30\n",
      "1719/1719 [==============================] - 5s 3ms/step - loss: 0.2379 - accuracy: 0.9145 - val_loss: 0.3099 - val_accuracy: 0.8848\n",
      "Epoch 27/30\n",
      "1719/1719 [==============================] - 5s 3ms/step - loss: 0.2325 - accuracy: 0.9158 - val_loss: 0.3183 - val_accuracy: 0.8858\n",
      "Epoch 28/30\n",
      "1719/1719 [==============================] - 5s 3ms/step - loss: 0.2298 - accuracy: 0.9173 - val_loss: 0.3089 - val_accuracy: 0.8874\n",
      "Epoch 29/30\n",
      "1719/1719 [==============================] - 5s 3ms/step - loss: 0.2253 - accuracy: 0.9188 - val_loss: 0.3130 - val_accuracy: 0.8838\n",
      "Epoch 30/30\n",
      "1719/1719 [==============================] - 5s 3ms/step - loss: 0.2220 - accuracy: 0.9208 - val_loss: 0.3051 - val_accuracy: 0.8896\n"
     ]
    }
   ],
   "source": [
    "history = model.fit(X_train, y_train, epochs=30, validation_data=(X_valid, y_valid))"
   ]
  },
  {
   "cell_type": "code",
   "execution_count": 21,
   "metadata": {},
   "outputs": [
    {
     "data": {
      "image/png": "[encoded data removed]",
      "text/plain": [
       "<Figure size 800x500 with 1 Axes>"
      ]
     },
     "metadata": {},
     "output_type": "display_data"
    }
   ],
   "source": [
    "import matplotlib.pyplot as plt\n",
    "import pandas as pd\n",
    "\n",
    "pd.DataFrame(history.history).plot(figsize=(8, 5), xlim=[0, 29], ylim=[0, 1], grid=True, xlabel=\"Epoch\",\n",
    "                                   style=[\"r--\", \"r--.\", \"b-\", \"b-*\"])\n",
    "plt.show()"
   ]
  },
  {
   "cell_type": "code",
   "execution_count": 22,
   "metadata": {},
   "outputs": [
    {
     "name": "stdout",
     "output_type": "stream",
     "text": [
      "313/313 [==============================] - 1s 2ms/step - loss: 0.3254 - accuracy: 0.8834\n"
     ]
    },
    {
     "data": {
      "text/plain": [
       "[0.32537132501602173, 0.883400022983551]"
      ]
     },
     "execution_count": 22,
     "metadata": {},
     "output_type": "execute_result"
    }
   ],
   "source": [
    "model.evaluate(X_test, y_test)"
   ]
  },
  {
   "cell_type": "markdown",
   "metadata": {},
   "source": [
    "### Using the model to make predictions"
   ]
  },
  {
   "cell_type": "code",
   "execution_count": 23,
   "metadata": {},
   "outputs": [
    {
     "name": "stdout",
     "output_type": "stream",
     "text": [
      "1/1 [==============================] - 0s 136ms/step\n"
     ]
    },
    {
     "data": {
      "text/plain": [
       "array([[0.  , 0.  , 0.  , 0.  , 0.  , 0.  , 0.  , 0.02, 0.  , 0.98],\n",
       "       [0.  , 0.  , 1.  , 0.  , 0.  , 0.  , 0.  , 0.  , 0.  , 0.  ],\n",
       "       [0.  , 1.  , 0.  , 0.  , 0.  , 0.  , 0.  , 0.  , 0.  , 0.  ]],\n",
       "      dtype=float32)"
      ]
     },
     "execution_count": 23,
     "metadata": {},
     "output_type": "execute_result"
    }
   ],
   "source": [
    "X_new = X_test[:3]\n",
    "y_proba = model.predict(X_new)\n",
    "y_proba.round(2)"
   ]
  },
  {
   "cell_type": "code",
   "execution_count": 24,
   "metadata": {},
   "outputs": [
    {
     "data": {
      "text/plain": [
       "array([9, 2, 1], dtype=int64)"
      ]
     },
     "execution_count": 24,
     "metadata": {},
     "output_type": "execute_result"
    }
   ],
   "source": [
    "import numpy as np\n",
    "\n",
    "y_pred = y_proba.argmax(axis=-1)\n",
    "y_pred"
   ]
  },
  {
   "cell_type": "code",
   "execution_count": 25,
   "metadata": {},
   "outputs": [
    {
     "data": {
      "text/plain": [
       "array(['Ankle boot', 'Pullover', 'Trouser'], dtype='<U11')"
      ]
     },
     "execution_count": 25,
     "metadata": {},
     "output_type": "execute_result"
    }
   ],
   "source": [
    "np.array(class_names)[y_pred]"
   ]
  },
  {
   "cell_type": "code",
   "execution_count": 26,
   "metadata": {},
   "outputs": [
    {
     "data": {
      "text/plain": [
       "array([9, 2, 1], dtype=uint8)"
      ]
     },
     "execution_count": 26,
     "metadata": {},
     "output_type": "execute_result"
    }
   ],
   "source": [
    "y_new = y_test[:3]\n",
    "y_new"
   ]
  },
  {
   "cell_type": "markdown",
   "metadata": {},
   "source": [
    "## Building a Regression MLP Using the Sequential API"
   ]
  },
  {
   "cell_type": "code",
   "execution_count": 39,
   "metadata": {},
   "outputs": [],
   "source": [
    "housing = fetch_california_housing()\n",
    "X_train_full, X_test, y_train_full, y_test = train_test_split(\n",
    "    housing.data, housing.target, random_state=42)\n",
    "X_train, X_valid, y_train, y_valid = train_test_split(\n",
    "    X_train_full, y_train_full, random_state=42)"
   ]
  },
  {
   "cell_type": "code",
   "execution_count": 40,
   "metadata": {},
   "outputs": [
    {
     "name": "stdout",
     "output_type": "stream",
     "text": [
      "Epoch 1/20\n",
      "363/363 [==============================] - 1s 2ms/step - loss: 0.8585 - root_mean_squared_error: 0.9266 - val_loss: 0.4253 - val_root_mean_squared_error: 0.6521\n",
      "Epoch 2/20\n",
      "363/363 [==============================] - 1s 2ms/step - loss: 0.3814 - root_mean_squared_error: 0.6176 - val_loss: 1.4057 - val_root_mean_squared_error: 1.1856\n",
      "Epoch 3/20\n",
      "363/363 [==============================] - 1s 2ms/step - loss: 0.3767 - root_mean_squared_error: 0.6138 - val_loss: 0.5101 - val_root_mean_squared_error: 0.7142\n",
      "Epoch 4/20\n",
      "363/363 [==============================] - 0s 1ms/step - loss: 0.3528 - root_mean_squared_error: 0.5939 - val_loss: 1.2950 - val_root_mean_squared_error: 1.1380\n",
      "Epoch 5/20\n",
      "363/363 [==============================] - 0s 1ms/step - loss: 0.3371 - root_mean_squared_error: 0.5806 - val_loss: 2.3469 - val_root_mean_squared_error: 1.5320\n",
      "Epoch 6/20\n",
      "363/363 [==============================] - 1s 1ms/step - loss: 0.3429 - root_mean_squared_error: 0.5856 - val_loss: 0.5625 - val_root_mean_squared_error: 0.7500\n",
      "Epoch 7/20\n",
      "363/363 [==============================] - 1s 2ms/step - loss: 0.3206 - root_mean_squared_error: 0.5662 - val_loss: 1.6033 - val_root_mean_squared_error: 1.2662\n",
      "Epoch 8/20\n",
      "363/363 [==============================] - 1s 1ms/step - loss: 0.3146 - root_mean_squared_error: 0.5609 - val_loss: 0.8682 - val_root_mean_squared_error: 0.9318\n",
      "Epoch 9/20\n",
      "363/363 [==============================] - 1s 1ms/step - loss: 0.3099 - root_mean_squared_error: 0.5567 - val_loss: 0.9282 - val_root_mean_squared_error: 0.9634\n",
      "Epoch 10/20\n",
      "363/363 [==============================] - 1s 2ms/step - loss: 0.3022 - root_mean_squared_error: 0.5497 - val_loss: 0.2925 - val_root_mean_squared_error: 0.5409\n",
      "Epoch 11/20\n",
      "363/363 [==============================] - 1s 2ms/step - loss: 0.2945 - root_mean_squared_error: 0.5427 - val_loss: 0.3508 - val_root_mean_squared_error: 0.5923\n",
      "Epoch 12/20\n",
      "363/363 [==============================] - 1s 2ms/step - loss: 0.2952 - root_mean_squared_error: 0.5434 - val_loss: 0.5380 - val_root_mean_squared_error: 0.7335\n",
      "Epoch 13/20\n",
      "363/363 [==============================] - 1s 2ms/step - loss: 0.2882 - root_mean_squared_error: 0.5368 - val_loss: 0.3267 - val_root_mean_squared_error: 0.5715\n",
      "Epoch 14/20\n",
      "363/363 [==============================] - 0s 1ms/step - loss: 0.2851 - root_mean_squared_error: 0.5339 - val_loss: 0.5452 - val_root_mean_squared_error: 0.7384\n",
      "Epoch 15/20\n",
      "363/363 [==============================] - 1s 1ms/step - loss: 0.2847 - root_mean_squared_error: 0.5336 - val_loss: 0.3771 - val_root_mean_squared_error: 0.6141\n",
      "Epoch 16/20\n",
      "363/363 [==============================] - 1s 2ms/step - loss: 0.2829 - root_mean_squared_error: 0.5319 - val_loss: 0.4959 - val_root_mean_squared_error: 0.7042\n",
      "Epoch 17/20\n",
      "363/363 [==============================] - 1s 2ms/step - loss: 0.2791 - root_mean_squared_error: 0.5283 - val_loss: 0.2922 - val_root_mean_squared_error: 0.5405\n",
      "Epoch 18/20\n",
      "363/363 [==============================] - 1s 1ms/step - loss: 0.2743 - root_mean_squared_error: 0.5238 - val_loss: 0.6326 - val_root_mean_squared_error: 0.7954\n",
      "Epoch 19/20\n",
      "363/363 [==============================] - 1s 1ms/step - loss: 0.2729 - root_mean_squared_error: 0.5224 - val_loss: 0.2803 - val_root_mean_squared_error: 0.5294\n",
      "Epoch 20/20\n",
      "363/363 [==============================] - 1s 1ms/step - loss: 0.2740 - root_mean_squared_error: 0.5235 - val_loss: 0.4354 - val_root_mean_squared_error: 0.6599\n",
      "162/162 [==============================] - 0s 1ms/step - loss: 0.2800 - root_mean_squared_error: 0.5291\n",
      "1/1 [==============================] - 0s 56ms/step\n"
     ]
    }
   ],
   "source": [
    "tf.random.set_seed(42)\n",
    "norm_layer = tf.keras.layers.Normalization(input_shape=X_train.shape[1:])\n",
    "\n",
    "model = tf.keras.Sequential([norm_layer,\n",
    "    tf.keras.layers.Dense(50, activation=\"relu\"),\n",
    "    tf.keras.layers.Dense(50, activation=\"relu\"),\n",
    "    tf.keras.layers.Dense(50, activation=\"relu\"),\n",
    "    tf.keras.layers.Dense(1)])\n",
    "\n",
    "optimizer = tf.keras.optimizers.Adam(learning_rate=1e-3)\n",
    "\n",
    "model.compile(loss=\"mse\", optimizer=optimizer, metrics=[\"RootMeanSquaredError\"])\n",
    "\n",
    "norm_layer.adapt(X_train)\n",
    "history = model.fit(X_train, y_train, epochs=20, validation_data=(X_valid, y_valid))\n",
    "\n",
    "mse_test, rmse_test = model.evaluate(X_test, y_test)\n",
    "\n",
    "X_new = X_test[:3]\n",
    "y_pred = model.predict(X_new)"
   ]
  },
  {
   "cell_type": "code",
   "execution_count": 41,
   "metadata": {},
   "outputs": [
    {
     "name": "stdout",
     "output_type": "stream",
     "text": [
      "Model: \"sequential\"\n",
      "_________________________________________________________________\n",
      " Layer (type)                Output Shape              Param #   \n",
      "=================================================================\n",
      " normalization_5 (Normalizat  (None, 8)                17        \n",
      " ion)                                                            \n",
      "                                                                 \n",
      " dense_9 (Dense)             (None, 50)                450       \n",
      "                                                                 \n",
      " dense_10 (Dense)            (None, 50)                2550      \n",
      "                                                                 \n",
      " dense_11 (Dense)            (None, 50)                2550      \n",
      "                                                                 \n",
      " dense_12 (Dense)            (None, 1)                 51        \n",
      "                                                                 \n",
      "=================================================================\n",
      "Total params: 5,618\n",
      "Trainable params: 5,601\n",
      "Non-trainable params: 17\n",
      "_________________________________________________________________\n"
     ]
    }
   ],
   "source": [
    "model.summary()"
   ]
  },
  {
   "cell_type": "markdown",
   "metadata": {},
   "source": [
    "## Building Complex Models Using the Functional API"
   ]
  },
  {
   "cell_type": "code",
   "execution_count": 42,
   "metadata": {},
   "outputs": [
    {
     "name": "stdout",
     "output_type": "stream",
     "text": [
      "Model: \"model\"\n",
      "__________________________________________________________________________________________________\n",
      " Layer (type)                   Output Shape         Param #     Connected to                     \n",
      "==================================================================================================\n",
      " input_1 (InputLayer)           [(None, 8)]          0           []                               \n",
      "                                                                                                  \n"
     ]
    },
    {
     "name": "stdout",
     "output_type": "stream",
     "text": [
      " normalization (Normalization)  (None, 8)            17          ['input_1[0][0]']                \n",
      "                                                                                                  \n",
      " dense (Dense)                  (None, 30)           270         ['normalization[0][0]']          \n",
      "                                                                                                  \n",
      " dense_1 (Dense)                (None, 30)           930         ['dense[0][0]']                  \n",
      "                                                                                                  \n",
      " concatenate (Concatenate)      (None, 38)           0           ['normalization[0][0]',          \n",
      "                                                                  'dense_1[0][0]']                \n",
      "                                                                                                  \n",
      " dense_2 (Dense)                (None, 1)            39          ['concatenate[0][0]']            \n",
      "                                                                                                  \n",
      "==================================================================================================\n",
      "Total params: 1,256\n",
      "Trainable params: 1,239\n",
      "Non-trainable params: 17\n",
      "__________________________________________________________________________________________________\n"
     ]
    }
   ],
   "source": [
    "tf.keras.backend.clear_session()\n",
    "tf.random.set_seed(42)\n",
    "\n",
    "normalization_layer = tf.keras.layers.Normalization()\n",
    "hidden_layer1 = tf.keras.layers.Dense(30, activation=\"relu\")\n",
    "hidden_layer2 = tf.keras.layers.Dense(30, activation=\"relu\")\n",
    "concat_layer = tf.keras.layers.Concatenate()\n",
    "output_layer = tf.keras.layers.Dense(1)\n",
    "\n",
    "input_ = tf.keras.layers.Input(shape=X_train.shape[1:])\n",
    "normalized = normalization_layer(input_)\n",
    "hidden1 = hidden_layer1(normalized)\n",
    "hidden2 = hidden_layer2(hidden1)\n",
    "concat = concat_layer([normalized, hidden2])\n",
    "output = output_layer(concat)\n",
    "\n",
    "model = tf.keras.Model(inputs=[input_], outputs=[output])\n",
    "\n",
    "model.summary()"
   ]
  },
  {
   "cell_type": "code",
   "execution_count": 43,
   "metadata": {},
   "outputs": [
    {
     "name": "stdout",
     "output_type": "stream",
     "text": [
      "Epoch 1/20\n",
      "363/363 [==============================] - 1s 2ms/step - loss: 1.3291 - root_mean_squared_error: 1.1529 - val_loss: 0.9167 - val_root_mean_squared_error: 0.9575\n",
      "Epoch 2/20\n",
      "363/363 [==============================] - 1s 2ms/step - loss: 0.4601 - root_mean_squared_error: 0.6783 - val_loss: 1.9956 - val_root_mean_squared_error: 1.4127\n",
      "Epoch 3/20\n",
      "363/363 [==============================] - 0s 1ms/step - loss: 0.4087 - root_mean_squared_error: 0.6393 - val_loss: 0.4600 - val_root_mean_squared_error: 0.6783\n",
      "Epoch 4/20\n",
      "363/363 [==============================] - 0s 1ms/step - loss: 0.3788 - root_mean_squared_error: 0.6155 - val_loss: 0.5312 - val_root_mean_squared_error: 0.7288\n",
      "Epoch 5/20\n",
      "363/363 [==============================] - 0s 1ms/step - loss: 0.3695 - root_mean_squared_error: 0.6079 - val_loss: 2.3280 - val_root_mean_squared_error: 1.5258\n",
      "Epoch 6/20\n",
      "363/363 [==============================] - 1s 1ms/step - loss: 0.3727 - root_mean_squared_error: 0.6105 - val_loss: 3.1171 - val_root_mean_squared_error: 1.7655\n",
      "Epoch 7/20\n",
      "363/363 [==============================] - 0s 1ms/step - loss: 0.3677 - root_mean_squared_error: 0.6064 - val_loss: 0.7579 - val_root_mean_squared_error: 0.8706\n",
      "Epoch 8/20\n",
      "363/363 [==============================] - 1s 2ms/step - loss: 0.3385 - root_mean_squared_error: 0.5818 - val_loss: 0.4709 - val_root_mean_squared_error: 0.6862\n",
      "Epoch 9/20\n",
      "363/363 [==============================] - 0s 1ms/step - loss: 0.3337 - root_mean_squared_error: 0.5776 - val_loss: 0.8583 - val_root_mean_squared_error: 0.9265\n",
      "Epoch 10/20\n",
      "363/363 [==============================] - 0s 1ms/step - loss: 0.3318 - root_mean_squared_error: 0.5760 - val_loss: 2.0534 - val_root_mean_squared_error: 1.4330\n",
      "Epoch 11/20\n",
      "363/363 [==============================] - 0s 1ms/step - loss: 0.3330 - root_mean_squared_error: 0.5771 - val_loss: 1.0175 - val_root_mean_squared_error: 1.0087\n",
      "Epoch 12/20\n",
      "363/363 [==============================] - 1s 1ms/step - loss: 0.3504 - root_mean_squared_error: 0.5919 - val_loss: 1.8467 - val_root_mean_squared_error: 1.3589\n",
      "Epoch 13/20\n",
      "363/363 [==============================] - 1s 1ms/step - loss: 0.3284 - root_mean_squared_error: 0.5731 - val_loss: 0.5735 - val_root_mean_squared_error: 0.7573\n",
      "Epoch 14/20\n",
      "363/363 [==============================] - 0s 1ms/step - loss: 0.3184 - root_mean_squared_error: 0.5643 - val_loss: 0.6697 - val_root_mean_squared_error: 0.8183\n",
      "Epoch 15/20\n",
      "363/363 [==============================] - 1s 2ms/step - loss: 0.3142 - root_mean_squared_error: 0.5606 - val_loss: 1.3775 - val_root_mean_squared_error: 1.1737\n",
      "Epoch 16/20\n",
      "363/363 [==============================] - 1s 2ms/step - loss: 0.3148 - root_mean_squared_error: 0.5611 - val_loss: 1.6683 - val_root_mean_squared_error: 1.2916\n",
      "Epoch 17/20\n",
      "363/363 [==============================] - 1s 2ms/step - loss: 0.3165 - root_mean_squared_error: 0.5626 - val_loss: 1.1529 - val_root_mean_squared_error: 1.0737\n",
      "Epoch 18/20\n",
      "363/363 [==============================] - 1s 2ms/step - loss: 0.3089 - root_mean_squared_error: 0.5558 - val_loss: 4.5298 - val_root_mean_squared_error: 2.1283\n",
      "Epoch 19/20\n",
      "363/363 [==============================] - 1s 2ms/step - loss: 0.3290 - root_mean_squared_error: 0.5736 - val_loss: 2.9117 - val_root_mean_squared_error: 1.7064\n",
      "Epoch 20/20\n",
      "363/363 [==============================] - 1s 2ms/step - loss: 0.3425 - root_mean_squared_error: 0.5853 - val_loss: 1.3943 - val_root_mean_squared_error: 1.1808\n",
      "162/162 [==============================] - 0s 1ms/step - loss: 0.3082 - root_mean_squared_error: 0.5552\n",
      "WARNING:tensorflow:5 out of the last 5 calls to <function Model.make_predict_function.<locals>.predict_function at 0x00000238D6738430> triggered tf.function retracing. Tracing is expensive and the excessive number of tracings could be due to (1) creating @tf.function repeatedly in a loop, (2) passing tensors with different shapes, (3) passing Python objects instead of tensors. For (1), please define your @tf.function outside of the loop. For (2), @tf.function has reduce_retracing=True option that can avoid unnecessary retracing. For (3), please refer to https://www.tensorflow.org/guide/function#controlling_retracing and https://www.tensorflow.org/api_docs/python/tf/function for  more details.\n",
      "1/1 [==============================] - 0s 433ms/step\n"
     ]
    }
   ],
   "source": [
    "optimizer = tf.keras.optimizers.Adam(learning_rate=1e-3)\n",
    "model.compile(loss=\"mse\", optimizer=optimizer, metrics=[\"RootMeanSquaredError\"])\n",
    "\n",
    "normalization_layer.adapt(X_train)\n",
    "history = model.fit(X_train, y_train, epochs=20, validation_data=(X_valid, y_valid))\n",
    "mse_test = model.evaluate(X_test, y_test)\n",
    "y_pred = model.predict(X_new)"
   ]
  },
  {
   "cell_type": "code",
   "execution_count": 44,
   "metadata": {},
   "outputs": [],
   "source": [
    "input_wide = tf.keras.layers.Input(shape=[5])  # features 0 to 4\n",
    "input_deep = tf.keras.layers.Input(shape=[6])  # features 2 to 7\n",
    "norm_layer_wide = tf.keras.layers.Normalization()\n",
    "norm_layer_deep = tf.keras.layers.Normalization()\n",
    "norm_wide = norm_layer_wide(input_wide)\n",
    "norm_deep = norm_layer_deep(input_deep)\n",
    "hidden1 = tf.keras.layers.Dense(30, activation=\"relu\")(norm_deep)\n",
    "hidden2 = tf.keras.layers.Dense(30, activation=\"relu\")(hidden1)\n",
    "concat = tf.keras.layers.concatenate([norm_wide, hidden2])\n",
    "output = tf.keras.layers.Dense(1)(concat)\n",
    "model = tf.keras.Model(inputs=[input_wide, input_deep], outputs=[output])"
   ]
  },
  {
   "cell_type": "code",
   "execution_count": 45,
   "metadata": {},
   "outputs": [
    {
     "name": "stdout",
     "output_type": "stream",
     "text": [
      "Epoch 1/20\n",
      "363/363 [==============================] - 1s 2ms/step - loss: 1.4642 - root_mean_squared_error: 1.2100 - val_loss: 0.6147 - val_root_mean_squared_error: 0.7841\n",
      "Epoch 2/20\n",
      "363/363 [==============================] - 1s 1ms/step - loss: 0.5211 - root_mean_squared_error: 0.7219 - val_loss: 0.6211 - val_root_mean_squared_error: 0.7881\n",
      "Epoch 3/20\n",
      "363/363 [==============================] - 1s 1ms/step - loss: 0.4467 - root_mean_squared_error: 0.6684 - val_loss: 0.4214 - val_root_mean_squared_error: 0.6491\n",
      "Epoch 4/20\n",
      "363/363 [==============================] - 0s 1ms/step - loss: 0.4148 - root_mean_squared_error: 0.6440 - val_loss: 0.4298 - val_root_mean_squared_error: 0.6556\n",
      "Epoch 5/20\n",
      "363/363 [==============================] - 1s 1ms/step - loss: 0.3988 - root_mean_squared_error: 0.6315 - val_loss: 0.3647 - val_root_mean_squared_error: 0.6039\n",
      "Epoch 6/20\n",
      "363/363 [==============================] - 1s 1ms/step - loss: 0.3818 - root_mean_squared_error: 0.6179 - val_loss: 0.5588 - val_root_mean_squared_error: 0.7475\n",
      "Epoch 7/20\n",
      "363/363 [==============================] - 1s 2ms/step - loss: 0.3790 - root_mean_squared_error: 0.6156 - val_loss: 0.8952 - val_root_mean_squared_error: 0.9462\n",
      "Epoch 8/20\n",
      "363/363 [==============================] - 1s 2ms/step - loss: 0.3690 - root_mean_squared_error: 0.6075 - val_loss: 0.5253 - val_root_mean_squared_error: 0.7248\n",
      "Epoch 9/20\n",
      "363/363 [==============================] - 1s 1ms/step - loss: 0.3674 - root_mean_squared_error: 0.6061 - val_loss: 3.3930 - val_root_mean_squared_error: 1.8420\n",
      "Epoch 10/20\n",
      "363/363 [==============================] - 1s 1ms/step - loss: 0.3861 - root_mean_squared_error: 0.6213 - val_loss: 2.4495 - val_root_mean_squared_error: 1.5651\n",
      "Epoch 11/20\n",
      "363/363 [==============================] - 1s 1ms/step - loss: 0.3698 - root_mean_squared_error: 0.6081 - val_loss: 0.3415 - val_root_mean_squared_error: 0.5844\n",
      "Epoch 12/20\n",
      "363/363 [==============================] - 1s 1ms/step - loss: 0.3586 - root_mean_squared_error: 0.5989 - val_loss: 0.4221 - val_root_mean_squared_error: 0.6497\n",
      "Epoch 13/20\n",
      "363/363 [==============================] - 1s 1ms/step - loss: 0.3531 - root_mean_squared_error: 0.5942 - val_loss: 0.3342 - val_root_mean_squared_error: 0.5781\n",
      "Epoch 14/20\n",
      "363/363 [==============================] - 1s 1ms/step - loss: 0.3501 - root_mean_squared_error: 0.5917 - val_loss: 0.3204 - val_root_mean_squared_error: 0.5661\n",
      "Epoch 15/20\n",
      "363/363 [==============================] - 1s 1ms/step - loss: 0.3461 - root_mean_squared_error: 0.5883 - val_loss: 0.3265 - val_root_mean_squared_error: 0.5714\n",
      "Epoch 16/20\n",
      "363/363 [==============================] - 0s 1ms/step - loss: 0.3453 - root_mean_squared_error: 0.5877 - val_loss: 0.3269 - val_root_mean_squared_error: 0.5718\n",
      "Epoch 17/20\n",
      "363/363 [==============================] - 0s 1ms/step - loss: 0.3429 - root_mean_squared_error: 0.5856 - val_loss: 0.4530 - val_root_mean_squared_error: 0.6730\n",
      "Epoch 18/20\n",
      "363/363 [==============================] - 1s 1ms/step - loss: 0.3413 - root_mean_squared_error: 0.5842 - val_loss: 0.8732 - val_root_mean_squared_error: 0.9345\n",
      "Epoch 19/20\n",
      "363/363 [==============================] - 1s 1ms/step - loss: 0.3424 - root_mean_squared_error: 0.5851 - val_loss: 1.2604 - val_root_mean_squared_error: 1.1227\n",
      "Epoch 20/20\n",
      "363/363 [==============================] - 1s 1ms/step - loss: 0.3496 - root_mean_squared_error: 0.5913 - val_loss: 0.7566 - val_root_mean_squared_error: 0.8698\n",
      "162/162 [==============================] - 0s 977us/step - loss: 0.3342 - root_mean_squared_error: 0.5781\n",
      "WARNING:tensorflow:6 out of the last 6 calls to <function Model.make_predict_function.<locals>.predict_function at 0x00000238D1B92E50> triggered tf.function retracing. Tracing is expensive and the excessive number of tracings could be due to (1) creating @tf.function repeatedly in a loop, (2) passing tensors with different shapes, (3) passing Python objects instead of tensors. For (1), please define your @tf.function outside of the loop. For (2), @tf.function has reduce_retracing=True option that can avoid unnecessary retracing. For (3), please refer to https://www.tensorflow.org/guide/function#controlling_retracing and https://www.tensorflow.org/api_docs/python/tf/function for  more details.\n",
      "1/1 [==============================] - 0s 62ms/step\n"
     ]
    }
   ],
   "source": [
    "optimizer = tf.keras.optimizers.Adam(learning_rate=1e-3)\n",
    "model.compile(loss=\"mse\", optimizer=optimizer, metrics=[\"RootMeanSquaredError\"])\n",
    "\n",
    "X_train_wide, X_train_deep = X_train[:, :5], X_train[:, 2:]\n",
    "X_valid_wide, X_valid_deep = X_valid[:, :5], X_valid[:, 2:]\n",
    "X_test_wide, X_test_deep = X_test[:, :5], X_test[:, 2:]\n",
    "X_new_wide, X_new_deep = X_test_wide[:3], X_test_deep[:3]\n",
    "\n",
    "norm_layer_wide.adapt(X_train_wide)\n",
    "norm_layer_deep.adapt(X_train_deep)\n",
    "history = model.fit((X_train_wide, X_train_deep), y_train, epochs=20,\n",
    "                    validation_data=((X_valid_wide, X_valid_deep), y_valid))\n",
    "mse_test = model.evaluate((X_test_wide, X_test_deep), y_test)\n",
    "y_pred = model.predict((X_new_wide, X_new_deep))"
   ]
  },
  {
   "cell_type": "code",
   "execution_count": 46,
   "metadata": {},
   "outputs": [],
   "source": [
    "input_wide = tf.keras.layers.Input(shape=[5])  # features 0 to 4\n",
    "input_deep = tf.keras.layers.Input(shape=[6])  # features 2 to 7\n",
    "norm_layer_wide = tf.keras.layers.Normalization()\n",
    "norm_layer_deep = tf.keras.layers.Normalization()\n",
    "norm_wide = norm_layer_wide(input_wide)\n",
    "norm_deep = norm_layer_deep(input_deep)\n",
    "hidden1 = tf.keras.layers.Dense(30, activation=\"relu\")(norm_deep)\n",
    "hidden2 = tf.keras.layers.Dense(30, activation=\"relu\")(hidden1)\n",
    "concat = tf.keras.layers.concatenate([norm_wide, hidden2])\n",
    "\n",
    "output = tf.keras.layers.Dense(1)(concat)\n",
    "aux_output = tf.keras.layers.Dense(1)(hidden2)\n",
    "model = tf.keras.Model(inputs=[input_wide, input_deep],\n",
    "                       outputs=[output, aux_output])"
   ]
  },
  {
   "cell_type": "code",
   "execution_count": 47,
   "metadata": {},
   "outputs": [],
   "source": [
    "optimizer = tf.keras.optimizers.Adam(learning_rate=1e-3)\n",
    "model.compile(loss=(\"mse\", \"mse\"), loss_weights=(0.9, 0.1), optimizer=optimizer, metrics=[\"RootMeanSquaredError\"])"
   ]
  },
  {
   "cell_type": "code",
   "execution_count": 48,
   "metadata": {},
   "outputs": [
    {
     "name": "stdout",
     "output_type": "stream",
     "text": [
      "Epoch 1/20\n",
      "363/363 [==============================] - 1s 2ms/step - loss: 1.5640 - dense_8_loss: 1.4953 - dense_9_loss: 2.1822 - dense_8_root_mean_squared_error: 1.2228 - dense_9_root_mean_squared_error: 1.4772 - val_loss: 2.3437 - val_dense_8_loss: 2.4110 - val_dense_9_loss: 1.7380 - val_dense_8_root_mean_squared_error: 1.5527 - val_dense_9_root_mean_squared_error: 1.3183\n",
      "Epoch 2/20\n",
      "363/363 [==============================] - 1s 2ms/step - loss: 0.5812 - dense_8_loss: 0.5424 - dense_9_loss: 0.9306 - dense_8_root_mean_squared_error: 0.7365 - dense_9_root_mean_squared_error: 0.9647 - val_loss: 0.8972 - val_dense_8_loss: 0.9091 - val_dense_9_loss: 0.7893 - val_dense_8_root_mean_squared_error: 0.9535 - val_dense_9_root_mean_squared_error: 0.8884\n",
      "Epoch 3/20\n",
      "363/363 [==============================] - 1s 1ms/step - loss: 0.4579 - dense_8_loss: 0.4363 - dense_9_loss: 0.6524 - dense_8_root_mean_squared_error: 0.6605 - dense_9_root_mean_squared_error: 0.8077 - val_loss: 0.7410 - val_dense_8_loss: 0.7551 - val_dense_9_loss: 0.6144 - val_dense_8_root_mean_squared_error: 0.8690 - val_dense_9_root_mean_squared_error: 0.7838\n",
      "Epoch 4/20\n",
      "363/363 [==============================] - 1s 2ms/step - loss: 0.4281 - dense_8_loss: 0.4107 - dense_9_loss: 0.5844 - dense_8_root_mean_squared_error: 0.6409 - dense_9_root_mean_squared_error: 0.7645 - val_loss: 0.4070 - val_dense_8_loss: 0.3878 - val_dense_9_loss: 0.5799 - val_dense_8_root_mean_squared_error: 0.6228 - val_dense_9_root_mean_squared_error: 0.7615\n",
      "Epoch 5/20\n",
      "363/363 [==============================] - 1s 2ms/step - loss: 0.4115 - dense_8_loss: 0.3964 - dense_9_loss: 0.5476 - dense_8_root_mean_squared_error: 0.6296 - dense_9_root_mean_squared_error: 0.7400 - val_loss: 0.3762 - val_dense_8_loss: 0.3602 - val_dense_9_loss: 0.5201 - val_dense_8_root_mean_squared_error: 0.6002 - val_dense_9_root_mean_squared_error: 0.7212\n",
      "Epoch 6/20\n",
      "363/363 [==============================] - 1s 2ms/step - loss: 0.3922 - dense_8_loss: 0.3786 - dense_9_loss: 0.5143 - dense_8_root_mean_squared_error: 0.6153 - dense_9_root_mean_squared_error: 0.7172 - val_loss: 0.5427 - val_dense_8_loss: 0.5272 - val_dense_9_loss: 0.6822 - val_dense_8_root_mean_squared_error: 0.7261 - val_dense_9_root_mean_squared_error: 0.8259\n",
      "Epoch 7/20\n",
      "363/363 [==============================] - 1s 2ms/step - loss: 0.3845 - dense_8_loss: 0.3730 - dense_9_loss: 0.4887 - dense_8_root_mean_squared_error: 0.6107 - dense_9_root_mean_squared_error: 0.6991 - val_loss: 0.5170 - val_dense_8_loss: 0.5118 - val_dense_9_loss: 0.5646 - val_dense_8_root_mean_squared_error: 0.7154 - val_dense_9_root_mean_squared_error: 0.7514\n",
      "Epoch 8/20\n",
      "363/363 [==============================] - 1s 2ms/step - loss: 0.3749 - dense_8_loss: 0.3641 - dense_9_loss: 0.4722 - dense_8_root_mean_squared_error: 0.6034 - dense_9_root_mean_squared_error: 0.6872 - val_loss: 0.9214 - val_dense_8_loss: 0.8941 - val_dense_9_loss: 1.1665 - val_dense_8_root_mean_squared_error: 0.9456 - val_dense_9_root_mean_squared_error: 1.0800\n",
      "Epoch 9/20\n",
      "363/363 [==============================] - 1s 2ms/step - loss: 0.3688 - dense_8_loss: 0.3587 - dense_9_loss: 0.4593 - dense_8_root_mean_squared_error: 0.5989 - dense_9_root_mean_squared_error: 0.6777 - val_loss: 0.5906 - val_dense_8_loss: 0.5926 - val_dense_9_loss: 0.5733 - val_dense_8_root_mean_squared_error: 0.7698 - val_dense_9_root_mean_squared_error: 0.7572\n",
      "Epoch 10/20\n",
      "363/363 [==============================] - 1s 2ms/step - loss: 0.3672 - dense_8_loss: 0.3577 - dense_9_loss: 0.4526 - dense_8_root_mean_squared_error: 0.5981 - dense_9_root_mean_squared_error: 0.6728 - val_loss: 1.1767 - val_dense_8_loss: 1.1666 - val_dense_9_loss: 1.2678 - val_dense_8_root_mean_squared_error: 1.0801 - val_dense_9_root_mean_squared_error: 1.1259\n",
      "Epoch 11/20\n",
      "363/363 [==============================] - 1s 2ms/step - loss: 0.3607 - dense_8_loss: 0.3517 - dense_9_loss: 0.4417 - dense_8_root_mean_squared_error: 0.5930 - dense_9_root_mean_squared_error: 0.6646 - val_loss: 0.7079 - val_dense_8_loss: 0.6880 - val_dense_9_loss: 0.8869 - val_dense_8_root_mean_squared_error: 0.8295 - val_dense_9_root_mean_squared_error: 0.9418\n",
      "Epoch 12/20\n",
      "363/363 [==============================] - 1s 2ms/step - loss: 0.3684 - dense_8_loss: 0.3591 - dense_9_loss: 0.4522 - dense_8_root_mean_squared_error: 0.5992 - dense_9_root_mean_squared_error: 0.6725 - val_loss: 0.5058 - val_dense_8_loss: 0.5007 - val_dense_9_loss: 0.5511 - val_dense_8_root_mean_squared_error: 0.7076 - val_dense_9_root_mean_squared_error: 0.7423\n",
      "Epoch 13/20\n",
      "363/363 [==============================] - 1s 2ms/step - loss: 0.3559 - dense_8_loss: 0.3475 - dense_9_loss: 0.4319 - dense_8_root_mean_squared_error: 0.5895 - dense_9_root_mean_squared_error: 0.6572 - val_loss: 0.3295 - val_dense_8_loss: 0.3197 - val_dense_9_loss: 0.4176 - val_dense_8_root_mean_squared_error: 0.5654 - val_dense_9_root_mean_squared_error: 0.6462\n",
      "Epoch 14/20\n",
      "363/363 [==============================] - 1s 2ms/step - loss: 0.3541 - dense_8_loss: 0.3445 - dense_9_loss: 0.4398 - dense_8_root_mean_squared_error: 0.5870 - dense_9_root_mean_squared_error: 0.6632 - val_loss: 0.3296 - val_dense_8_loss: 0.3177 - val_dense_9_loss: 0.4358 - val_dense_8_root_mean_squared_error: 0.5637 - val_dense_9_root_mean_squared_error: 0.6601\n",
      "Epoch 15/20\n",
      "363/363 [==============================] - 1s 2ms/step - loss: 0.3470 - dense_8_loss: 0.3392 - dense_9_loss: 0.4178 - dense_8_root_mean_squared_error: 0.5824 - dense_9_root_mean_squared_error: 0.6464 - val_loss: 0.3395 - val_dense_8_loss: 0.3271 - val_dense_9_loss: 0.4512 - val_dense_8_root_mean_squared_error: 0.5719 - val_dense_9_root_mean_squared_error: 0.6717\n",
      "Epoch 16/20\n",
      "363/363 [==============================] - 1s 2ms/step - loss: 0.3434 - dense_8_loss: 0.3358 - dense_9_loss: 0.4119 - dense_8_root_mean_squared_error: 0.5795 - dense_9_root_mean_squared_error: 0.6418 - val_loss: 0.3471 - val_dense_8_loss: 0.3413 - val_dense_9_loss: 0.3992 - val_dense_8_root_mean_squared_error: 0.5842 - val_dense_9_root_mean_squared_error: 0.6318\n",
      "Epoch 17/20\n",
      "363/363 [==============================] - 1s 1ms/step - loss: 0.3436 - dense_8_loss: 0.3361 - dense_9_loss: 0.4102 - dense_8_root_mean_squared_error: 0.5798 - dense_9_root_mean_squared_error: 0.6405 - val_loss: 0.4643 - val_dense_8_loss: 0.4388 - val_dense_9_loss: 0.6936 - val_dense_8_root_mean_squared_error: 0.6624 - val_dense_9_root_mean_squared_error: 0.8329\n",
      "Epoch 18/20\n",
      "363/363 [==============================] - 1s 2ms/step - loss: 0.3390 - dense_8_loss: 0.3317 - dense_9_loss: 0.4054 - dense_8_root_mean_squared_error: 0.5759 - dense_9_root_mean_squared_error: 0.6367 - val_loss: 0.3557 - val_dense_8_loss: 0.3507 - val_dense_9_loss: 0.4009 - val_dense_8_root_mean_squared_error: 0.5922 - val_dense_9_root_mean_squared_error: 0.6332\n",
      "Epoch 19/20\n",
      "363/363 [==============================] - 1s 2ms/step - loss: 0.3352 - dense_8_loss: 0.3280 - dense_9_loss: 0.3995 - dense_8_root_mean_squared_error: 0.5727 - dense_9_root_mean_squared_error: 0.6321 - val_loss: 0.3413 - val_dense_8_loss: 0.3306 - val_dense_9_loss: 0.4375 - val_dense_8_root_mean_squared_error: 0.5750 - val_dense_9_root_mean_squared_error: 0.6615\n",
      "Epoch 20/20\n",
      "363/363 [==============================] - 1s 2ms/step - loss: 0.3369 - dense_8_loss: 0.3301 - dense_9_loss: 0.3980 - dense_8_root_mean_squared_error: 0.5745 - dense_9_root_mean_squared_error: 0.6308 - val_loss: 0.3204 - val_dense_8_loss: 0.3111 - val_dense_9_loss: 0.4037 - val_dense_8_root_mean_squared_error: 0.5578 - val_dense_9_root_mean_squared_error: 0.6354\n"
     ]
    }
   ],
   "source": [
    "norm_layer_wide.adapt(X_train_wide)\n",
    "norm_layer_deep.adapt(X_train_deep)\n",
    "history = model.fit((X_train_wide, X_train_deep), (y_train, y_train), epochs=20,\n",
    "                     validation_data=((X_valid_wide, X_valid_deep), (y_valid, y_valid)))"
   ]
  },
  {
   "cell_type": "code",
   "execution_count": 49,
   "metadata": {},
   "outputs": [
    {
     "name": "stdout",
     "output_type": "stream",
     "text": [
      "162/162 [==============================] - 0s 1ms/step - loss: 0.3336 - dense_8_loss: 0.3271 - dense_9_loss: 0.3925 - dense_8_root_mean_squared_error: 0.5719 - dense_9_root_mean_squared_error: 0.6265\n"
     ]
    }
   ],
   "source": [
    "eval_results = model.evaluate((X_test_wide, X_test_deep), (y_test, y_test))\n",
    "\n",
    "weighted_sum_of_losses, main_loss, aux_loss, main_rmse, aux_rmse = eval_results"
   ]
  },
  {
   "cell_type": "code",
   "execution_count": 50,
   "metadata": {},
   "outputs": [
    {
     "name": "stdout",
     "output_type": "stream",
     "text": [
      "1/1 [==============================] - 0s 71ms/step\n"
     ]
    }
   ],
   "source": [
    "y_pred_tuple = model.predict((X_new_wide, X_new_deep))\n",
    "y_pred = dict(zip(model.output_names, y_pred_tuple))"
   ]
  },
  {
   "cell_type": "code",
   "execution_count": 51,
   "metadata": {},
   "outputs": [
    {
     "data": {
      "text/plain": [
       "{'dense_8': array([[0.48841256],\n",
       "        [1.0061742 ],\n",
       "        [3.5655792 ]], dtype=float32),\n",
       " 'dense_9': array([[0.47742867],\n",
       "        [0.8480834 ],\n",
       "        [3.4496036 ]], dtype=float32)}"
      ]
     },
     "execution_count": 51,
     "metadata": {},
     "output_type": "execute_result"
    }
   ],
   "source": [
    "y_pred "
   ]
  },
  {
   "cell_type": "markdown",
   "metadata": {},
   "source": [
    "## Using the Subclassing API to Build Dynamic Models"
   ]
  }
 ],
 "metadata": {
  "kernelspec": {
   "display_name": ".venv",
   "language": "python",
   "name": "python3"
  },
  "language_info": {
   "codemirror_mode": {
    "name": "ipython",
    "version": 3
   },
   "file_extension": ".py",
   "mimetype": "text/x-python",
   "name": "python",
   "nbconvert_exporter": "python",
   "pygments_lexer": "ipython3",
   "version": "3.9.13"
  }
 },
 "nbformat": 4,
 "nbformat_minor": 2
}
