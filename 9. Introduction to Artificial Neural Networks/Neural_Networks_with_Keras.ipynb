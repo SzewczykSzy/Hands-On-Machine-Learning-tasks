{
 "cells": [
  {
   "cell_type": "markdown",
   "metadata": {},
   "source": [
    "# Introduction to Artificial Neural Networks with Keras"
   ]
  },
  {
   "cell_type": "code",
   "execution_count": 1,
   "metadata": {},
   "outputs": [
    {
     "data": {
      "text/plain": [
       "array([ True, False])"
      ]
     },
     "execution_count": 1,
     "metadata": {},
     "output_type": "execute_result"
    }
   ],
   "source": [
    "import numpy as np\n",
    "from sklearn.datasets import load_iris\n",
    "from sklearn.linear_model import Perceptron\n",
    "\n",
    "iris = load_iris(as_frame=True)\n",
    "X = iris.data[[\"petal length (cm)\", \"petal width (cm)\"]].values\n",
    "y = (iris.target == 0) # Iris setosa\n",
    "\n",
    "per_clf = Perceptron(random_state=42)\n",
    "per_clf.fit(X, y)\n",
    "\n",
    "X_new = [[2, 0.5], [3, 1]]\n",
    "y_pred = per_clf.predict(X_new)\n",
    "y_pred"
   ]
  },
  {
   "cell_type": "markdown",
   "metadata": {},
   "source": [
    "## Regression MLPs"
   ]
  },
  {
   "cell_type": "code",
   "execution_count": 2,
   "metadata": {},
   "outputs": [
    {
     "data": {
      "text/plain": [
       "0.5053326657968837"
      ]
     },
     "execution_count": 2,
     "metadata": {},
     "output_type": "execute_result"
    }
   ],
   "source": [
    "from sklearn.datasets import fetch_california_housing\n",
    "from sklearn.metrics import root_mean_squared_error\n",
    "from sklearn.model_selection import train_test_split\n",
    "from sklearn.neural_network import MLPRegressor\n",
    "from sklearn.pipeline import make_pipeline\n",
    "from sklearn.preprocessing import StandardScaler\n",
    "\n",
    "housing = fetch_california_housing()\n",
    "X_train_full, X_test, y_train_full, y_test = train_test_split(housing.data, housing.target, random_state=42)\n",
    "X_train, X_valid, y_train, y_valid = train_test_split(X_train_full, y_train_full, random_state=42)\n",
    "\n",
    "mlp_reg = MLPRegressor(hidden_layer_sizes=[50, 50, 50], random_state=42)\n",
    "pipeline = make_pipeline(StandardScaler(), mlp_reg)\n",
    "pipeline.fit(X_train, y_train)\n",
    "\n",
    "y_pred = pipeline.predict(X_valid)\n",
    "rmse = root_mean_squared_error(y_valid, y_pred)\n",
    "rmse"
   ]
  },
  {
   "cell_type": "markdown",
   "metadata": {},
   "source": [
    "# Implementing MLPs with Keras\n",
    "## Building an Image Classifier Using the Sequential API\n",
    "### Using Keras to load the dataset"
   ]
  },
  {
   "cell_type": "code",
   "execution_count": 3,
   "metadata": {},
   "outputs": [],
   "source": [
    "import tensorflow as tf\n",
    "\n",
    "fashion_mnist = tf.keras.datasets.fashion_mnist.load_data()\n",
    "\n",
    "(X_train_full, y_train_full), (X_test, y_test) = fashion_mnist\n",
    "X_train, y_train = X_train_full[:-5000], y_train_full[:-5000]\n",
    "X_valid, y_valid = X_train_full[-5000:], y_train_full[-5000:]"
   ]
  },
  {
   "cell_type": "code",
   "execution_count": 4,
   "metadata": {},
   "outputs": [
    {
     "data": {
      "text/plain": [
       "(55000, 28, 28)"
      ]
     },
     "execution_count": 4,
     "metadata": {},
     "output_type": "execute_result"
    }
   ],
   "source": [
    "X_train.shape"
   ]
  },
  {
   "cell_type": "code",
   "execution_count": 5,
   "metadata": {},
   "outputs": [
    {
     "data": {
      "text/plain": [
       "dtype('uint8')"
      ]
     },
     "execution_count": 5,
     "metadata": {},
     "output_type": "execute_result"
    }
   ],
   "source": [
    "X_train.dtype"
   ]
  },
  {
   "cell_type": "code",
   "execution_count": 6,
   "metadata": {},
   "outputs": [],
   "source": [
    "X_train, X_valid, X_test = X_train / 255., X_valid / 255., X_test / 255"
   ]
  },
  {
   "cell_type": "code",
   "execution_count": 7,
   "metadata": {},
   "outputs": [],
   "source": [
    "class_names = [\"T-shirt/top\", \"Trouser\", \"Pullover\", \"Dress\", \"Coat\", \"Sandal\", \"Shirt\", \"Sneaker\", \"Bag\", \"Ankle boot\"]"
   ]
  },
  {
   "cell_type": "code",
   "execution_count": 8,
   "metadata": {},
   "outputs": [
    {
     "data": {
      "text/plain": [
       "'Ankle boot'"
      ]
     },
     "execution_count": 8,
     "metadata": {},
     "output_type": "execute_result"
    }
   ],
   "source": [
    "class_names[y_train[0]]"
   ]
  },
  {
   "cell_type": "markdown",
   "metadata": {},
   "source": [
    "### Creating the model using the sequential API"
   ]
  },
  {
   "cell_type": "code",
   "execution_count": 9,
   "metadata": {},
   "outputs": [],
   "source": [
    "tf.random.set_seed(42)\n",
    "\n",
    "model = tf.keras.Sequential()\n",
    "model.add(tf.keras.layers.Input(shape=[28, 28]))\n",
    "model.add(tf.keras.layers.Flatten())\n",
    "model.add(tf.keras.layers.Dense(300, activation=\"relu\"))\n",
    "model.add(tf.keras.layers.Dense(100, activation=\"relu\"))\n",
    "model.add(tf.keras.layers.Dense(10, activation=\"softmax\"))"
   ]
  },
  {
   "cell_type": "code",
   "execution_count": 10,
   "metadata": {},
   "outputs": [],
   "source": [
    "tf.keras.backend.clear_session()\n",
    "\n",
    "model = tf.keras.Sequential([\n",
    "tf.keras.layers.Flatten(input_shape=[28, 28]),\n",
    "tf.keras.layers.Dense(300, activation=\"relu\"),\n",
    "tf.keras.layers.Dense(100, activation=\"relu\"),\n",
    "tf.keras.layers.Dense(10, activation=\"softmax\")\n",
    "])"
   ]
  },
  {
   "cell_type": "code",
   "execution_count": 11,
   "metadata": {},
   "outputs": [
    {
     "name": "stdout",
     "output_type": "stream",
     "text": [
      "Model: \"sequential\"\n",
      "_________________________________________________________________\n",
      " Layer (type)                Output Shape              Param #   \n",
      "=================================================================\n",
      " flatten (Flatten)           (None, 784)               0         \n",
      "                                                                 \n",
      " dense (Dense)               (None, 300)               235500    \n",
      "                                                                 \n",
      " dense_1 (Dense)             (None, 100)               30100     \n",
      "                                                                 \n",
      " dense_2 (Dense)             (None, 10)                1010      \n",
      "                                                                 \n",
      "=================================================================\n",
      "Total params: 266,610\n",
      "Trainable params: 266,610\n",
      "Non-trainable params: 0\n",
      "_________________________________________________________________\n"
     ]
    }
   ],
   "source": [
    "model.summary()"
   ]
  },
  {
   "cell_type": "code",
   "execution_count": 12,
   "metadata": {},
   "outputs": [
    {
     "data": {
      "text/plain": [
       "[<keras.layers.reshaping.flatten.Flatten at 0x142743101f0>,\n",
       " <keras.layers.core.dense.Dense at 0x14274310250>,\n",
       " <keras.layers.core.dense.Dense at 0x14274310be0>,\n",
       " <keras.layers.core.dense.Dense at 0x14274310550>]"
      ]
     },
     "execution_count": 12,
     "metadata": {},
     "output_type": "execute_result"
    }
   ],
   "source": [
    "model.layers"
   ]
  },
  {
   "cell_type": "code",
   "execution_count": 13,
   "metadata": {},
   "outputs": [
    {
     "data": {
      "text/plain": [
       "'dense'"
      ]
     },
     "execution_count": 13,
     "metadata": {},
     "output_type": "execute_result"
    }
   ],
   "source": [
    "hidden1 = model.layers[1]\n",
    "hidden1.name"
   ]
  },
  {
   "cell_type": "code",
   "execution_count": 14,
   "metadata": {},
   "outputs": [
    {
     "data": {
      "text/plain": [
       "True"
      ]
     },
     "execution_count": 14,
     "metadata": {},
     "output_type": "execute_result"
    }
   ],
   "source": [
    "model.get_layer('dense') is hidden1"
   ]
  },
  {
   "cell_type": "code",
   "execution_count": 15,
   "metadata": {},
   "outputs": [
    {
     "data": {
      "text/plain": [
       "array([[-0.00993955, -0.07321119,  0.04481428, ...,  0.02953981,\n",
       "        -0.0364147 ,  0.03540965],\n",
       "       [ 0.07092366,  0.04754715, -0.01547137, ...,  0.04100461,\n",
       "        -0.06771459, -0.04799179],\n",
       "       [-0.03540671, -0.03331302,  0.03820271, ...,  0.05556069,\n",
       "        -0.06386457, -0.04113103],\n",
       "       ...,\n",
       "       [ 0.02475516, -0.01995844,  0.0065624 , ...,  0.06495267,\n",
       "         0.0625219 ,  0.06119274],\n",
       "       [-0.06268387,  0.01690297, -0.01030149, ..., -0.04835094,\n",
       "         0.00113861,  0.05208772],\n",
       "       [ 0.03902057, -0.05624127,  0.03043231, ...,  0.07201478,\n",
       "        -0.01407286, -0.04839121]], dtype=float32)"
      ]
     },
     "execution_count": 15,
     "metadata": {},
     "output_type": "execute_result"
    }
   ],
   "source": [
    "weights, biases = hidden1.get_weights()\n",
    "weights"
   ]
  },
  {
   "cell_type": "code",
   "execution_count": 16,
   "metadata": {},
   "outputs": [
    {
     "data": {
      "text/plain": [
       "(784, 300)"
      ]
     },
     "execution_count": 16,
     "metadata": {},
     "output_type": "execute_result"
    }
   ],
   "source": [
    "weights.shape"
   ]
  },
  {
   "cell_type": "code",
   "execution_count": 17,
   "metadata": {},
   "outputs": [
    {
     "data": {
      "text/plain": [
       "array([0., 0., 0., 0., 0., 0., 0., 0., 0., 0., 0., 0., 0., 0., 0., 0., 0.,\n",
       "       0., 0., 0., 0., 0., 0., 0., 0., 0., 0., 0., 0., 0., 0., 0., 0., 0.,\n",
       "       0., 0., 0., 0., 0., 0., 0., 0., 0., 0., 0., 0., 0., 0., 0., 0., 0.,\n",
       "       0., 0., 0., 0., 0., 0., 0., 0., 0., 0., 0., 0., 0., 0., 0., 0., 0.,\n",
       "       0., 0., 0., 0., 0., 0., 0., 0., 0., 0., 0., 0., 0., 0., 0., 0., 0.,\n",
       "       0., 0., 0., 0., 0., 0., 0., 0., 0., 0., 0., 0., 0., 0., 0., 0., 0.,\n",
       "       0., 0., 0., 0., 0., 0., 0., 0., 0., 0., 0., 0., 0., 0., 0., 0., 0.,\n",
       "       0., 0., 0., 0., 0., 0., 0., 0., 0., 0., 0., 0., 0., 0., 0., 0., 0.,\n",
       "       0., 0., 0., 0., 0., 0., 0., 0., 0., 0., 0., 0., 0., 0., 0., 0., 0.,\n",
       "       0., 0., 0., 0., 0., 0., 0., 0., 0., 0., 0., 0., 0., 0., 0., 0., 0.,\n",
       "       0., 0., 0., 0., 0., 0., 0., 0., 0., 0., 0., 0., 0., 0., 0., 0., 0.,\n",
       "       0., 0., 0., 0., 0., 0., 0., 0., 0., 0., 0., 0., 0., 0., 0., 0., 0.,\n",
       "       0., 0., 0., 0., 0., 0., 0., 0., 0., 0., 0., 0., 0., 0., 0., 0., 0.,\n",
       "       0., 0., 0., 0., 0., 0., 0., 0., 0., 0., 0., 0., 0., 0., 0., 0., 0.,\n",
       "       0., 0., 0., 0., 0., 0., 0., 0., 0., 0., 0., 0., 0., 0., 0., 0., 0.,\n",
       "       0., 0., 0., 0., 0., 0., 0., 0., 0., 0., 0., 0., 0., 0., 0., 0., 0.,\n",
       "       0., 0., 0., 0., 0., 0., 0., 0., 0., 0., 0., 0., 0., 0., 0., 0., 0.,\n",
       "       0., 0., 0., 0., 0., 0., 0., 0., 0., 0., 0.], dtype=float32)"
      ]
     },
     "execution_count": 17,
     "metadata": {},
     "output_type": "execute_result"
    }
   ],
   "source": [
    "biases"
   ]
  },
  {
   "cell_type": "code",
   "execution_count": 18,
   "metadata": {},
   "outputs": [
    {
     "data": {
      "text/plain": [
       "(300,)"
      ]
     },
     "execution_count": 18,
     "metadata": {},
     "output_type": "execute_result"
    }
   ],
   "source": [
    "biases.shape"
   ]
  },
  {
   "cell_type": "markdown",
   "metadata": {},
   "source": [
    "### Compiling the model"
   ]
  },
  {
   "cell_type": "code",
   "execution_count": 19,
   "metadata": {},
   "outputs": [],
   "source": [
    "model.compile(loss=\"sparse_categorical_crossentropy\",\n",
    "              optimizer=\"sgd\",\n",
    "              metrics=[\"accuracy\"])"
   ]
  },
  {
   "cell_type": "markdown",
   "metadata": {},
   "source": [
    "### Training and evaluating the model"
   ]
  },
  {
   "cell_type": "code",
   "execution_count": 20,
   "metadata": {},
   "outputs": [
    {
     "name": "stdout",
     "output_type": "stream",
     "text": [
      "Epoch 1/30\n"
     ]
    },
    {
     "name": "stdout",
     "output_type": "stream",
     "text": [
      "1719/1719 [==============================] - 4s 2ms/step - loss: 0.7230 - accuracy: 0.7601 - val_loss: 0.5099 - val_accuracy: 0.8304\n",
      "Epoch 2/30\n",
      "1719/1719 [==============================] - 3s 2ms/step - loss: 0.4912 - accuracy: 0.8292 - val_loss: 0.4597 - val_accuracy: 0.8352\n",
      "Epoch 3/30\n",
      "1719/1719 [==============================] - 3s 2ms/step - loss: 0.4422 - accuracy: 0.8444 - val_loss: 0.4219 - val_accuracy: 0.8536\n",
      "Epoch 4/30\n",
      "1719/1719 [==============================] - 3s 2ms/step - loss: 0.4161 - accuracy: 0.8535 - val_loss: 0.3971 - val_accuracy: 0.8606\n",
      "Epoch 5/30\n",
      "1719/1719 [==============================] - 3s 2ms/step - loss: 0.3948 - accuracy: 0.8619 - val_loss: 0.3906 - val_accuracy: 0.8598\n",
      "Epoch 6/30\n",
      "1719/1719 [==============================] - 3s 2ms/step - loss: 0.3784 - accuracy: 0.8664 - val_loss: 0.3994 - val_accuracy: 0.8616\n",
      "Epoch 7/30\n",
      "1719/1719 [==============================] - 3s 2ms/step - loss: 0.3660 - accuracy: 0.8695 - val_loss: 0.3729 - val_accuracy: 0.8684\n",
      "Epoch 8/30\n",
      "1719/1719 [==============================] - 4s 2ms/step - loss: 0.3548 - accuracy: 0.8749 - val_loss: 0.3762 - val_accuracy: 0.8656\n",
      "Epoch 9/30\n",
      "1719/1719 [==============================] - 3s 2ms/step - loss: 0.3436 - accuracy: 0.8777 - val_loss: 0.3513 - val_accuracy: 0.8726\n",
      "Epoch 10/30\n",
      "1719/1719 [==============================] - 3s 2ms/step - loss: 0.3338 - accuracy: 0.8805 - val_loss: 0.3549 - val_accuracy: 0.8728\n",
      "Epoch 11/30\n",
      "1719/1719 [==============================] - 3s 2ms/step - loss: 0.3250 - accuracy: 0.8845 - val_loss: 0.3733 - val_accuracy: 0.8658\n",
      "Epoch 12/30\n",
      "1719/1719 [==============================] - 3s 2ms/step - loss: 0.3173 - accuracy: 0.8868 - val_loss: 0.3519 - val_accuracy: 0.8742\n",
      "Epoch 13/30\n",
      "1719/1719 [==============================] - 3s 2ms/step - loss: 0.3103 - accuracy: 0.8899 - val_loss: 0.3326 - val_accuracy: 0.8810\n",
      "Epoch 14/30\n",
      "1719/1719 [==============================] - 4s 2ms/step - loss: 0.3030 - accuracy: 0.8912 - val_loss: 0.3403 - val_accuracy: 0.8776\n",
      "Epoch 15/30\n",
      "1719/1719 [==============================] - 3s 2ms/step - loss: 0.2968 - accuracy: 0.8940 - val_loss: 0.3386 - val_accuracy: 0.8812\n",
      "Epoch 16/30\n",
      "1719/1719 [==============================] - 3s 2ms/step - loss: 0.2901 - accuracy: 0.8954 - val_loss: 0.3323 - val_accuracy: 0.8782\n",
      "Epoch 17/30\n",
      "1719/1719 [==============================] - 3s 2ms/step - loss: 0.2854 - accuracy: 0.8963 - val_loss: 0.3411 - val_accuracy: 0.8774\n",
      "Epoch 18/30\n",
      "1719/1719 [==============================] - 3s 2ms/step - loss: 0.2788 - accuracy: 0.8999 - val_loss: 0.3296 - val_accuracy: 0.8806\n",
      "Epoch 19/30\n",
      "1719/1719 [==============================] - 3s 2ms/step - loss: 0.2746 - accuracy: 0.9009 - val_loss: 0.3465 - val_accuracy: 0.8710\n",
      "Epoch 20/30\n",
      "1719/1719 [==============================] - 3s 2ms/step - loss: 0.2694 - accuracy: 0.9035 - val_loss: 0.3233 - val_accuracy: 0.8816\n",
      "Epoch 21/30\n",
      "1719/1719 [==============================] - 4s 2ms/step - loss: 0.2642 - accuracy: 0.9040 - val_loss: 0.3237 - val_accuracy: 0.8814\n",
      "Epoch 22/30\n",
      "1719/1719 [==============================] - 4s 3ms/step - loss: 0.2591 - accuracy: 0.9067 - val_loss: 0.3198 - val_accuracy: 0.8828\n",
      "Epoch 23/30\n",
      "1719/1719 [==============================] - 3s 2ms/step - loss: 0.2551 - accuracy: 0.9084 - val_loss: 0.3464 - val_accuracy: 0.8722\n",
      "Epoch 24/30\n",
      "1719/1719 [==============================] - 3s 2ms/step - loss: 0.2497 - accuracy: 0.9105 - val_loss: 0.3209 - val_accuracy: 0.8802\n",
      "Epoch 25/30\n",
      "1719/1719 [==============================] - 3s 2ms/step - loss: 0.2457 - accuracy: 0.9112 - val_loss: 0.3187 - val_accuracy: 0.8810\n",
      "Epoch 26/30\n",
      "1719/1719 [==============================] - 3s 2ms/step - loss: 0.2424 - accuracy: 0.9131 - val_loss: 0.3154 - val_accuracy: 0.8866\n",
      "Epoch 27/30\n",
      "1719/1719 [==============================] - 3s 2ms/step - loss: 0.2369 - accuracy: 0.9151 - val_loss: 0.3215 - val_accuracy: 0.8860\n",
      "Epoch 28/30\n",
      "1719/1719 [==============================] - 3s 2ms/step - loss: 0.2342 - accuracy: 0.9159 - val_loss: 0.3144 - val_accuracy: 0.8852\n",
      "Epoch 29/30\n",
      "1719/1719 [==============================] - 3s 2ms/step - loss: 0.2302 - accuracy: 0.9169 - val_loss: 0.3232 - val_accuracy: 0.8840\n",
      "Epoch 30/30\n",
      "1719/1719 [==============================] - 3s 2ms/step - loss: 0.2267 - accuracy: 0.9183 - val_loss: 0.3104 - val_accuracy: 0.8886\n"
     ]
    }
   ],
   "source": [
    "history = model.fit(X_train, y_train, epochs=30, validation_data=(X_valid, y_valid))"
   ]
  },
  {
   "cell_type": "code",
   "execution_count": 21,
   "metadata": {},
   "outputs": [
    {
     "data": {
      "image/png": "[encoded data removed]",
      "text/plain": [
       "<Figure size 800x500 with 1 Axes>"
      ]
     },
     "metadata": {},
     "output_type": "display_data"
    }
   ],
   "source": [
    "import matplotlib.pyplot as plt\n",
    "import pandas as pd\n",
    "\n",
    "pd.DataFrame(history.history).plot(figsize=(8, 5), xlim=[0, 29], ylim=[0, 1], grid=True, xlabel=\"Epoch\",\n",
    "                                   style=[\"r--\", \"r--.\", \"b-\", \"b-*\"])\n",
    "plt.show()"
   ]
  },
  {
   "cell_type": "code",
   "execution_count": 22,
   "metadata": {},
   "outputs": [
    {
     "name": "stdout",
     "output_type": "stream",
     "text": [
      "313/313 [==============================] - 0s 1ms/step - loss: 0.3280 - accuracy: 0.8865\n"
     ]
    },
    {
     "data": {
      "text/plain": [
       "[0.3279682695865631, 0.8865000009536743]"
      ]
     },
     "execution_count": 22,
     "metadata": {},
     "output_type": "execute_result"
    }
   ],
   "source": [
    "model.evaluate(X_test, y_test)"
   ]
  },
  {
   "cell_type": "markdown",
   "metadata": {},
   "source": [
    "### Using the model to make predictions"
   ]
  },
  {
   "cell_type": "code",
   "execution_count": 23,
   "metadata": {},
   "outputs": [
    {
     "name": "stdout",
     "output_type": "stream",
     "text": [
      "1/1 [==============================] - 0s 81ms/step\n"
     ]
    },
    {
     "data": {
      "text/plain": [
       "array([[0.  , 0.  , 0.  , 0.  , 0.  , 0.  , 0.  , 0.01, 0.  , 0.98],\n",
       "       [0.  , 0.  , 0.97, 0.  , 0.03, 0.  , 0.  , 0.  , 0.  , 0.  ],\n",
       "       [0.  , 1.  , 0.  , 0.  , 0.  , 0.  , 0.  , 0.  , 0.  , 0.  ]],\n",
       "      dtype=float32)"
      ]
     },
     "execution_count": 23,
     "metadata": {},
     "output_type": "execute_result"
    }
   ],
   "source": [
    "X_new = X_test[:3]\n",
    "y_proba = model.predict(X_new)\n",
    "y_proba.round(2)"
   ]
  },
  {
   "cell_type": "code",
   "execution_count": 24,
   "metadata": {},
   "outputs": [
    {
     "data": {
      "text/plain": [
       "array([9, 2, 1], dtype=int64)"
      ]
     },
     "execution_count": 24,
     "metadata": {},
     "output_type": "execute_result"
    }
   ],
   "source": [
    "import numpy as np\n",
    "\n",
    "y_pred = y_proba.argmax(axis=-1)\n",
    "y_pred"
   ]
  },
  {
   "cell_type": "code",
   "execution_count": 25,
   "metadata": {},
   "outputs": [
    {
     "data": {
      "text/plain": [
       "array(['Ankle boot', 'Pullover', 'Trouser'], dtype='<U11')"
      ]
     },
     "execution_count": 25,
     "metadata": {},
     "output_type": "execute_result"
    }
   ],
   "source": [
    "np.array(class_names)[y_pred]"
   ]
  },
  {
   "cell_type": "code",
   "execution_count": 26,
   "metadata": {},
   "outputs": [
    {
     "data": {
      "text/plain": [
       "array([9, 2, 1], dtype=uint8)"
      ]
     },
     "execution_count": 26,
     "metadata": {},
     "output_type": "execute_result"
    }
   ],
   "source": [
    "y_new = y_test[:3]\n",
    "y_new"
   ]
  },
  {
   "cell_type": "markdown",
   "metadata": {},
   "source": [
    "## Building a Regression MLP Using the Sequential API"
   ]
  },
  {
   "cell_type": "code",
   "execution_count": 27,
   "metadata": {},
   "outputs": [],
   "source": [
    "housing = fetch_california_housing()\n",
    "X_train_full, X_test, y_train_full, y_test = train_test_split(\n",
    "    housing.data, housing.target, random_state=42)\n",
    "X_train, X_valid, y_train, y_valid = train_test_split(\n",
    "    X_train_full, y_train_full, random_state=42)"
   ]
  },
  {
   "cell_type": "code",
   "execution_count": 28,
   "metadata": {},
   "outputs": [
    {
     "name": "stdout",
     "output_type": "stream",
     "text": [
      "Epoch 1/20\n",
      "363/363 [==============================] - 1s 2ms/step - loss: 0.7497 - root_mean_squared_error: 0.8659 - val_loss: 0.3783 - val_root_mean_squared_error: 0.6151\n",
      "Epoch 2/20\n",
      "363/363 [==============================] - 1s 1ms/step - loss: 0.3756 - root_mean_squared_error: 0.6129 - val_loss: 1.9425 - val_root_mean_squared_error: 1.3937\n",
      "Epoch 3/20\n",
      "363/363 [==============================] - 0s 1ms/step - loss: 0.3673 - root_mean_squared_error: 0.6060 - val_loss: 0.4099 - val_root_mean_squared_error: 0.6403\n",
      "Epoch 4/20\n",
      "363/363 [==============================] - 1s 1ms/step - loss: 0.3407 - root_mean_squared_error: 0.5837 - val_loss: 0.9376 - val_root_mean_squared_error: 0.9683\n",
      "Epoch 5/20\n",
      "363/363 [==============================] - 1s 1ms/step - loss: 0.3326 - root_mean_squared_error: 0.5768 - val_loss: 1.4711 - val_root_mean_squared_error: 1.2129\n",
      "Epoch 6/20\n",
      "363/363 [==============================] - 1s 1ms/step - loss: 0.3286 - root_mean_squared_error: 0.5733 - val_loss: 0.3015 - val_root_mean_squared_error: 0.5491\n",
      "Epoch 7/20\n",
      "363/363 [==============================] - 1s 1ms/step - loss: 0.3132 - root_mean_squared_error: 0.5597 - val_loss: 0.3927 - val_root_mean_squared_error: 0.6266\n",
      "Epoch 8/20\n",
      "363/363 [==============================] - 0s 1ms/step - loss: 0.3053 - root_mean_squared_error: 0.5525 - val_loss: 1.8435 - val_root_mean_squared_error: 1.3578\n",
      "Epoch 9/20\n",
      "363/363 [==============================] - 1s 1ms/step - loss: 0.3096 - root_mean_squared_error: 0.5564 - val_loss: 1.2467 - val_root_mean_squared_error: 1.1166\n",
      "Epoch 10/20\n",
      "363/363 [==============================] - 1s 2ms/step - loss: 0.3035 - root_mean_squared_error: 0.5509 - val_loss: 1.0396 - val_root_mean_squared_error: 1.0196\n",
      "Epoch 11/20\n",
      "363/363 [==============================] - 1s 2ms/step - loss: 0.2932 - root_mean_squared_error: 0.5414 - val_loss: 0.3551 - val_root_mean_squared_error: 0.5959\n",
      "Epoch 12/20\n",
      "363/363 [==============================] - 0s 1ms/step - loss: 0.2925 - root_mean_squared_error: 0.5408 - val_loss: 0.3243 - val_root_mean_squared_error: 0.5695\n",
      "Epoch 13/20\n",
      "363/363 [==============================] - 0s 1ms/step - loss: 0.2839 - root_mean_squared_error: 0.5328 - val_loss: 0.2823 - val_root_mean_squared_error: 0.5313\n",
      "Epoch 14/20\n",
      "363/363 [==============================] - 0s 1ms/step - loss: 0.2836 - root_mean_squared_error: 0.5326 - val_loss: 0.2739 - val_root_mean_squared_error: 0.5234\n",
      "Epoch 15/20\n",
      "363/363 [==============================] - 1s 1ms/step - loss: 0.2833 - root_mean_squared_error: 0.5323 - val_loss: 0.2812 - val_root_mean_squared_error: 0.5303\n",
      "Epoch 16/20\n",
      "363/363 [==============================] - 1s 1ms/step - loss: 0.2793 - root_mean_squared_error: 0.5285 - val_loss: 0.2900 - val_root_mean_squared_error: 0.5385\n",
      "Epoch 17/20\n",
      "363/363 [==============================] - 1s 1ms/step - loss: 0.2792 - root_mean_squared_error: 0.5284 - val_loss: 0.7354 - val_root_mean_squared_error: 0.8575\n",
      "Epoch 18/20\n",
      "363/363 [==============================] - 1s 1ms/step - loss: 0.2748 - root_mean_squared_error: 0.5242 - val_loss: 0.4191 - val_root_mean_squared_error: 0.6474\n",
      "Epoch 19/20\n",
      "363/363 [==============================] - 0s 1ms/step - loss: 0.2717 - root_mean_squared_error: 0.5213 - val_loss: 0.3717 - val_root_mean_squared_error: 0.6097\n",
      "Epoch 20/20\n",
      "363/363 [==============================] - 0s 1ms/step - loss: 0.2734 - root_mean_squared_error: 0.5229 - val_loss: 0.5185 - val_root_mean_squared_error: 0.7201\n",
      "162/162 [==============================] - 0s 1ms/step - loss: 0.2863 - root_mean_squared_error: 0.5350\n",
      "1/1 [==============================] - 0s 59ms/step\n"
     ]
    }
   ],
   "source": [
    "tf.random.set_seed(42)\n",
    "norm_layer = tf.keras.layers.Normalization(input_shape=X_train.shape[1:])\n",
    "\n",
    "model = tf.keras.Sequential([norm_layer,\n",
    "    tf.keras.layers.Dense(50, activation=\"relu\"),\n",
    "    tf.keras.layers.Dense(50, activation=\"relu\"),\n",
    "    tf.keras.layers.Dense(50, activation=\"relu\"),\n",
    "    tf.keras.layers.Dense(1)])\n",
    "\n",
    "optimizer = tf.keras.optimizers.Adam(learning_rate=1e-3)\n",
    "\n",
    "model.compile(loss=\"mse\", optimizer=optimizer, metrics=[\"RootMeanSquaredError\"])\n",
    "\n",
    "norm_layer.adapt(X_train)\n",
    "history = model.fit(X_train, y_train, epochs=20, validation_data=(X_valid, y_valid))\n",
    "\n",
    "mse_test, rmse_test = model.evaluate(X_test, y_test)\n",
    "\n",
    "X_new = X_test[:3]\n",
    "y_pred = model.predict(X_new)"
   ]
  },
  {
   "cell_type": "code",
   "execution_count": 29,
   "metadata": {},
   "outputs": [
    {
     "name": "stdout",
     "output_type": "stream",
     "text": [
      "Model: \"sequential_1\"\n",
      "_________________________________________________________________\n",
      " Layer (type)                Output Shape              Param #   \n",
      "=================================================================\n",
      " normalization (Normalizatio  (None, 8)                17        \n",
      " n)                                                              \n",
      "                                                                 \n",
      " dense_3 (Dense)             (None, 50)                450       \n",
      "                                                                 \n",
      " dense_4 (Dense)             (None, 50)                2550      \n",
      "                                                                 \n",
      " dense_5 (Dense)             (None, 50)                2550      \n",
      "                                                                 \n",
      " dense_6 (Dense)             (None, 1)                 51        \n",
      "                                                                 \n",
      "=================================================================\n",
      "Total params: 5,618\n",
      "Trainable params: 5,601\n",
      "Non-trainable params: 17\n",
      "_________________________________________________________________\n"
     ]
    }
   ],
   "source": [
    "model.summary()"
   ]
  },
  {
   "cell_type": "markdown",
   "metadata": {},
   "source": [
    "## Building Complex Models Using the Functional API"
   ]
  },
  {
   "cell_type": "code",
   "execution_count": 30,
   "metadata": {},
   "outputs": [
    {
     "name": "stdout",
     "output_type": "stream",
     "text": [
      "Model: \"model\"\n",
      "__________________________________________________________________________________________________\n",
      " Layer (type)                   Output Shape         Param #     Connected to                     \n",
      "==================================================================================================\n",
      " input_1 (InputLayer)           [(None, 8)]          0           []                               \n",
      "                                                                                                  \n",
      " normalization (Normalization)  (None, 8)            17          ['input_1[0][0]']                \n",
      "                                                                                                  \n",
      " dense (Dense)                  (None, 30)           270         ['normalization[0][0]']          \n",
      "                                                                                                  \n",
      " dense_1 (Dense)                (None, 30)           930         ['dense[0][0]']                  \n",
      "                                                                                                  \n",
      " concatenate (Concatenate)      (None, 38)           0           ['normalization[0][0]',          \n",
      "                                                                  'dense_1[0][0]']                \n",
      "                                                                                                  \n",
      " dense_2 (Dense)                (None, 1)            39          ['concatenate[0][0]']            \n",
      "                                                                                                  \n",
      "==================================================================================================\n",
      "Total params: 1,256\n",
      "Trainable params: 1,239\n",
      "Non-trainable params: 17\n",
      "__________________________________________________________________________________________________\n"
     ]
    }
   ],
   "source": [
    "tf.keras.backend.clear_session()\n",
    "tf.random.set_seed(42)\n",
    "\n",
    "normalization_layer = tf.keras.layers.Normalization()\n",
    "hidden_layer1 = tf.keras.layers.Dense(30, activation=\"relu\")\n",
    "hidden_layer2 = tf.keras.layers.Dense(30, activation=\"relu\")\n",
    "concat_layer = tf.keras.layers.Concatenate()\n",
    "output_layer = tf.keras.layers.Dense(1)\n",
    "\n",
    "input_ = tf.keras.layers.Input(shape=X_train.shape[1:])\n",
    "normalized = normalization_layer(input_)\n",
    "hidden1 = hidden_layer1(normalized)\n",
    "hidden2 = hidden_layer2(hidden1)\n",
    "concat = concat_layer([normalized, hidden2])\n",
    "output = output_layer(concat)\n",
    "\n",
    "model = tf.keras.Model(inputs=[input_], outputs=[output])\n",
    "\n",
    "model.summary()"
   ]
  },
  {
   "cell_type": "code",
   "execution_count": 31,
   "metadata": {},
   "outputs": [
    {
     "name": "stdout",
     "output_type": "stream",
     "text": [
      "Epoch 1/20\n",
      "363/363 [==============================] - 1s 2ms/step - loss: 1.6328 - root_mean_squared_error: 1.2778 - val_loss: 0.5584 - val_root_mean_squared_error: 0.7473\n",
      "Epoch 2/20\n",
      "363/363 [==============================] - 0s 1ms/step - loss: 0.4858 - root_mean_squared_error: 0.6970 - val_loss: 0.5434 - val_root_mean_squared_error: 0.7372\n",
      "Epoch 3/20\n",
      "363/363 [==============================] - 0s 1ms/step - loss: 0.3992 - root_mean_squared_error: 0.6318 - val_loss: 0.6951 - val_root_mean_squared_error: 0.8337\n",
      "Epoch 4/20\n",
      "363/363 [==============================] - 0s 1ms/step - loss: 0.3773 - root_mean_squared_error: 0.6143 - val_loss: 0.5711 - val_root_mean_squared_error: 0.7557\n",
      "Epoch 5/20\n",
      "363/363 [==============================] - 0s 1ms/step - loss: 0.3608 - root_mean_squared_error: 0.6007 - val_loss: 0.4042 - val_root_mean_squared_error: 0.6358\n",
      "Epoch 6/20\n",
      "363/363 [==============================] - 0s 1ms/step - loss: 0.3483 - root_mean_squared_error: 0.5902 - val_loss: 0.3292 - val_root_mean_squared_error: 0.5738\n",
      "Epoch 7/20\n",
      "363/363 [==============================] - 0s 1ms/step - loss: 0.3414 - root_mean_squared_error: 0.5843 - val_loss: 0.7819 - val_root_mean_squared_error: 0.8843\n",
      "Epoch 8/20\n",
      "363/363 [==============================] - 1s 1ms/step - loss: 0.3338 - root_mean_squared_error: 0.5777 - val_loss: 3.5380 - val_root_mean_squared_error: 1.8810\n",
      "Epoch 9/20\n",
      "363/363 [==============================] - 1s 1ms/step - loss: 0.3397 - root_mean_squared_error: 0.5828 - val_loss: 1.7352 - val_root_mean_squared_error: 1.3173\n",
      "Epoch 10/20\n",
      "363/363 [==============================] - 1s 1ms/step - loss: 0.3396 - root_mean_squared_error: 0.5828 - val_loss: 1.0377 - val_root_mean_squared_error: 1.0187\n",
      "Epoch 11/20\n",
      "363/363 [==============================] - 0s 1ms/step - loss: 0.3237 - root_mean_squared_error: 0.5689 - val_loss: 0.3034 - val_root_mean_squared_error: 0.5508\n",
      "Epoch 12/20\n",
      "363/363 [==============================] - 1s 1ms/step - loss: 0.3191 - root_mean_squared_error: 0.5649 - val_loss: 0.5126 - val_root_mean_squared_error: 0.7160\n",
      "Epoch 13/20\n",
      "363/363 [==============================] - 1s 2ms/step - loss: 0.3152 - root_mean_squared_error: 0.5614 - val_loss: 0.3051 - val_root_mean_squared_error: 0.5523\n",
      "Epoch 14/20\n",
      "363/363 [==============================] - 1s 2ms/step - loss: 0.3107 - root_mean_squared_error: 0.5574 - val_loss: 0.3959 - val_root_mean_squared_error: 0.6292\n",
      "Epoch 15/20\n",
      "363/363 [==============================] - 0s 1ms/step - loss: 0.3086 - root_mean_squared_error: 0.5555 - val_loss: 0.3091 - val_root_mean_squared_error: 0.5560\n",
      "Epoch 16/20\n",
      "363/363 [==============================] - 1s 1ms/step - loss: 0.3057 - root_mean_squared_error: 0.5529 - val_loss: 0.3935 - val_root_mean_squared_error: 0.6273\n",
      "Epoch 17/20\n",
      "363/363 [==============================] - 0s 1ms/step - loss: 0.3042 - root_mean_squared_error: 0.5515 - val_loss: 0.3540 - val_root_mean_squared_error: 0.5950\n",
      "Epoch 18/20\n",
      "363/363 [==============================] - 1s 1ms/step - loss: 0.3030 - root_mean_squared_error: 0.5505 - val_loss: 2.4675 - val_root_mean_squared_error: 1.5708\n",
      "Epoch 19/20\n",
      "363/363 [==============================] - 0s 1ms/step - loss: 0.3113 - root_mean_squared_error: 0.5580 - val_loss: 0.7973 - val_root_mean_squared_error: 0.8929\n",
      "Epoch 20/20\n",
      "363/363 [==============================] - 1s 1ms/step - loss: 0.3067 - root_mean_squared_error: 0.5538 - val_loss: 0.9259 - val_root_mean_squared_error: 0.9622\n",
      "162/162 [==============================] - 0s 972us/step - loss: 0.2980 - root_mean_squared_error: 0.5459\n",
      "1/1 [==============================] - 0s 52ms/step\n"
     ]
    }
   ],
   "source": [
    "optimizer = tf.keras.optimizers.Adam(learning_rate=1e-3)\n",
    "model.compile(loss=\"mse\", optimizer=optimizer, metrics=[\"RootMeanSquaredError\"])\n",
    "\n",
    "normalization_layer.adapt(X_train)\n",
    "history = model.fit(X_train, y_train, epochs=20, validation_data=(X_valid, y_valid))\n",
    "mse_test = model.evaluate(X_test, y_test)\n",
    "y_pred = model.predict(X_new)"
   ]
  },
  {
   "cell_type": "code",
   "execution_count": 32,
   "metadata": {},
   "outputs": [],
   "source": [
    "input_wide = tf.keras.layers.Input(shape=[5])  # features 0 to 4\n",
    "input_deep = tf.keras.layers.Input(shape=[6])  # features 2 to 7\n",
    "norm_layer_wide = tf.keras.layers.Normalization()\n",
    "norm_layer_deep = tf.keras.layers.Normalization()\n",
    "norm_wide = norm_layer_wide(input_wide)\n",
    "norm_deep = norm_layer_deep(input_deep)\n",
    "hidden1 = tf.keras.layers.Dense(30, activation=\"relu\")(norm_deep)\n",
    "hidden2 = tf.keras.layers.Dense(30, activation=\"relu\")(hidden1)\n",
    "concat = tf.keras.layers.concatenate([norm_wide, hidden2])\n",
    "output = tf.keras.layers.Dense(1)(concat)\n",
    "model = tf.keras.Model(inputs=[input_wide, input_deep], outputs=[output])"
   ]
  },
  {
   "cell_type": "code",
   "execution_count": 33,
   "metadata": {},
   "outputs": [
    {
     "name": "stdout",
     "output_type": "stream",
     "text": [
      "Epoch 1/20\n",
      "363/363 [==============================] - 1s 2ms/step - loss: 1.6903 - root_mean_squared_error: 1.3001 - val_loss: 1.3774 - val_root_mean_squared_error: 1.1736\n",
      "Epoch 2/20\n",
      "363/363 [==============================] - 1s 1ms/step - loss: 0.5777 - root_mean_squared_error: 0.7601 - val_loss: 1.9161 - val_root_mean_squared_error: 1.3842\n",
      "Epoch 3/20\n",
      "363/363 [==============================] - 1s 1ms/step - loss: 0.5110 - root_mean_squared_error: 0.7148 - val_loss: 0.5260 - val_root_mean_squared_error: 0.7253\n",
      "Epoch 4/20\n",
      "363/363 [==============================] - 1s 1ms/step - loss: 0.4489 - root_mean_squared_error: 0.6700 - val_loss: 0.4136 - val_root_mean_squared_error: 0.6432\n",
      "Epoch 5/20\n",
      "363/363 [==============================] - 1s 2ms/step - loss: 0.4188 - root_mean_squared_error: 0.6471 - val_loss: 0.7680 - val_root_mean_squared_error: 0.8763\n",
      "Epoch 6/20\n",
      "363/363 [==============================] - 1s 1ms/step - loss: 0.3951 - root_mean_squared_error: 0.6286 - val_loss: 1.4718 - val_root_mean_squared_error: 1.2132\n",
      "Epoch 7/20\n",
      "363/363 [==============================] - 1s 2ms/step - loss: 0.3910 - root_mean_squared_error: 0.6253 - val_loss: 1.6951 - val_root_mean_squared_error: 1.3019\n",
      "Epoch 8/20\n",
      "363/363 [==============================] - 1s 1ms/step - loss: 0.3783 - root_mean_squared_error: 0.6151 - val_loss: 2.7224 - val_root_mean_squared_error: 1.6500\n",
      "Epoch 9/20\n",
      "363/363 [==============================] - 1s 2ms/step - loss: 0.3759 - root_mean_squared_error: 0.6131 - val_loss: 2.2135 - val_root_mean_squared_error: 1.4878\n",
      "Epoch 10/20\n",
      "363/363 [==============================] - 1s 1ms/step - loss: 0.3796 - root_mean_squared_error: 0.6161 - val_loss: 1.5765 - val_root_mean_squared_error: 1.2556\n",
      "Epoch 11/20\n",
      "363/363 [==============================] - 1s 1ms/step - loss: 0.3639 - root_mean_squared_error: 0.6033 - val_loss: 0.3975 - val_root_mean_squared_error: 0.6305\n",
      "Epoch 12/20\n",
      "363/363 [==============================] - 1s 1ms/step - loss: 0.3635 - root_mean_squared_error: 0.6029 - val_loss: 0.8740 - val_root_mean_squared_error: 0.9349\n",
      "Epoch 13/20\n",
      "363/363 [==============================] - 1s 1ms/step - loss: 0.3561 - root_mean_squared_error: 0.5968 - val_loss: 0.5172 - val_root_mean_squared_error: 0.7192\n",
      "Epoch 14/20\n",
      "363/363 [==============================] - 1s 1ms/step - loss: 0.3505 - root_mean_squared_error: 0.5921 - val_loss: 0.5566 - val_root_mean_squared_error: 0.7460\n",
      "Epoch 15/20\n",
      "363/363 [==============================] - 1s 1ms/step - loss: 0.3506 - root_mean_squared_error: 0.5921 - val_loss: 0.9972 - val_root_mean_squared_error: 0.9986\n",
      "Epoch 16/20\n",
      "363/363 [==============================] - 1s 1ms/step - loss: 0.3495 - root_mean_squared_error: 0.5912 - val_loss: 1.7799 - val_root_mean_squared_error: 1.3341\n",
      "Epoch 17/20\n",
      "363/363 [==============================] - 1s 1ms/step - loss: 0.3573 - root_mean_squared_error: 0.5978 - val_loss: 1.6530 - val_root_mean_squared_error: 1.2857\n",
      "Epoch 18/20\n",
      "363/363 [==============================] - 1s 1ms/step - loss: 0.3531 - root_mean_squared_error: 0.5942 - val_loss: 2.8812 - val_root_mean_squared_error: 1.6974\n",
      "Epoch 19/20\n",
      "363/363 [==============================] - 0s 1ms/step - loss: 0.3550 - root_mean_squared_error: 0.5958 - val_loss: 1.6940 - val_root_mean_squared_error: 1.3015\n",
      "Epoch 20/20\n",
      "363/363 [==============================] - 0s 1ms/step - loss: 0.3566 - root_mean_squared_error: 0.5972 - val_loss: 1.2273 - val_root_mean_squared_error: 1.1078\n",
      "162/162 [==============================] - 0s 936us/step - loss: 0.3397 - root_mean_squared_error: 0.5828\n",
      "1/1 [==============================] - 0s 80ms/step\n"
     ]
    }
   ],
   "source": [
    "optimizer = tf.keras.optimizers.Adam(learning_rate=1e-3)\n",
    "model.compile(loss=\"mse\", optimizer=optimizer, metrics=[\"RootMeanSquaredError\"])\n",
    "\n",
    "X_train_wide, X_train_deep = X_train[:, :5], X_train[:, 2:]\n",
    "X_valid_wide, X_valid_deep = X_valid[:, :5], X_valid[:, 2:]\n",
    "X_test_wide, X_test_deep = X_test[:, :5], X_test[:, 2:]\n",
    "X_new_wide, X_new_deep = X_test_wide[:3], X_test_deep[:3]\n",
    "\n",
    "norm_layer_wide.adapt(X_train_wide)\n",
    "norm_layer_deep.adapt(X_train_deep)\n",
    "history = model.fit((X_train_wide, X_train_deep), y_train, epochs=20,\n",
    "                    validation_data=((X_valid_wide, X_valid_deep), y_valid))\n",
    "mse_test = model.evaluate((X_test_wide, X_test_deep), y_test)\n",
    "y_pred = model.predict((X_new_wide, X_new_deep))"
   ]
  },
  {
   "cell_type": "code",
   "execution_count": 34,
   "metadata": {},
   "outputs": [],
   "source": [
    "input_wide = tf.keras.layers.Input(shape=[5])  # features 0 to 4\n",
    "input_deep = tf.keras.layers.Input(shape=[6])  # features 2 to 7\n",
    "norm_layer_wide = tf.keras.layers.Normalization()\n",
    "norm_layer_deep = tf.keras.layers.Normalization()\n",
    "norm_wide = norm_layer_wide(input_wide)\n",
    "norm_deep = norm_layer_deep(input_deep)\n",
    "hidden1 = tf.keras.layers.Dense(30, activation=\"relu\")(norm_deep)\n",
    "hidden2 = tf.keras.layers.Dense(30, activation=\"relu\")(hidden1)\n",
    "concat = tf.keras.layers.concatenate([norm_wide, hidden2])\n",
    "\n",
    "output = tf.keras.layers.Dense(1)(concat)\n",
    "aux_output = tf.keras.layers.Dense(1)(hidden2)\n",
    "model = tf.keras.Model(inputs=[input_wide, input_deep],\n",
    "                       outputs=[output, aux_output])"
   ]
  },
  {
   "cell_type": "code",
   "execution_count": 35,
   "metadata": {},
   "outputs": [],
   "source": [
    "optimizer = tf.keras.optimizers.Adam(learning_rate=1e-3)\n",
    "model.compile(loss=(\"mse\", \"mse\"), loss_weights=(0.9, 0.1), optimizer=optimizer, metrics=[\"RootMeanSquaredError\"])"
   ]
  },
  {
   "cell_type": "code",
   "execution_count": 36,
   "metadata": {},
   "outputs": [
    {
     "name": "stdout",
     "output_type": "stream",
     "text": [
      "Epoch 1/20\n",
      "363/363 [==============================] - 1s 2ms/step - loss: 1.3328 - dense_8_loss: 1.2486 - dense_9_loss: 2.0910 - dense_8_root_mean_squared_error: 1.1174 - dense_9_root_mean_squared_error: 1.4460 - val_loss: 3.3028 - val_dense_8_loss: 2.5855 - val_dense_9_loss: 9.7584 - val_dense_8_root_mean_squared_error: 1.6079 - val_dense_9_root_mean_squared_error: 3.1238\n",
      "Epoch 2/20\n",
      "363/363 [==============================] - 1s 2ms/step - loss: 0.5211 - dense_8_loss: 0.4698 - dense_9_loss: 0.9827 - dense_8_root_mean_squared_error: 0.6854 - dense_9_root_mean_squared_error: 0.9913 - val_loss: 1.0308 - val_dense_8_loss: 0.5794 - val_dense_9_loss: 5.0928 - val_dense_8_root_mean_squared_error: 0.7612 - val_dense_9_root_mean_squared_error: 2.2567\n",
      "Epoch 3/20\n",
      "363/363 [==============================] - 1s 2ms/step - loss: 0.4612 - dense_8_loss: 0.4275 - dense_9_loss: 0.7648 - dense_8_root_mean_squared_error: 0.6538 - dense_9_root_mean_squared_error: 0.8745 - val_loss: 0.5173 - val_dense_8_loss: 0.3941 - val_dense_9_loss: 1.6260 - val_dense_8_root_mean_squared_error: 0.6278 - val_dense_9_root_mean_squared_error: 1.2752\n",
      "Epoch 4/20\n",
      "363/363 [==============================] - 1s 2ms/step - loss: 0.4330 - dense_8_loss: 0.4103 - dense_9_loss: 0.6374 - dense_8_root_mean_squared_error: 0.6405 - dense_9_root_mean_squared_error: 0.7983 - val_loss: 0.5047 - val_dense_8_loss: 0.4853 - val_dense_9_loss: 0.6795 - val_dense_8_root_mean_squared_error: 0.6966 - val_dense_9_root_mean_squared_error: 0.8243\n",
      "Epoch 5/20\n",
      "363/363 [==============================] - 1s 2ms/step - loss: 0.4184 - dense_8_loss: 0.4007 - dense_9_loss: 0.5782 - dense_8_root_mean_squared_error: 0.6330 - dense_9_root_mean_squared_error: 0.7604 - val_loss: 0.3863 - val_dense_8_loss: 0.3672 - val_dense_9_loss: 0.5581 - val_dense_8_root_mean_squared_error: 0.6059 - val_dense_9_root_mean_squared_error: 0.7471\n",
      "Epoch 6/20\n",
      "363/363 [==============================] - 1s 2ms/step - loss: 0.4053 - dense_8_loss: 0.3900 - dense_9_loss: 0.5435 - dense_8_root_mean_squared_error: 0.6245 - dense_9_root_mean_squared_error: 0.7372 - val_loss: 0.3943 - val_dense_8_loss: 0.3750 - val_dense_9_loss: 0.5678 - val_dense_8_root_mean_squared_error: 0.6124 - val_dense_9_root_mean_squared_error: 0.7535\n",
      "Epoch 7/20\n",
      "363/363 [==============================] - 1s 2ms/step - loss: 0.3999 - dense_8_loss: 0.3862 - dense_9_loss: 0.5233 - dense_8_root_mean_squared_error: 0.6215 - dense_9_root_mean_squared_error: 0.7234 - val_loss: 0.8652 - val_dense_8_loss: 0.8976 - val_dense_9_loss: 0.5730 - val_dense_8_root_mean_squared_error: 0.9474 - val_dense_9_root_mean_squared_error: 0.7570\n",
      "Epoch 8/20\n",
      "363/363 [==============================] - 1s 2ms/step - loss: 0.3917 - dense_8_loss: 0.3788 - dense_9_loss: 0.5079 - dense_8_root_mean_squared_error: 0.6155 - dense_9_root_mean_squared_error: 0.7126 - val_loss: 1.6483 - val_dense_8_loss: 1.7488 - val_dense_9_loss: 0.7445 - val_dense_8_root_mean_squared_error: 1.3224 - val_dense_9_root_mean_squared_error: 0.8629\n",
      "Epoch 9/20\n",
      "363/363 [==============================] - 1s 2ms/step - loss: 0.3898 - dense_8_loss: 0.3780 - dense_9_loss: 0.4964 - dense_8_root_mean_squared_error: 0.6148 - dense_9_root_mean_squared_error: 0.7046 - val_loss: 4.7153 - val_dense_8_loss: 5.0665 - val_dense_9_loss: 1.5542 - val_dense_8_root_mean_squared_error: 2.2509 - val_dense_9_root_mean_squared_error: 1.2467\n",
      "Epoch 10/20\n",
      "363/363 [==============================] - 1s 2ms/step - loss: 0.4224 - dense_8_loss: 0.4142 - dense_9_loss: 0.4959 - dense_8_root_mean_squared_error: 0.6436 - dense_9_root_mean_squared_error: 0.7042 - val_loss: 6.4557 - val_dense_8_loss: 6.7511 - val_dense_9_loss: 3.7970 - val_dense_8_root_mean_squared_error: 2.5983 - val_dense_9_root_mean_squared_error: 1.9486\n",
      "Epoch 11/20\n",
      "363/363 [==============================] - 1s 2ms/step - loss: 0.4037 - dense_8_loss: 0.3937 - dense_9_loss: 0.4939 - dense_8_root_mean_squared_error: 0.6274 - dense_9_root_mean_squared_error: 0.7028 - val_loss: 1.1316 - val_dense_8_loss: 1.1849 - val_dense_9_loss: 0.6521 - val_dense_8_root_mean_squared_error: 1.0885 - val_dense_9_root_mean_squared_error: 0.8076\n",
      "Epoch 12/20\n",
      "363/363 [==============================] - 1s 2ms/step - loss: 0.4183 - dense_8_loss: 0.4105 - dense_9_loss: 0.4883 - dense_8_root_mean_squared_error: 0.6407 - dense_9_root_mean_squared_error: 0.6988 - val_loss: 2.1379 - val_dense_8_loss: 2.2061 - val_dense_9_loss: 1.5237 - val_dense_8_root_mean_squared_error: 1.4853 - val_dense_9_root_mean_squared_error: 1.2344\n",
      "Epoch 13/20\n",
      "363/363 [==============================] - 1s 2ms/step - loss: 0.3837 - dense_8_loss: 0.3738 - dense_9_loss: 0.4730 - dense_8_root_mean_squared_error: 0.6114 - dense_9_root_mean_squared_error: 0.6877 - val_loss: 0.9039 - val_dense_8_loss: 0.9317 - val_dense_9_loss: 0.6538 - val_dense_8_root_mean_squared_error: 0.9652 - val_dense_9_root_mean_squared_error: 0.8086\n",
      "Epoch 14/20\n",
      "363/363 [==============================] - 1s 2ms/step - loss: 0.3678 - dense_8_loss: 0.3576 - dense_9_loss: 0.4603 - dense_8_root_mean_squared_error: 0.5980 - dense_9_root_mean_squared_error: 0.6784 - val_loss: 0.8140 - val_dense_8_loss: 0.8340 - val_dense_9_loss: 0.6338 - val_dense_8_root_mean_squared_error: 0.9132 - val_dense_9_root_mean_squared_error: 0.7961\n",
      "Epoch 15/20\n",
      "363/363 [==============================] - 1s 2ms/step - loss: 0.3683 - dense_8_loss: 0.3585 - dense_9_loss: 0.4566 - dense_8_root_mean_squared_error: 0.5987 - dense_9_root_mean_squared_error: 0.6757 - val_loss: 2.6489 - val_dense_8_loss: 2.7641 - val_dense_9_loss: 1.6121 - val_dense_8_root_mean_squared_error: 1.6626 - val_dense_9_root_mean_squared_error: 1.2697\n",
      "Epoch 16/20\n",
      "363/363 [==============================] - 1s 2ms/step - loss: 0.3738 - dense_8_loss: 0.3649 - dense_9_loss: 0.4541 - dense_8_root_mean_squared_error: 0.6041 - dense_9_root_mean_squared_error: 0.6738 - val_loss: 3.6626 - val_dense_8_loss: 3.6087 - val_dense_9_loss: 4.1471 - val_dense_8_root_mean_squared_error: 1.8997 - val_dense_9_root_mean_squared_error: 2.0364\n",
      "Epoch 17/20\n",
      "363/363 [==============================] - 1s 2ms/step - loss: 0.3831 - dense_8_loss: 0.3733 - dense_9_loss: 0.4717 - dense_8_root_mean_squared_error: 0.6110 - dense_9_root_mean_squared_error: 0.6868 - val_loss: 6.6858 - val_dense_8_loss: 6.2989 - val_dense_9_loss: 10.1674 - val_dense_8_root_mean_squared_error: 2.5098 - val_dense_9_root_mean_squared_error: 3.1886\n",
      "Epoch 18/20\n",
      "363/363 [==============================] - 1s 2ms/step - loss: 0.3905 - dense_8_loss: 0.3796 - dense_9_loss: 0.4878 - dense_8_root_mean_squared_error: 0.6161 - dense_9_root_mean_squared_error: 0.6984 - val_loss: 12.2002 - val_dense_8_loss: 12.1606 - val_dense_9_loss: 12.5565 - val_dense_8_root_mean_squared_error: 3.4872 - val_dense_9_root_mean_squared_error: 3.5435\n",
      "Epoch 19/20\n",
      "363/363 [==============================] - 1s 2ms/step - loss: 0.4289 - dense_8_loss: 0.4191 - dense_9_loss: 0.5164 - dense_8_root_mean_squared_error: 0.6474 - dense_9_root_mean_squared_error: 0.7186 - val_loss: 7.0209 - val_dense_8_loss: 7.0331 - val_dense_9_loss: 6.9114 - val_dense_8_root_mean_squared_error: 2.6520 - val_dense_9_root_mean_squared_error: 2.6290\n",
      "Epoch 20/20\n",
      "363/363 [==============================] - 1s 1ms/step - loss: 0.4080 - dense_8_loss: 0.3998 - dense_9_loss: 0.4815 - dense_8_root_mean_squared_error: 0.6323 - dense_9_root_mean_squared_error: 0.6939 - val_loss: 2.2959 - val_dense_8_loss: 2.2644 - val_dense_9_loss: 2.5789 - val_dense_8_root_mean_squared_error: 1.5048 - val_dense_9_root_mean_squared_error: 1.6059\n"
     ]
    }
   ],
   "source": [
    "norm_layer_wide.adapt(X_train_wide)\n",
    "norm_layer_deep.adapt(X_train_deep)\n",
    "history = model.fit((X_train_wide, X_train_deep), (y_train, y_train), epochs=20,\n",
    "                     validation_data=((X_valid_wide, X_valid_deep), (y_valid, y_valid)))"
   ]
  },
  {
   "cell_type": "code",
   "execution_count": 37,
   "metadata": {},
   "outputs": [
    {
     "name": "stdout",
     "output_type": "stream",
     "text": [
      "162/162 [==============================] - 0s 1ms/step - loss: 0.3594 - dense_8_loss: 0.3507 - dense_9_loss: 0.4376 - dense_8_root_mean_squared_error: 0.5922 - dense_9_root_mean_squared_error: 0.6615\n"
     ]
    }
   ],
   "source": [
    "eval_results = model.evaluate((X_test_wide, X_test_deep), (y_test, y_test))\n",
    "\n",
    "weighted_sum_of_losses, main_loss, aux_loss, main_rmse, aux_rmse = eval_results"
   ]
  },
  {
   "cell_type": "code",
   "execution_count": 38,
   "metadata": {},
   "outputs": [
    {
     "name": "stdout",
     "output_type": "stream",
     "text": [
      "WARNING:tensorflow:5 out of the last 5 calls to <function Model.make_predict_function.<locals>.predict_function at 0x0000014208250820> triggered tf.function retracing. Tracing is expensive and the excessive number of tracings could be due to (1) creating @tf.function repeatedly in a loop, (2) passing tensors with different shapes, (3) passing Python objects instead of tensors. For (1), please define your @tf.function outside of the loop. For (2), @tf.function has reduce_retracing=True option that can avoid unnecessary retracing. For (3), please refer to https://www.tensorflow.org/guide/function#controlling_retracing and https://www.tensorflow.org/api_docs/python/tf/function for  more details.\n",
      "1/1 [==============================] - 0s 66ms/step\n"
     ]
    }
   ],
   "source": [
    "y_pred_tuple = model.predict((X_new_wide, X_new_deep))\n",
    "y_pred = dict(zip(model.output_names, y_pred_tuple))"
   ]
  },
  {
   "cell_type": "code",
   "execution_count": 39,
   "metadata": {},
   "outputs": [
    {
     "data": {
      "text/plain": [
       "{'dense_8': array([[0.4461567],\n",
       "        [1.197814 ],\n",
       "        [3.3292706]], dtype=float32),\n",
       " 'dense_9': array([[0.58082014],\n",
       "        [1.2395104 ],\n",
       "        [3.0452085 ]], dtype=float32)}"
      ]
     },
     "execution_count": 39,
     "metadata": {},
     "output_type": "execute_result"
    }
   ],
   "source": [
    "y_pred "
   ]
  },
  {
   "cell_type": "markdown",
   "metadata": {},
   "source": [
    "## Using the Subclassing API to Build Dynamic Models"
   ]
  },
  {
   "cell_type": "code",
   "execution_count": 40,
   "metadata": {},
   "outputs": [],
   "source": [
    "class WideAndDeepModel(tf.keras.Model):\n",
    "    def __init__(self, units=30, activation=\"relu\", **kwargs):\n",
    "        super().__init__(**kwargs) # needed to support naming the model\n",
    "        self.norm_layer_wide = tf.keras.layers.Normalization()\n",
    "        self.norm_layer_deep = tf.keras.layers.Normalization()\n",
    "        self.hidden1 = tf.keras.layers.Dense(units, activation=activation)\n",
    "        self.hidden2 = tf.keras.layers.Dense(units, activation=activation)\n",
    "        self.main_output = tf.keras.layers.Dense(1)\n",
    "        self.aux_output = tf.keras.layers.Dense(1)\n",
    "            \n",
    "    def call(self, inputs):\n",
    "        input_wide, input_deep = inputs\n",
    "        norm_wide = self.norm_layer_wide(input_wide)\n",
    "        norm_deep = self.norm_layer_deep(input_deep)\n",
    "        hidden1 = self.hidden1(norm_deep)\n",
    "        hidden2 = self.hidden2(hidden1)\n",
    "        concat = tf.keras.layers.concatenate([norm_wide, hidden2])\n",
    "        output = self.main_output(concat)\n",
    "        aux_output = self.aux_output(hidden2)\n",
    "        return output, aux_output\n",
    "        \n",
    "model = WideAndDeepModel(30, activation=\"relu\", name=\"my_cool_model\")"
   ]
  },
  {
   "cell_type": "code",
   "execution_count": 41,
   "metadata": {},
   "outputs": [
    {
     "name": "stdout",
     "output_type": "stream",
     "text": [
      "Epoch 1/10\n",
      "363/363 [==============================] - 1s 2ms/step - loss: 1.5501 - output_1_loss: 1.4030 - output_2_loss: 2.8745 - output_1_root_mean_squared_error: 1.1845 - output_2_root_mean_squared_error: 1.6954 - val_loss: 2.9679 - val_output_1_loss: 2.0576 - val_output_2_loss: 11.1603 - val_output_1_root_mean_squared_error: 1.4344 - val_output_2_root_mean_squared_error: 3.3407\n",
      "Epoch 2/10\n",
      "363/363 [==============================] - 1s 2ms/step - loss: 0.5382 - output_1_loss: 0.4745 - output_2_loss: 1.1118 - output_1_root_mean_squared_error: 0.6888 - output_2_root_mean_squared_error: 1.0544 - val_loss: 1.7867 - val_output_1_loss: 1.2848 - val_output_2_loss: 6.3036 - val_output_1_root_mean_squared_error: 1.1335 - val_output_2_root_mean_squared_error: 2.5107\n",
      "Epoch 3/10\n",
      "363/363 [==============================] - 1s 2ms/step - loss: 0.4608 - output_1_loss: 0.4295 - output_2_loss: 0.7430 - output_1_root_mean_squared_error: 0.6553 - output_2_root_mean_squared_error: 0.8620 - val_loss: 0.7723 - val_output_1_loss: 0.5262 - val_output_2_loss: 2.9872 - val_output_1_root_mean_squared_error: 0.7254 - val_output_2_root_mean_squared_error: 1.7284\n",
      "Epoch 4/10\n",
      "363/363 [==============================] - 1s 2ms/step - loss: 0.4245 - output_1_loss: 0.4061 - output_2_loss: 0.5898 - output_1_root_mean_squared_error: 0.6373 - output_2_root_mean_squared_error: 0.7680 - val_loss: 0.4799 - val_output_1_loss: 0.3886 - val_output_2_loss: 1.3022 - val_output_1_root_mean_squared_error: 0.6233 - val_output_2_root_mean_squared_error: 1.1412\n",
      "Epoch 5/10\n",
      "363/363 [==============================] - 1s 2ms/step - loss: 0.4134 - output_1_loss: 0.3991 - output_2_loss: 0.5424 - output_1_root_mean_squared_error: 0.6317 - output_2_root_mean_squared_error: 0.7365 - val_loss: 0.4229 - val_output_1_loss: 0.3691 - val_output_2_loss: 0.9068 - val_output_1_root_mean_squared_error: 0.6075 - val_output_2_root_mean_squared_error: 0.9523\n",
      "Epoch 6/10\n",
      "363/363 [==============================] - 1s 2ms/step - loss: 0.3985 - output_1_loss: 0.3851 - output_2_loss: 0.5191 - output_1_root_mean_squared_error: 0.6206 - output_2_root_mean_squared_error: 0.7205 - val_loss: 0.4742 - val_output_1_loss: 0.4348 - val_output_2_loss: 0.8293 - val_output_1_root_mean_squared_error: 0.6594 - val_output_2_root_mean_squared_error: 0.9106\n",
      "Epoch 7/10\n",
      "363/363 [==============================] - 1s 2ms/step - loss: 0.3909 - output_1_loss: 0.3788 - output_2_loss: 0.4993 - output_1_root_mean_squared_error: 0.6155 - output_2_root_mean_squared_error: 0.7066 - val_loss: 0.4021 - val_output_1_loss: 0.3622 - val_output_2_loss: 0.7610 - val_output_1_root_mean_squared_error: 0.6019 - val_output_2_root_mean_squared_error: 0.8723\n",
      "Epoch 8/10\n",
      "363/363 [==============================] - 1s 2ms/step - loss: 0.3842 - output_1_loss: 0.3733 - output_2_loss: 0.4828 - output_1_root_mean_squared_error: 0.6110 - output_2_root_mean_squared_error: 0.6948 - val_loss: 0.4375 - val_output_1_loss: 0.4245 - val_output_2_loss: 0.5547 - val_output_1_root_mean_squared_error: 0.6515 - val_output_2_root_mean_squared_error: 0.7448\n",
      "Epoch 9/10\n",
      "363/363 [==============================] - 1s 2ms/step - loss: 0.3757 - output_1_loss: 0.3655 - output_2_loss: 0.4667 - output_1_root_mean_squared_error: 0.6046 - output_2_root_mean_squared_error: 0.6831 - val_loss: 0.6275 - val_output_1_loss: 0.6279 - val_output_2_loss: 0.6245 - val_output_1_root_mean_squared_error: 0.7924 - val_output_2_root_mean_squared_error: 0.7902\n",
      "Epoch 10/10\n",
      "363/363 [==============================] - 1s 2ms/step - loss: 0.3750 - output_1_loss: 0.3662 - output_2_loss: 0.4543 - output_1_root_mean_squared_error: 0.6051 - output_2_root_mean_squared_error: 0.6740 - val_loss: 0.3803 - val_output_1_loss: 0.3465 - val_output_2_loss: 0.6850 - val_output_1_root_mean_squared_error: 0.5886 - val_output_2_root_mean_squared_error: 0.8276\n",
      "162/162 [==============================] - 0s 1ms/step - loss: 0.3658 - output_1_loss: 0.3564 - output_2_loss: 0.4503 - output_1_root_mean_squared_error: 0.5970 - output_2_root_mean_squared_error: 0.6710\n",
      "WARNING:tensorflow:6 out of the last 6 calls to <function Model.make_predict_function.<locals>.predict_function at 0x000001420A5D2430> triggered tf.function retracing. Tracing is expensive and the excessive number of tracings could be due to (1) creating @tf.function repeatedly in a loop, (2) passing tensors with different shapes, (3) passing Python objects instead of tensors. For (1), please define your @tf.function outside of the loop. For (2), @tf.function has reduce_retracing=True option that can avoid unnecessary retracing. For (3), please refer to https://www.tensorflow.org/guide/function#controlling_retracing and https://www.tensorflow.org/api_docs/python/tf/function for  more details.\n",
      "1/1 [==============================] - 0s 66ms/step\n"
     ]
    }
   ],
   "source": [
    "optimizer = tf.keras.optimizers.Adam(learning_rate=1e-3)\n",
    "model.compile(loss=\"mse\", loss_weights=[0.9, 0.1], optimizer=optimizer, metrics=[\"RootMeanSquaredError\"])\n",
    "\n",
    "model.norm_layer_wide.adapt(X_train_wide)\n",
    "model.norm_layer_deep.adapt(X_train_deep)\n",
    "history = model.fit((X_train_wide, X_train_deep), (y_train, y_train), epochs=10,\n",
    "                     validation_data=((X_valid_wide, X_valid_deep), (y_valid, y_valid)))\n",
    "\n",
    "eval_results = model.evaluate((X_test_wide, X_test_deep), (y_test, y_test))\n",
    "weighted_sum_of_losses, main_loss, aux_loss, main_rmse, aux_rmse = eval_results\n",
    "\n",
    "y_pred_main, y_pred_aux = model.predict((X_new_wide, X_new_deep))"
   ]
  },
  {
   "cell_type": "markdown",
   "metadata": {},
   "source": [
    "## Saving and Restoring a Model"
   ]
  },
  {
   "cell_type": "code",
   "execution_count": 42,
   "metadata": {},
   "outputs": [
    {
     "name": "stdout",
     "output_type": "stream",
     "text": [
      "INFO:tensorflow:Assets written to: my_keras_model\\assets\n"
     ]
    }
   ],
   "source": [
    "model.save(\"my_keras_model\", save_format=\"tf\")"
   ]
  },
  {
   "cell_type": "code",
   "execution_count": 43,
   "metadata": {},
   "outputs": [
    {
     "name": "stdout",
     "output_type": "stream",
     "text": [
      "1/1 [==============================] - 0s 70ms/step\n"
     ]
    }
   ],
   "source": [
    "model = tf.keras.models.load_model(\"my_keras_model\")\n",
    "y_pred_main, y_pred_aux = model.predict((X_new_wide, X_new_deep))"
   ]
  },
  {
   "cell_type": "markdown",
   "metadata": {},
   "source": [
    "## Using Callbacks"
   ]
  },
  {
   "cell_type": "code",
   "execution_count": 44,
   "metadata": {},
   "outputs": [
    {
     "name": "stdout",
     "output_type": "stream",
     "text": [
      "Epoch 1/10\n",
      "363/363 [==============================] - 2s 3ms/step - loss: 0.3751 - output_1_loss: 0.3661 - output_2_loss: 0.4563 - output_1_root_mean_squared_error: 0.6050 - output_2_root_mean_squared_error: 0.6755 - val_loss: 0.5544 - val_output_1_loss: 0.5560 - val_output_2_loss: 0.5400 - val_output_1_root_mean_squared_error: 0.7457 - val_output_2_root_mean_squared_error: 0.7349\n",
      "Epoch 2/10\n",
      "363/363 [==============================] - 1s 2ms/step - loss: 0.3708 - output_1_loss: 0.3630 - output_2_loss: 0.4410 - output_1_root_mean_squared_error: 0.6025 - output_2_root_mean_squared_error: 0.6640 - val_loss: 0.7943 - val_output_1_loss: 0.8001 - val_output_2_loss: 0.7427 - val_output_1_root_mean_squared_error: 0.8945 - val_output_2_root_mean_squared_error: 0.8618\n",
      "Epoch 3/10\n",
      "363/363 [==============================] - 1s 2ms/step - loss: 0.3594 - output_1_loss: 0.3515 - output_2_loss: 0.4302 - output_1_root_mean_squared_error: 0.5929 - output_2_root_mean_squared_error: 0.6559 - val_loss: 0.3456 - val_output_1_loss: 0.3235 - val_output_2_loss: 0.5448 - val_output_1_root_mean_squared_error: 0.5687 - val_output_2_root_mean_squared_error: 0.7381\n",
      "Epoch 4/10\n",
      "363/363 [==============================] - 1s 2ms/step - loss: 0.3545 - output_1_loss: 0.3465 - output_2_loss: 0.4268 - output_1_root_mean_squared_error: 0.5886 - output_2_root_mean_squared_error: 0.6533 - val_loss: 0.3765 - val_output_1_loss: 0.3643 - val_output_2_loss: 0.4861 - val_output_1_root_mean_squared_error: 0.6036 - val_output_2_root_mean_squared_error: 0.6972\n",
      "Epoch 5/10\n",
      "363/363 [==============================] - 1s 2ms/step - loss: 0.3553 - output_1_loss: 0.3480 - output_2_loss: 0.4217 - output_1_root_mean_squared_error: 0.5899 - output_2_root_mean_squared_error: 0.6494 - val_loss: 0.4655 - val_output_1_loss: 0.4721 - val_output_2_loss: 0.4054 - val_output_1_root_mean_squared_error: 0.6871 - val_output_2_root_mean_squared_error: 0.6367\n",
      "Epoch 6/10\n",
      "363/363 [==============================] - 1s 2ms/step - loss: 0.3492 - output_1_loss: 0.3417 - output_2_loss: 0.4168 - output_1_root_mean_squared_error: 0.5846 - output_2_root_mean_squared_error: 0.6456 - val_loss: 0.8491 - val_output_1_loss: 0.8848 - val_output_2_loss: 0.5278 - val_output_1_root_mean_squared_error: 0.9406 - val_output_2_root_mean_squared_error: 0.7265\n",
      "Epoch 7/10\n",
      "363/363 [==============================] - 1s 2ms/step - loss: 0.3520 - output_1_loss: 0.3451 - output_2_loss: 0.4143 - output_1_root_mean_squared_error: 0.5874 - output_2_root_mean_squared_error: 0.6437 - val_loss: 0.4304 - val_output_1_loss: 0.4160 - val_output_2_loss: 0.5605 - val_output_1_root_mean_squared_error: 0.6450 - val_output_2_root_mean_squared_error: 0.7486\n",
      "Epoch 8/10\n",
      "363/363 [==============================] - 1s 2ms/step - loss: 0.3443 - output_1_loss: 0.3371 - output_2_loss: 0.4087 - output_1_root_mean_squared_error: 0.5806 - output_2_root_mean_squared_error: 0.6393 - val_loss: 0.3574 - val_output_1_loss: 0.3446 - val_output_2_loss: 0.4725 - val_output_1_root_mean_squared_error: 0.5870 - val_output_2_root_mean_squared_error: 0.6874\n",
      "Epoch 9/10\n",
      "363/363 [==============================] - 1s 2ms/step - loss: 0.3410 - output_1_loss: 0.3340 - output_2_loss: 0.4046 - output_1_root_mean_squared_error: 0.5779 - output_2_root_mean_squared_error: 0.6361 - val_loss: 0.3493 - val_output_1_loss: 0.3391 - val_output_2_loss: 0.4419 - val_output_1_root_mean_squared_error: 0.5823 - val_output_2_root_mean_squared_error: 0.6647\n",
      "Epoch 10/10\n",
      "363/363 [==============================] - 1s 2ms/step - loss: 0.3493 - output_1_loss: 0.3427 - output_2_loss: 0.4087 - output_1_root_mean_squared_error: 0.5854 - output_2_root_mean_squared_error: 0.6393 - val_loss: 0.5359 - val_output_1_loss: 0.5166 - val_output_2_loss: 0.7094 - val_output_1_root_mean_squared_error: 0.7188 - val_output_2_root_mean_squared_error: 0.8422\n"
     ]
    }
   ],
   "source": [
    "checkpoint_cb = tf.keras.callbacks.ModelCheckpoint(\"my_checkpoints\", save_weights_only=True)\n",
    "\n",
    "history = model.fit(\n",
    "    (X_train_wide, X_train_deep), (y_train, y_train), epochs=10,\n",
    "    validation_data=((X_valid_wide, X_valid_deep), (y_valid, y_valid)),\n",
    "    callbacks=[checkpoint_cb])"
   ]
  },
  {
   "cell_type": "code",
   "execution_count": 47,
   "metadata": {},
   "outputs": [
    {
     "name": "stdout",
     "output_type": "stream",
     "text": [
      "Epoch 1/10\n",
      "363/363 [==============================] - 1s 2ms/step - loss: 0.3424 - output_1_loss: 0.3359 - output_2_loss: 0.4010 - output_1_root_mean_squared_error: 0.5796 - output_2_root_mean_squared_error: 0.6333 - val_loss: 1.0213 - val_output_1_loss: 1.0844 - val_output_2_loss: 0.4528 - val_output_1_root_mean_squared_error: 1.0414 - val_output_2_root_mean_squared_error: 0.6729\n",
      "Epoch 2/10\n",
      "363/363 [==============================] - 1s 2ms/step - loss: 0.3433 - output_1_loss: 0.3372 - output_2_loss: 0.3978 - output_1_root_mean_squared_error: 0.5807 - output_2_root_mean_squared_error: 0.6307 - val_loss: 1.4597 - val_output_1_loss: 1.5181 - val_output_2_loss: 0.9344 - val_output_1_root_mean_squared_error: 1.2321 - val_output_2_root_mean_squared_error: 0.9667\n",
      "Epoch 3/10\n",
      "363/363 [==============================] - 1s 2ms/step - loss: 0.3447 - output_1_loss: 0.3391 - output_2_loss: 0.3955 - output_1_root_mean_squared_error: 0.5823 - output_2_root_mean_squared_error: 0.6289 - val_loss: 0.4255 - val_output_1_loss: 0.4294 - val_output_2_loss: 0.3908 - val_output_1_root_mean_squared_error: 0.6553 - val_output_2_root_mean_squared_error: 0.6251\n",
      "Epoch 4/10\n",
      "363/363 [==============================] - 1s 2ms/step - loss: 0.3353 - output_1_loss: 0.3288 - output_2_loss: 0.3937 - output_1_root_mean_squared_error: 0.5734 - output_2_root_mean_squared_error: 0.6275 - val_loss: 0.3862 - val_output_1_loss: 0.3753 - val_output_2_loss: 0.4846 - val_output_1_root_mean_squared_error: 0.6126 - val_output_2_root_mean_squared_error: 0.6961\n",
      "Epoch 5/10\n",
      "363/363 [==============================] - 1s 2ms/step - loss: 0.3429 - output_1_loss: 0.3372 - output_2_loss: 0.3943 - output_1_root_mean_squared_error: 0.5806 - output_2_root_mean_squared_error: 0.6279 - val_loss: 0.7437 - val_output_1_loss: 0.7725 - val_output_2_loss: 0.4843 - val_output_1_root_mean_squared_error: 0.8789 - val_output_2_root_mean_squared_error: 0.6959\n",
      "Epoch 6/10\n",
      "363/363 [==============================] - 1s 2ms/step - loss: 0.3336 - output_1_loss: 0.3274 - output_2_loss: 0.3891 - output_1_root_mean_squared_error: 0.5722 - output_2_root_mean_squared_error: 0.6238 - val_loss: 0.7149 - val_output_1_loss: 0.7477 - val_output_2_loss: 0.4197 - val_output_1_root_mean_squared_error: 0.8647 - val_output_2_root_mean_squared_error: 0.6478\n",
      "Epoch 7/10\n",
      "363/363 [==============================] - 1s 2ms/step - loss: 0.3327 - output_1_loss: 0.3268 - output_2_loss: 0.3858 - output_1_root_mean_squared_error: 0.5717 - output_2_root_mean_squared_error: 0.6211 - val_loss: 0.3610 - val_output_1_loss: 0.3510 - val_output_2_loss: 0.4506 - val_output_1_root_mean_squared_error: 0.5925 - val_output_2_root_mean_squared_error: 0.6713\n",
      "Epoch 8/10\n",
      "363/363 [==============================] - 1s 2ms/step - loss: 0.3273 - output_1_loss: 0.3212 - output_2_loss: 0.3822 - output_1_root_mean_squared_error: 0.5667 - output_2_root_mean_squared_error: 0.6182 - val_loss: 0.3091 - val_output_1_loss: 0.3013 - val_output_2_loss: 0.3789 - val_output_1_root_mean_squared_error: 0.5489 - val_output_2_root_mean_squared_error: 0.6156\n",
      "Epoch 9/10\n",
      "363/363 [==============================] - 1s 2ms/step - loss: 0.3246 - output_1_loss: 0.3186 - output_2_loss: 0.3793 - output_1_root_mean_squared_error: 0.5644 - output_2_root_mean_squared_error: 0.6158 - val_loss: 0.3213 - val_output_1_loss: 0.3142 - val_output_2_loss: 0.3843 - val_output_1_root_mean_squared_error: 0.5606 - val_output_2_root_mean_squared_error: 0.6199\n",
      "Epoch 10/10\n",
      "363/363 [==============================] - 1s 2ms/step - loss: 0.3297 - output_1_loss: 0.3241 - output_2_loss: 0.3795 - output_1_root_mean_squared_error: 0.5693 - output_2_root_mean_squared_error: 0.6160 - val_loss: 0.5214 - val_output_1_loss: 0.4979 - val_output_2_loss: 0.7329 - val_output_1_root_mean_squared_error: 0.7056 - val_output_2_root_mean_squared_error: 0.8561\n"
     ]
    }
   ],
   "source": [
    "early_stopping_cb = tf.keras.callbacks.EarlyStopping(patience=10, restore_best_weights=True)\n",
    "\n",
    "history = model.fit((X_train_wide, X_train_deep), (y_train, y_train), epochs=10,\n",
    "    validation_data=((X_valid_wide, X_valid_deep), (y_valid, y_valid)), callbacks=[checkpoint_cb, early_stopping_cb])"
   ]
  },
  {
   "cell_type": "code",
   "execution_count": 48,
   "metadata": {},
   "outputs": [],
   "source": [
    "class PrintValTrainRatioCallback(tf.keras.callbacks.Callback):\n",
    "    def on_epoch_end(self, epoch, logs):\n",
    "        ratio = logs[\"val_loss\"] / logs[\"loss\"]\n",
    "        print(f\"Epoch={epoch}, val/train={ratio:.2f}\")"
   ]
  },
  {
   "cell_type": "code",
   "execution_count": 49,
   "metadata": {},
   "outputs": [
    {
     "name": "stdout",
     "output_type": "stream",
     "text": [
      "Epoch=0, val/train=1.64\n",
      "Epoch=1, val/train=4.82\n",
      "Epoch=2, val/train=1.15\n",
      "Epoch=3, val/train=1.76\n",
      "Epoch=4, val/train=1.97\n",
      "Epoch=5, val/train=3.20\n",
      "Epoch=6, val/train=1.10\n",
      "Epoch=7, val/train=2.16\n",
      "Epoch=8, val/train=1.57\n",
      "Epoch=9, val/train=2.51\n"
     ]
    }
   ],
   "source": [
    "val_train_ratio_cb = PrintValTrainRatioCallback()\n",
    "\n",
    "history = model.fit(\n",
    "    (X_train_wide, X_train_deep), (y_train, y_train), epochs=10,\n",
    "    validation_data=((X_valid_wide, X_valid_deep), (y_valid, y_valid)),\n",
    "    callbacks=[val_train_ratio_cb], verbose=0)"
   ]
  },
  {
   "cell_type": "markdown",
   "metadata": {},
   "source": [
    "## Using TensorBoard for Visualization"
   ]
  },
  {
   "cell_type": "code",
   "execution_count": 82,
   "metadata": {},
   "outputs": [],
   "source": [
    "from pathlib import Path\n",
    "from time import strftime\n",
    "\n",
    "def get_run_logdir(root_logdir=\"my_logs\"):\n",
    "    return Path(root_logdir) / strftime(\"run_%Y_%m_%d_%H_%M_%S\")\n",
    "\n",
    "run_logdir = get_run_logdir() # e.g., my_logs/run_2022_08_01_17_25_59"
   ]
  },
  {
   "cell_type": "code",
   "execution_count": 83,
   "metadata": {},
   "outputs": [
    {
     "name": "stdout",
     "output_type": "stream",
     "text": [
      "Epoch 1/20\n",
      "363/363 [==============================] - 1s 3ms/step - loss: 2.3246 - root_mean_squared_error: 1.5247 - val_loss: 1.6229 - val_root_mean_squared_error: 1.2739\n",
      "Epoch 2/20\n",
      "363/363 [==============================] - 1s 1ms/step - loss: 0.8102 - root_mean_squared_error: 0.9001 - val_loss: 1.0834 - val_root_mean_squared_error: 1.0409\n",
      "Epoch 3/20\n",
      "363/363 [==============================] - 1s 1ms/step - loss: 0.7198 - root_mean_squared_error: 0.8484 - val_loss: 0.7063 - val_root_mean_squared_error: 0.8404\n",
      "Epoch 4/20\n",
      "363/363 [==============================] - 0s 1ms/step - loss: 0.6670 - root_mean_squared_error: 0.8167 - val_loss: 0.6388 - val_root_mean_squared_error: 0.7992\n",
      "Epoch 5/20\n",
      "363/363 [==============================] - 0s 1ms/step - loss: 0.6280 - root_mean_squared_error: 0.7925 - val_loss: 0.5750 - val_root_mean_squared_error: 0.7583\n",
      "Epoch 6/20\n",
      "363/363 [==============================] - 0s 1ms/step - loss: 0.5925 - root_mean_squared_error: 0.7697 - val_loss: 0.5464 - val_root_mean_squared_error: 0.7392\n",
      "Epoch 7/20\n",
      "363/363 [==============================] - 0s 1ms/step - loss: 0.5619 - root_mean_squared_error: 0.7496 - val_loss: 0.5117 - val_root_mean_squared_error: 0.7153\n",
      "Epoch 8/20\n",
      "363/363 [==============================] - 0s 1ms/step - loss: 0.5338 - root_mean_squared_error: 0.7306 - val_loss: 0.4868 - val_root_mean_squared_error: 0.6977\n",
      "Epoch 9/20\n",
      "363/363 [==============================] - 1s 1ms/step - loss: 0.5096 - root_mean_squared_error: 0.7139 - val_loss: 0.4659 - val_root_mean_squared_error: 0.6826\n",
      "Epoch 10/20\n",
      "363/363 [==============================] - 1s 2ms/step - loss: 0.4891 - root_mean_squared_error: 0.6993 - val_loss: 0.4461 - val_root_mean_squared_error: 0.6679\n",
      "Epoch 11/20\n",
      "363/363 [==============================] - 1s 1ms/step - loss: 0.4721 - root_mean_squared_error: 0.6871 - val_loss: 0.4377 - val_root_mean_squared_error: 0.6616\n",
      "Epoch 12/20\n",
      "363/363 [==============================] - 0s 1ms/step - loss: 0.4583 - root_mean_squared_error: 0.6770 - val_loss: 0.4266 - val_root_mean_squared_error: 0.6531\n",
      "Epoch 13/20\n",
      "363/363 [==============================] - 1s 1ms/step - loss: 0.4471 - root_mean_squared_error: 0.6686 - val_loss: 0.4281 - val_root_mean_squared_error: 0.6543\n",
      "Epoch 14/20\n",
      "363/363 [==============================] - 1s 1ms/step - loss: 0.4380 - root_mean_squared_error: 0.6618 - val_loss: 0.4250 - val_root_mean_squared_error: 0.6520\n",
      "Epoch 15/20\n",
      "363/363 [==============================] - 1s 2ms/step - loss: 0.4304 - root_mean_squared_error: 0.6561 - val_loss: 0.4262 - val_root_mean_squared_error: 0.6529\n",
      "Epoch 16/20\n",
      "363/363 [==============================] - 0s 1ms/step - loss: 0.4242 - root_mean_squared_error: 0.6513 - val_loss: 0.4233 - val_root_mean_squared_error: 0.6506\n",
      "Epoch 17/20\n",
      "363/363 [==============================] - 0s 1ms/step - loss: 0.4189 - root_mean_squared_error: 0.6473 - val_loss: 0.4303 - val_root_mean_squared_error: 0.6559\n",
      "Epoch 18/20\n",
      "363/363 [==============================] - 0s 1ms/step - loss: 0.4147 - root_mean_squared_error: 0.6440 - val_loss: 0.4341 - val_root_mean_squared_error: 0.6589\n",
      "Epoch 19/20\n",
      "363/363 [==============================] - 1s 1ms/step - loss: 0.4106 - root_mean_squared_error: 0.6408 - val_loss: 0.4309 - val_root_mean_squared_error: 0.6564\n",
      "Epoch 20/20\n",
      "363/363 [==============================] - 0s 1ms/step - loss: 0.4077 - root_mean_squared_error: 0.6385 - val_loss: 0.4624 - val_root_mean_squared_error: 0.6800\n"
     ]
    }
   ],
   "source": [
    "tf.keras.backend.clear_session()\n",
    "tf.random.set_seed(42)\n",
    "\n",
    "norm_layer = tf.keras.layers.Normalization(input_shape=X_train.shape[1:])\n",
    "model = tf.keras.Sequential([\n",
    "    norm_layer,\n",
    "    tf.keras.layers.Dense(30, activation=\"relu\"),\n",
    "    tf.keras.layers.Dense(30, activation=\"relu\"),\n",
    "    tf.keras.layers.Dense(1)\n",
    "])\n",
    "optimizer = tf.keras.optimizers.SGD(learning_rate=1e-3)\n",
    "\n",
    "model.compile(loss=\"mse\", optimizer=optimizer, metrics=[\"RootMeanSquaredError\"])\n",
    "norm_layer.adapt(X_train)\n",
    "\n",
    "tensorboard_cb = tf.keras.callbacks.TensorBoard(run_logdir, profile_batch=(100, 200))\n",
    "\n",
    "history = model.fit(X_train, y_train, epochs=20,\n",
    "                    validation_data=(X_valid, y_valid),\n",
    "                    callbacks=[tensorboard_cb])"
   ]
  },
  {
   "cell_type": "code",
   "execution_count": 86,
   "metadata": {},
   "outputs": [
    {
     "name": "stdout",
     "output_type": "stream",
     "text": [
      "Epoch 1/20\n",
      "363/363 [==============================] - 1s 3ms/step - loss: 1.6789 - root_mean_squared_error: 1.2957 - val_loss: 15.9849 - val_root_mean_squared_error: 3.9981\n",
      "Epoch 2/20\n",
      "363/363 [==============================] - 1s 2ms/step - loss: 0.7795 - root_mean_squared_error: 0.8829 - val_loss: 0.5694 - val_root_mean_squared_error: 0.7546\n",
      "Epoch 3/20\n",
      "363/363 [==============================] - 1s 1ms/step - loss: 0.5599 - root_mean_squared_error: 0.7482 - val_loss: 0.4927 - val_root_mean_squared_error: 0.7019\n",
      "Epoch 4/20\n",
      "363/363 [==============================] - 1s 1ms/step - loss: 0.5107 - root_mean_squared_error: 0.7147 - val_loss: 0.4652 - val_root_mean_squared_error: 0.6821\n",
      "Epoch 5/20\n",
      "363/363 [==============================] - 0s 1ms/step - loss: 0.4802 - root_mean_squared_error: 0.6929 - val_loss: 0.4349 - val_root_mean_squared_error: 0.6595\n",
      "Epoch 6/20\n",
      "363/363 [==============================] - 1s 2ms/step - loss: 0.4584 - root_mean_squared_error: 0.6770 - val_loss: 0.4156 - val_root_mean_squared_error: 0.6447\n",
      "Epoch 7/20\n",
      "363/363 [==============================] - 1s 1ms/step - loss: 0.4439 - root_mean_squared_error: 0.6663 - val_loss: 0.4007 - val_root_mean_squared_error: 0.6330\n",
      "Epoch 8/20\n",
      "363/363 [==============================] - 1s 1ms/step - loss: 0.4325 - root_mean_squared_error: 0.6577 - val_loss: 0.3915 - val_root_mean_squared_error: 0.6257\n",
      "Epoch 9/20\n",
      "363/363 [==============================] - 1s 1ms/step - loss: 0.4232 - root_mean_squared_error: 0.6505 - val_loss: 0.3882 - val_root_mean_squared_error: 0.6230\n",
      "Epoch 10/20\n",
      "363/363 [==============================] - 0s 1ms/step - loss: 0.4152 - root_mean_squared_error: 0.6444 - val_loss: 0.3859 - val_root_mean_squared_error: 0.6212\n",
      "Epoch 11/20\n",
      "363/363 [==============================] - 0s 1ms/step - loss: 0.4089 - root_mean_squared_error: 0.6395 - val_loss: 0.3856 - val_root_mean_squared_error: 0.6210\n",
      "Epoch 12/20\n",
      "363/363 [==============================] - 1s 1ms/step - loss: 0.4032 - root_mean_squared_error: 0.6350 - val_loss: 0.3869 - val_root_mean_squared_error: 0.6220\n",
      "Epoch 13/20\n",
      "363/363 [==============================] - 1s 1ms/step - loss: 0.3983 - root_mean_squared_error: 0.6311 - val_loss: 0.3916 - val_root_mean_squared_error: 0.6258\n",
      "Epoch 14/20\n",
      "363/363 [==============================] - 1s 2ms/step - loss: 0.3940 - root_mean_squared_error: 0.6277 - val_loss: 0.3829 - val_root_mean_squared_error: 0.6188\n",
      "Epoch 15/20\n",
      "363/363 [==============================] - 1s 2ms/step - loss: 0.3901 - root_mean_squared_error: 0.6246 - val_loss: 0.3872 - val_root_mean_squared_error: 0.6222\n",
      "Epoch 16/20\n",
      "363/363 [==============================] - 1s 2ms/step - loss: 0.3864 - root_mean_squared_error: 0.6216 - val_loss: 0.3668 - val_root_mean_squared_error: 0.6057\n",
      "Epoch 17/20\n",
      "363/363 [==============================] - 1s 1ms/step - loss: 0.3834 - root_mean_squared_error: 0.6192 - val_loss: 0.3766 - val_root_mean_squared_error: 0.6137\n",
      "Epoch 18/20\n",
      "363/363 [==============================] - 1s 2ms/step - loss: 0.3804 - root_mean_squared_error: 0.6168 - val_loss: 0.3741 - val_root_mean_squared_error: 0.6116\n",
      "Epoch 19/20\n",
      "363/363 [==============================] - 1s 1ms/step - loss: 0.3775 - root_mean_squared_error: 0.6144 - val_loss: 0.3642 - val_root_mean_squared_error: 0.6035\n",
      "Epoch 20/20\n",
      "363/363 [==============================] - 1s 1ms/step - loss: 0.3755 - root_mean_squared_error: 0.6128 - val_loss: 0.3872 - val_root_mean_squared_error: 0.6223\n"
     ]
    }
   ],
   "source": [
    "tf.keras.backend.clear_session()\n",
    "tf.random.set_seed(42)\n",
    "\n",
    "norm_layer = tf.keras.layers.Normalization(input_shape=X_train.shape[1:])\n",
    "model = tf.keras.Sequential([\n",
    "    norm_layer,\n",
    "    tf.keras.layers.Dense(30, activation=\"relu\"),\n",
    "    tf.keras.layers.Dense(30, activation=\"relu\"),\n",
    "    tf.keras.layers.Dense(1)\n",
    "])\n",
    "optimizer = tf.keras.optimizers.SGD(learning_rate=2e-3)\n",
    "\n",
    "model.compile(loss=\"mse\", optimizer=optimizer, metrics=[\"RootMeanSquaredError\"])\n",
    "norm_layer.adapt(X_train)\n",
    "\n",
    "run_logdir = get_run_logdir()\n",
    "tensorboard_cb = tf.keras.callbacks.TensorBoard(run_logdir, profile_batch=(100, 200))\n",
    "\n",
    "history = model.fit(X_train, y_train, epochs=20,\n",
    "                    validation_data=(X_valid, y_valid),\n",
    "                    callbacks=[tensorboard_cb])"
   ]
  },
  {
   "cell_type": "code",
   "execution_count": 88,
   "metadata": {},
   "outputs": [],
   "source": [
    "test_logdir = get_run_logdir()\n",
    "writer = tf.summary.create_file_writer(str(test_logdir))\n",
    "with writer.as_default():\n",
    "    for step in range(1, 1000 + 1):\n",
    "        tf.summary.scalar(\"my_scalar\", np.sin(step / 10), step=step)\n",
    "        \n",
    "        data = (np.random.randn(100) + 2) * step / 100 # gets larger\n",
    "        tf.summary.histogram(\"my_hist\", data, buckets=50, step=step)\n",
    "\n",
    "        images = np.random.rand(2, 32, 32, 3) * step / 1000 # gets brighter\n",
    "        tf.summary.image(\"my_images\", images, step=step)\n",
    "\n",
    "        texts = [\"The step is \" + str(step), \"Its square is \" + str(step ** 2)]\n",
    "        tf.summary.text(\"my_text\", texts, step=step)\n",
    "        \n",
    "        sine_wave = tf.math.sin(tf.range(12000) / 48000 * 2 * np.pi * step)\n",
    "        audio = tf.reshape(tf.cast(sine_wave, tf.float32), [1, -1, 1])\n",
    "        tf.summary.audio(\"my_audio\", audio, sample_rate=48000, step=step)"
   ]
  },
  {
   "cell_type": "markdown",
   "metadata": {},
   "source": [
    "# Fine-Tuning Neural Network Hyperparameters"
   ]
  },
  {
   "cell_type": "code",
   "execution_count": 90,
   "metadata": {},
   "outputs": [],
   "source": [
    "import keras_tuner as kt\n",
    "\n",
    "def build_model(hp):\n",
    "    n_hidden = hp.Int(\"n_hidden\", min_value=0, max_value=8, default=2)\n",
    "    n_neurons = hp.Int(\"n_neurons\", min_value=16, max_value=256)\n",
    "    learning_rate = hp.Float(\"learning_rate\", min_value=1e-4, max_value=1e-2, sampling=\"log\")\n",
    "\n",
    "    optimizer = hp.Choice(\"optimizer\", values=[\"sgd\", \"adam\"])\n",
    "    if optimizer == \"sgd\":\n",
    "        optimizer = tf.keras.optimizers.SGD(learning_rate=learning_rate)\n",
    "    else:\n",
    "        optimizer = tf.keras.optimizers.Adam(learning_rate=learning_rate)\n",
    "\n",
    "    model = tf.keras.Sequential()\n",
    "    model.add(tf.keras.layers.Flatten())\n",
    "    for _ in range(n_hidden):\n",
    "        model.add(tf.keras.layers.Dense(n_neurons, activation=\"relu\"))\n",
    "    model.add(tf.keras.layers.Dense(10, activation=\"softmax\"))\n",
    "    model.compile(loss=\"sparse_categorical_crossentropy\", optimizer=optimizer, metrics=[\"accuracy\"])\n",
    "\n",
    "    return model"
   ]
  },
  {
   "cell_type": "code",
   "execution_count": 92,
   "metadata": {},
   "outputs": [
    {
     "name": "stdout",
     "output_type": "stream",
     "text": [
      "Trial 10 Complete [00h 00m 07s]\n",
      "val_accuracy: 0.004651162773370743\n",
      "\n",
      "Best val_accuracy So Far: 0.004651162773370743\n",
      "Total elapsed time: 00h 01m 09s\n"
     ]
    }
   ],
   "source": [
    "random_search_tuner = kt.RandomSearch(build_model, objective=\"val_accuracy\", max_trials=5, overwrite=True,\n",
    "                                      directory=\"my_fashion_mnist\", project_name=\"my_rnd_search\", seed=42)\n",
    "\n",
    "random_search_tuner.search(X_train, y_train, epochs=10, validation_data=(X_valid, y_valid))"
   ]
  },
  {
   "cell_type": "code",
   "execution_count": 97,
   "metadata": {},
   "outputs": [
    {
     "name": "stdout",
     "output_type": "stream",
     "text": [
      "WARNING:tensorflow:Detecting that an object or model or tf.train.Checkpoint is being deleted with unrestored values. See the following logs for the specific values in question. To silence these warnings, use `status.expect_partial()`. See https://www.tensorflow.org/api_docs/python/tf/train/Checkpoint#restorefor details about the status object returned by the restore function.\n",
      "WARNING:tensorflow:Value in checkpoint could not be found in the restored object: (root).layer_with_weights-0.kernel\n",
      "WARNING:tensorflow:Value in checkpoint could not be found in the restored object: (root).layer_with_weights-0.bias\n",
      "WARNING:tensorflow:Value in checkpoint could not be found in the restored object: (root).layer_with_weights-1.kernel\n",
      "WARNING:tensorflow:Value in checkpoint could not be found in the restored object: (root).layer_with_weights-1.bias\n",
      "WARNING:tensorflow:Value in checkpoint could not be found in the restored object: (root).layer_with_weights-2.kernel\n",
      "WARNING:tensorflow:Value in checkpoint could not be found in the restored object: (root).layer_with_weights-2.bias\n",
      "WARNING:tensorflow:Value in checkpoint could not be found in the restored object: (root).layer_with_weights-3.kernel\n",
      "WARNING:tensorflow:Value in checkpoint could not be found in the restored object: (root).layer_with_weights-3.bias\n",
      "WARNING:tensorflow:Value in checkpoint could not be found in the restored object: (root).layer_with_weights-4.kernel\n",
      "WARNING:tensorflow:Value in checkpoint could not be found in the restored object: (root).layer_with_weights-4.bias\n",
      "WARNING:tensorflow:Value in checkpoint could not be found in the restored object: (root).layer_with_weights-5.kernel\n",
      "WARNING:tensorflow:Value in checkpoint could not be found in the restored object: (root).layer_with_weights-5.bias\n",
      "WARNING:tensorflow:Value in checkpoint could not be found in the restored object: (root).layer_with_weights-6.kernel\n",
      "WARNING:tensorflow:Value in checkpoint could not be found in the restored object: (root).layer_with_weights-6.bias\n",
      "WARNING:tensorflow:Value in checkpoint could not be found in the restored object: (root).layer_with_weights-7.kernel\n",
      "WARNING:tensorflow:Value in checkpoint could not be found in the restored object: (root).layer_with_weights-7.bias\n",
      "WARNING:tensorflow:Value in checkpoint could not be found in the restored object: (root).optimizer.iter\n",
      "WARNING:tensorflow:Value in checkpoint could not be found in the restored object: (root).optimizer.decay\n",
      "WARNING:tensorflow:Value in checkpoint could not be found in the restored object: (root).optimizer.learning_rate\n",
      "WARNING:tensorflow:Value in checkpoint could not be found in the restored object: (root).optimizer.momentum\n",
      "WARNING:tensorflow:Detecting that an object or model or tf.train.Checkpoint is being deleted with unrestored values. See the following logs for the specific values in question. To silence these warnings, use `status.expect_partial()`. See https://www.tensorflow.org/api_docs/python/tf/train/Checkpoint#restorefor details about the status object returned by the restore function.\n",
      "WARNING:tensorflow:Value in checkpoint could not be found in the restored object: (root).layer_with_weights-0.kernel\n",
      "WARNING:tensorflow:Value in checkpoint could not be found in the restored object: (root).layer_with_weights-0.bias\n",
      "WARNING:tensorflow:Value in checkpoint could not be found in the restored object: (root).layer_with_weights-1.kernel\n",
      "WARNING:tensorflow:Value in checkpoint could not be found in the restored object: (root).layer_with_weights-1.bias\n",
      "WARNING:tensorflow:Value in checkpoint could not be found in the restored object: (root).layer_with_weights-2.kernel\n",
      "WARNING:tensorflow:Value in checkpoint could not be found in the restored object: (root).layer_with_weights-2.bias\n",
      "WARNING:tensorflow:Value in checkpoint could not be found in the restored object: (root).layer_with_weights-3.kernel\n",
      "WARNING:tensorflow:Value in checkpoint could not be found in the restored object: (root).layer_with_weights-3.bias\n",
      "WARNING:tensorflow:Value in checkpoint could not be found in the restored object: (root).layer_with_weights-4.kernel\n",
      "WARNING:tensorflow:Value in checkpoint could not be found in the restored object: (root).layer_with_weights-4.bias\n",
      "WARNING:tensorflow:Value in checkpoint could not be found in the restored object: (root).layer_with_weights-5.kernel\n",
      "WARNING:tensorflow:Value in checkpoint could not be found in the restored object: (root).layer_with_weights-5.bias\n",
      "WARNING:tensorflow:Value in checkpoint could not be found in the restored object: (root).optimizer.iter\n",
      "WARNING:tensorflow:Value in checkpoint could not be found in the restored object: (root).optimizer.decay\n",
      "WARNING:tensorflow:Value in checkpoint could not be found in the restored object: (root).optimizer.learning_rate\n",
      "WARNING:tensorflow:Value in checkpoint could not be found in the restored object: (root).optimizer.momentum\n",
      "WARNING:tensorflow:Detecting that an object or model or tf.train.Checkpoint is being deleted with unrestored values. See the following logs for the specific values in question. To silence these warnings, use `status.expect_partial()`. See https://www.tensorflow.org/api_docs/python/tf/train/Checkpoint#restorefor details about the status object returned by the restore function.\n",
      "WARNING:tensorflow:Value in checkpoint could not be found in the restored object: (root).layer_with_weights-0.kernel\n",
      "WARNING:tensorflow:Value in checkpoint could not be found in the restored object: (root).layer_with_weights-0.bias\n",
      "WARNING:tensorflow:Value in checkpoint could not be found in the restored object: (root).layer_with_weights-1.kernel\n",
      "WARNING:tensorflow:Value in checkpoint could not be found in the restored object: (root).layer_with_weights-1.bias\n",
      "WARNING:tensorflow:Value in checkpoint could not be found in the restored object: (root).layer_with_weights-2.kernel\n",
      "WARNING:tensorflow:Value in checkpoint could not be found in the restored object: (root).layer_with_weights-2.bias\n",
      "WARNING:tensorflow:Value in checkpoint could not be found in the restored object: (root).layer_with_weights-3.kernel\n",
      "WARNING:tensorflow:Value in checkpoint could not be found in the restored object: (root).layer_with_weights-3.bias\n",
      "WARNING:tensorflow:Value in checkpoint could not be found in the restored object: (root).layer_with_weights-4.kernel\n",
      "WARNING:tensorflow:Value in checkpoint could not be found in the restored object: (root).layer_with_weights-4.bias\n",
      "WARNING:tensorflow:Value in checkpoint could not be found in the restored object: (root).layer_with_weights-5.kernel\n",
      "WARNING:tensorflow:Value in checkpoint could not be found in the restored object: (root).layer_with_weights-5.bias\n",
      "WARNING:tensorflow:Value in checkpoint could not be found in the restored object: (root).layer_with_weights-6.kernel\n",
      "WARNING:tensorflow:Value in checkpoint could not be found in the restored object: (root).layer_with_weights-6.bias\n",
      "WARNING:tensorflow:Value in checkpoint could not be found in the restored object: (root).layer_with_weights-7.kernel\n",
      "WARNING:tensorflow:Value in checkpoint could not be found in the restored object: (root).layer_with_weights-7.bias\n",
      "WARNING:tensorflow:Value in checkpoint could not be found in the restored object: (root).optimizer.iter\n",
      "WARNING:tensorflow:Value in checkpoint could not be found in the restored object: (root).optimizer.beta_1\n",
      "WARNING:tensorflow:Value in checkpoint could not be found in the restored object: (root).optimizer.beta_2\n",
      "WARNING:tensorflow:Value in checkpoint could not be found in the restored object: (root).optimizer.decay\n",
      "WARNING:tensorflow:Value in checkpoint could not be found in the restored object: (root).optimizer.learning_rate\n",
      "WARNING:tensorflow:Value in checkpoint could not be found in the restored object: (root).optimizer's state 'm' for (root).layer_with_weights-0.kernel\n",
      "WARNING:tensorflow:Value in checkpoint could not be found in the restored object: (root).optimizer's state 'm' for (root).layer_with_weights-0.bias\n",
      "WARNING:tensorflow:Value in checkpoint could not be found in the restored object: (root).optimizer's state 'm' for (root).layer_with_weights-1.kernel\n",
      "WARNING:tensorflow:Value in checkpoint could not be found in the restored object: (root).optimizer's state 'm' for (root).layer_with_weights-1.bias\n",
      "WARNING:tensorflow:Value in checkpoint could not be found in the restored object: (root).optimizer's state 'm' for (root).layer_with_weights-2.kernel\n",
      "WARNING:tensorflow:Value in checkpoint could not be found in the restored object: (root).optimizer's state 'm' for (root).layer_with_weights-2.bias\n",
      "WARNING:tensorflow:Value in checkpoint could not be found in the restored object: (root).optimizer's state 'm' for (root).layer_with_weights-3.kernel\n",
      "WARNING:tensorflow:Value in checkpoint could not be found in the restored object: (root).optimizer's state 'm' for (root).layer_with_weights-3.bias\n",
      "WARNING:tensorflow:Value in checkpoint could not be found in the restored object: (root).optimizer's state 'm' for (root).layer_with_weights-4.kernel\n",
      "WARNING:tensorflow:Value in checkpoint could not be found in the restored object: (root).optimizer's state 'm' for (root).layer_with_weights-4.bias\n",
      "WARNING:tensorflow:Value in checkpoint could not be found in the restored object: (root).optimizer's state 'm' for (root).layer_with_weights-5.kernel\n",
      "WARNING:tensorflow:Value in checkpoint could not be found in the restored object: (root).optimizer's state 'm' for (root).layer_with_weights-5.bias\n",
      "WARNING:tensorflow:Value in checkpoint could not be found in the restored object: (root).optimizer's state 'm' for (root).layer_with_weights-6.kernel\n",
      "WARNING:tensorflow:Value in checkpoint could not be found in the restored object: (root).optimizer's state 'm' for (root).layer_with_weights-6.bias\n",
      "WARNING:tensorflow:Value in checkpoint could not be found in the restored object: (root).optimizer's state 'm' for (root).layer_with_weights-7.kernel\n",
      "WARNING:tensorflow:Value in checkpoint could not be found in the restored object: (root).optimizer's state 'm' for (root).layer_with_weights-7.bias\n",
      "WARNING:tensorflow:Value in checkpoint could not be found in the restored object: (root).optimizer's state 'v' for (root).layer_with_weights-0.kernel\n",
      "WARNING:tensorflow:Value in checkpoint could not be found in the restored object: (root).optimizer's state 'v' for (root).layer_with_weights-0.bias\n",
      "WARNING:tensorflow:Value in checkpoint could not be found in the restored object: (root).optimizer's state 'v' for (root).layer_with_weights-1.kernel\n",
      "WARNING:tensorflow:Value in checkpoint could not be found in the restored object: (root).optimizer's state 'v' for (root).layer_with_weights-1.bias\n",
      "WARNING:tensorflow:Value in checkpoint could not be found in the restored object: (root).optimizer's state 'v' for (root).layer_with_weights-2.kernel\n",
      "WARNING:tensorflow:Value in checkpoint could not be found in the restored object: (root).optimizer's state 'v' for (root).layer_with_weights-2.bias\n",
      "WARNING:tensorflow:Value in checkpoint could not be found in the restored object: (root).optimizer's state 'v' for (root).layer_with_weights-3.kernel\n",
      "WARNING:tensorflow:Value in checkpoint could not be found in the restored object: (root).optimizer's state 'v' for (root).layer_with_weights-3.bias\n",
      "WARNING:tensorflow:Value in checkpoint could not be found in the restored object: (root).optimizer's state 'v' for (root).layer_with_weights-4.kernel\n",
      "WARNING:tensorflow:Value in checkpoint could not be found in the restored object: (root).optimizer's state 'v' for (root).layer_with_weights-4.bias\n",
      "WARNING:tensorflow:Value in checkpoint could not be found in the restored object: (root).optimizer's state 'v' for (root).layer_with_weights-5.kernel\n",
      "WARNING:tensorflow:Value in checkpoint could not be found in the restored object: (root).optimizer's state 'v' for (root).layer_with_weights-5.bias\n",
      "WARNING:tensorflow:Value in checkpoint could not be found in the restored object: (root).optimizer's state 'v' for (root).layer_with_weights-6.kernel\n",
      "WARNING:tensorflow:Value in checkpoint could not be found in the restored object: (root).optimizer's state 'v' for (root).layer_with_weights-6.bias\n",
      "WARNING:tensorflow:Value in checkpoint could not be found in the restored object: (root).optimizer's state 'v' for (root).layer_with_weights-7.kernel\n",
      "WARNING:tensorflow:Value in checkpoint could not be found in the restored object: (root).optimizer's state 'v' for (root).layer_with_weights-7.bias\n"
     ]
    }
   ],
   "source": [
    "top3_models = random_search_tuner.get_best_models(num_models=3)\n",
    "best_model = top3_models[0]"
   ]
  },
  {
   "cell_type": "code",
   "execution_count": 98,
   "metadata": {},
   "outputs": [
    {
     "data": {
      "text/plain": [
       "{'n_hidden': 7,\n",
       " 'n_neurons': 51,\n",
       " 'learning_rate': 0.0003491260272208854,\n",
       " 'optimizer': 'adam'}"
      ]
     },
     "execution_count": 98,
     "metadata": {},
     "output_type": "execute_result"
    }
   ],
   "source": [
    "top3_params = random_search_tuner.get_best_hyperparameters(num_trials=3)\n",
    "top3_params[0].values"
   ]
  },
  {
   "cell_type": "code",
   "execution_count": 99,
   "metadata": {},
   "outputs": [
    {
     "name": "stdout",
     "output_type": "stream",
     "text": [
      "Trial 09 summary\n",
      "Hyperparameters:\n",
      "n_hidden: 7\n",
      "n_neurons: 51\n",
      "learning_rate: 0.0003491260272208854\n",
      "optimizer: adam\n",
      "Score: 0.004651162773370743\n"
     ]
    }
   ],
   "source": [
    "best_trial = random_search_tuner.oracle.get_best_trials(num_trials=1)[0]\n",
    "best_trial.summary()"
   ]
  },
  {
   "cell_type": "code",
   "execution_count": 100,
   "metadata": {},
   "outputs": [
    {
     "data": {
      "text/plain": [
       "0.004651162773370743"
      ]
     },
     "execution_count": 100,
     "metadata": {},
     "output_type": "execute_result"
    }
   ],
   "source": [
    "best_trial.metrics.get_last_value(\"val_accuracy\")"
   ]
  }
 ],
 "metadata": {
  "kernelspec": {
   "display_name": ".venv",
   "language": "python",
   "name": "python3"
  },
  "language_info": {
   "codemirror_mode": {
    "name": "ipython",
    "version": 3
   },
   "file_extension": ".py",
   "mimetype": "text/x-python",
   "name": "python",
   "nbconvert_exporter": "python",
   "pygments_lexer": "ipython3",
   "version": "3.9.13"
  }
 },
 "nbformat": 4,
 "nbformat_minor": 2
}
