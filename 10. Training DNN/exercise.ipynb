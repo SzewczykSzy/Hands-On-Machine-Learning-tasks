{
 "cells": [
  {
   "cell_type": "markdown",
   "metadata": {},
   "source": [
    "# Exercise"
   ]
  },
  {
   "cell_type": "code",
   "execution_count": 18,
   "metadata": {},
   "outputs": [],
   "source": [
    "import tensorflow as tf\n",
    "\n",
    "(x_train, y_train), (x_test, y_test) = tf.keras.datasets.cifar10.load_data()\n",
    "\n",
    "x_valid, y_valid = x_train[:5000], y_train[:5000]\n",
    "x_train, y_train = x_train[5000:], y_train[5000:]"
   ]
  },
  {
   "cell_type": "markdown",
   "metadata": {},
   "source": [
    "# a)"
   ]
  },
  {
   "cell_type": "code",
   "execution_count": 24,
   "metadata": {},
   "outputs": [],
   "source": [
    "model = tf.keras.Sequential()\n",
    "model.add(tf.keras.layers.Input(shape=[32, 32, 3]))\n",
    "model.add(tf.keras.layers.Flatten())\n",
    "\n",
    "for _ in range(20):\n",
    "    model.add(tf.keras.layers.Dense(100, activation=\"swish\", kernel_initializer=\"he_normal\"))\n",
    "\n",
    "model.add(tf.keras.layers.Dense(10, activation=\"softmax\"))"
   ]
  },
  {
   "cell_type": "markdown",
   "metadata": {},
   "source": [
    "# b)"
   ]
  },
  {
   "cell_type": "code",
   "execution_count": 25,
   "metadata": {},
   "outputs": [],
   "source": [
    "optimizer = tf.keras.optimizers.Nadam(learning_rate=0.001, beta_1=0.9, beta_2=0.999, epsilon=1e-07)\n",
    "model.compile(loss=\"sparse_categorical_crossentropy\", optimizer=optimizer, metrics=[\"accuracy\"])"
   ]
  },
  {
   "cell_type": "code",
   "execution_count": 31,
   "metadata": {},
   "outputs": [
    {
     "name": "stdout",
     "output_type": "stream",
     "text": [
      "Epoch 1/10\n",
      "1407/1407 [==============================] - 12s 7ms/step - loss: 3.3178 - accuracy: 0.2086 - val_loss: 2.1295 - val_accuracy: 0.2138\n",
      "Epoch 2/10\n",
      "1407/1407 [==============================] - 10s 7ms/step - loss: 1.9989 - accuracy: 0.2518 - val_loss: 1.9579 - val_accuracy: 0.2752\n",
      "Epoch 3/10\n",
      "1407/1407 [==============================] - 9s 7ms/step - loss: 1.9228 - accuracy: 0.2855 - val_loss: 1.8996 - val_accuracy: 0.3014\n",
      "Epoch 4/10\n",
      "1407/1407 [==============================] - 10s 7ms/step - loss: 1.8802 - accuracy: 0.3084 - val_loss: 1.8857 - val_accuracy: 0.3038\n",
      "Epoch 5/10\n",
      "1407/1407 [==============================] - 10s 7ms/step - loss: 1.8507 - accuracy: 0.3194 - val_loss: 1.8536 - val_accuracy: 0.3312\n",
      "Epoch 6/10\n",
      "1407/1407 [==============================] - 10s 7ms/step - loss: 1.8267 - accuracy: 0.3363 - val_loss: 1.8621 - val_accuracy: 0.3218\n",
      "Epoch 7/10\n",
      "1407/1407 [==============================] - 10s 7ms/step - loss: 1.9127 - accuracy: 0.2923 - val_loss: 1.8908 - val_accuracy: 0.2844\n",
      "Epoch 8/10\n",
      "1407/1407 [==============================] - 10s 7ms/step - loss: 1.8894 - accuracy: 0.2976 - val_loss: 1.9012 - val_accuracy: 0.2884\n",
      "Epoch 1/10\n",
      "1407/1407 [==============================] - 14s 8ms/step - loss: 2.7401 - accuracy: 0.1877 - val_loss: 2.0684 - val_accuracy: 0.2412\n",
      "Epoch 2/10\n",
      "1407/1407 [==============================] - 10s 7ms/step - loss: 1.9594 - accuracy: 0.2818 - val_loss: 1.9217 - val_accuracy: 0.3112\n",
      "Epoch 3/10\n",
      "1407/1407 [==============================] - 10s 7ms/step - loss: 1.8640 - accuracy: 0.3243 - val_loss: 1.8200 - val_accuracy: 0.3420\n",
      "Epoch 4/10\n",
      "1407/1407 [==============================] - 10s 7ms/step - loss: 1.7977 - accuracy: 0.3474 - val_loss: 1.7769 - val_accuracy: 0.3554\n",
      "Epoch 5/10\n",
      "1407/1407 [==============================] - 10s 7ms/step - loss: 1.7358 - accuracy: 0.3726 - val_loss: 1.7971 - val_accuracy: 0.3438\n",
      "Epoch 6/10\n",
      "1407/1407 [==============================] - 10s 7ms/step - loss: 1.6869 - accuracy: 0.3903 - val_loss: 1.7552 - val_accuracy: 0.3622\n",
      "Epoch 7/10\n",
      "1407/1407 [==============================] - 10s 7ms/step - loss: 1.6524 - accuracy: 0.4064 - val_loss: 1.6533 - val_accuracy: 0.3952\n",
      "Epoch 8/10\n",
      "1407/1407 [==============================] - 10s 7ms/step - loss: 1.6203 - accuracy: 0.4202 - val_loss: 1.5987 - val_accuracy: 0.4276\n",
      "Epoch 9/10\n",
      "1407/1407 [==============================] - 10s 7ms/step - loss: 1.5920 - accuracy: 0.4304 - val_loss: 1.6290 - val_accuracy: 0.4176\n",
      "Epoch 10/10\n",
      "1407/1407 [==============================] - 10s 7ms/step - loss: 1.5747 - accuracy: 0.4369 - val_loss: 1.6023 - val_accuracy: 0.4282\n",
      "Epoch 1/10\n",
      "1407/1407 [==============================] - 12s 7ms/step - loss: 18.4719 - accuracy: 0.1265 - val_loss: 3.2638 - val_accuracy: 0.1460\n",
      "Epoch 2/10\n",
      "1407/1407 [==============================] - 9s 7ms/step - loss: 2.7639 - accuracy: 0.1627 - val_loss: 2.4520 - val_accuracy: 0.1752\n",
      "Epoch 3/10\n",
      "1407/1407 [==============================] - 9s 7ms/step - loss: 2.2978 - accuracy: 0.1954 - val_loss: 2.1974 - val_accuracy: 0.2032\n",
      "Epoch 4/10\n",
      "1407/1407 [==============================] - 9s 7ms/step - loss: 2.1470 - accuracy: 0.2218 - val_loss: 2.0910 - val_accuracy: 0.2402\n",
      "Epoch 5/10\n",
      "1407/1407 [==============================] - 9s 7ms/step - loss: 2.0570 - accuracy: 0.2471 - val_loss: 2.0167 - val_accuracy: 0.2502\n",
      "Epoch 6/10\n",
      "1407/1407 [==============================] - 9s 7ms/step - loss: 1.9865 - accuracy: 0.2701 - val_loss: 1.9565 - val_accuracy: 0.2728\n",
      "Epoch 7/10\n",
      "1407/1407 [==============================] - 9s 7ms/step - loss: 1.9353 - accuracy: 0.2929 - val_loss: 1.9243 - val_accuracy: 0.2860\n",
      "Epoch 8/10\n",
      "1407/1407 [==============================] - 10s 7ms/step - loss: 1.8953 - accuracy: 0.3092 - val_loss: 1.8975 - val_accuracy: 0.3096\n",
      "Epoch 9/10\n",
      "1407/1407 [==============================] - 10s 7ms/step - loss: 1.8617 - accuracy: 0.3214 - val_loss: 1.8651 - val_accuracy: 0.3088\n",
      "Epoch 10/10\n",
      "1407/1407 [==============================] - 10s 7ms/step - loss: 1.8270 - accuracy: 0.3340 - val_loss: 1.8174 - val_accuracy: 0.3432\n",
      "Best learning rate: 0.0001\n"
     ]
    }
   ],
   "source": [
    "learning_rates = [0.001, 0.0001, 0.00001]\n",
    "\n",
    "val_accuracies = []\n",
    "\n",
    "for lr in learning_rates:\n",
    "    model = tf.keras.Sequential()\n",
    "    model.add(tf.keras.layers.Input(shape=[32, 32, 3]))\n",
    "    model.add(tf.keras.layers.Flatten())\n",
    "\n",
    "    for _ in range(20):\n",
    "        model.add(tf.keras.layers.Dense(100, activation=\"swish\", kernel_initializer=\"he_normal\"))\n",
    "\n",
    "    model.add(tf.keras.layers.Dense(10, activation=\"softmax\"))\n",
    "\n",
    "    optimizer = tf.keras.optimizers.Nadam(learning_rate=lr, beta_1=0.9, beta_2=0.999, epsilon=1e-07)\n",
    "    model.compile(loss=\"sparse_categorical_crossentropy\", optimizer=optimizer, metrics=[\"accuracy\"])\n",
    "\n",
    "    history = model.fit(x_train, y_train, epochs=10, validation_data=(x_valid, y_valid), callbacks=[tf.keras.callbacks.EarlyStopping(patience=3)])\n",
    "\n",
    "    val_acc = max(history.history['val_accuracy'])\n",
    "    val_accuracies.append(val_acc)\n",
    "\n",
    "best_lr_index = val_accuracies.index(max(val_accuracies))\n",
    "best_lr = learning_rates[best_lr_index]\n",
    "print(\"Best learning rate:\", best_lr)"
   ]
  },
  {
   "cell_type": "code",
   "execution_count": 32,
   "metadata": {},
   "outputs": [],
   "source": [
    "from pathlib import Path\n",
    "\n",
    "early_stopping_cb = tf.keras.callbacks.EarlyStopping(patience=10, restore_best_weights=True)\n",
    "\n",
    "checkpoint_cb = tf.keras.callbacks.ModelCheckpoint(\"my_cifar10_model\", save_best_only=True)\n",
    "\n",
    "run_index = 1\n",
    "run_logdir = Path() / \"my_cifar10_logs\" / f\"run_{run_index:03d}\"\n",
    "tensorboard_cb = tf.keras.callbacks.TensorBoard(run_logdir)\n",
    "callbacks = [early_stopping_cb, checkpoint_cb, tensorboard_cb]"
   ]
  },
  {
   "cell_type": "code",
   "execution_count": null,
   "metadata": {},
   "outputs": [],
   "source": [
    "%load_ext tensorboard\n",
    "%tensorboard --logdir=./my_cifar10_logs"
   ]
  },
  {
   "cell_type": "code",
   "execution_count": 34,
   "metadata": {},
   "outputs": [],
   "source": [
    "optimizer = tf.keras.optimizers.Nadam(learning_rate=0.0001, beta_1=0.9, beta_2=0.999, epsilon=1e-07)\n",
    "model.compile(loss=\"sparse_categorical_crossentropy\", optimizer=optimizer, metrics=[\"accuracy\"])"
   ]
  },
  {
   "cell_type": "code",
   "execution_count": 35,
   "metadata": {},
   "outputs": [
    {
     "name": "stdout",
     "output_type": "stream",
     "text": [
      "Epoch 1/100\n",
      "1400/1407 [============================>.] - ETA: 0s - loss: 2.0404 - accuracy: 0.2621INFO:tensorflow:Assets written to: my_cifar10_model\\assets\n",
      "1407/1407 [==============================] - 16s 9ms/step - loss: 2.0405 - accuracy: 0.2621 - val_loss: 1.9699 - val_accuracy: 0.2692\n",
      "Epoch 2/100\n",
      "1407/1407 [==============================] - 10s 7ms/step - loss: 1.8670 - accuracy: 0.3216 - val_loss: 1.9968 - val_accuracy: 0.2940\n",
      "Epoch 3/100\n",
      "1406/1407 [============================>.] - ETA: 0s - loss: 1.7890 - accuracy: 0.3535INFO:tensorflow:Assets written to: my_cifar10_model\\assets\n",
      "1407/1407 [==============================] - 13s 10ms/step - loss: 1.7891 - accuracy: 0.3534 - val_loss: 1.9321 - val_accuracy: 0.3350\n",
      "Epoch 4/100\n",
      "1406/1407 [============================>.] - ETA: 0s - loss: 1.7261 - accuracy: 0.3750INFO:tensorflow:Assets written to: my_cifar10_model\\assets\n",
      "1407/1407 [==============================] - 18s 13ms/step - loss: 1.7261 - accuracy: 0.3751 - val_loss: 1.7259 - val_accuracy: 0.3618\n",
      "Epoch 5/100\n",
      "1402/1407 [============================>.] - ETA: 0s - loss: 1.6861 - accuracy: 0.3914INFO:tensorflow:Assets written to: my_cifar10_model\\assets\n",
      "1407/1407 [==============================] - 19s 14ms/step - loss: 1.6862 - accuracy: 0.3915 - val_loss: 1.6962 - val_accuracy: 0.3848\n",
      "Epoch 6/100\n",
      "1404/1407 [============================>.] - ETA: 0s - loss: 1.6470 - accuracy: 0.4063INFO:tensorflow:Assets written to: my_cifar10_model\\assets\n",
      "1407/1407 [==============================] - 15s 10ms/step - loss: 1.6474 - accuracy: 0.4062 - val_loss: 1.6447 - val_accuracy: 0.4008\n",
      "Epoch 7/100\n",
      "1405/1407 [============================>.] - ETA: 0s - loss: 1.6177 - accuracy: 0.4177INFO:tensorflow:Assets written to: my_cifar10_model\\assets\n",
      "1407/1407 [==============================] - 18s 13ms/step - loss: 1.6179 - accuracy: 0.4176 - val_loss: 1.6344 - val_accuracy: 0.4036\n",
      "Epoch 8/100\n",
      "1407/1407 [==============================] - 12s 8ms/step - loss: 1.5934 - accuracy: 0.4285 - val_loss: 1.6492 - val_accuracy: 0.4066\n",
      "Epoch 9/100\n",
      "1407/1407 [==============================] - 11s 8ms/step - loss: 1.5706 - accuracy: 0.4361 - val_loss: 1.6443 - val_accuracy: 0.4206\n",
      "Epoch 10/100\n",
      "1404/1407 [============================>.] - ETA: 0s - loss: 1.5477 - accuracy: 0.4446INFO:tensorflow:Assets written to: my_cifar10_model\\assets\n",
      "1407/1407 [==============================] - 13s 10ms/step - loss: 1.5478 - accuracy: 0.4446 - val_loss: 1.5882 - val_accuracy: 0.4302\n",
      "Epoch 11/100\n",
      "1407/1407 [==============================] - 10s 7ms/step - loss: 1.5272 - accuracy: 0.4534 - val_loss: 1.6517 - val_accuracy: 0.4162\n",
      "Epoch 12/100\n",
      "1405/1407 [============================>.] - ETA: 0s - loss: 1.5126 - accuracy: 0.4560INFO:tensorflow:Assets written to: my_cifar10_model\\assets\n",
      "1407/1407 [==============================] - 18s 12ms/step - loss: 1.5125 - accuracy: 0.4561 - val_loss: 1.5871 - val_accuracy: 0.4340\n",
      "Epoch 13/100\n",
      "1405/1407 [============================>.] - ETA: 0s - loss: 1.4968 - accuracy: 0.4624INFO:tensorflow:Assets written to: my_cifar10_model\\assets\n",
      "1407/1407 [==============================] - 19s 13ms/step - loss: 1.4967 - accuracy: 0.4625 - val_loss: 1.5517 - val_accuracy: 0.4466\n",
      "Epoch 14/100\n",
      "1407/1407 [==============================] - 14s 10ms/step - loss: 1.4793 - accuracy: 0.4703 - val_loss: 1.5739 - val_accuracy: 0.4446\n",
      "Epoch 15/100\n",
      "1407/1407 [==============================] - ETA: 0s - loss: 1.4658 - accuracy: 0.4786INFO:tensorflow:Assets written to: my_cifar10_model\\assets\n",
      "1407/1407 [==============================] - 14s 10ms/step - loss: 1.4658 - accuracy: 0.4786 - val_loss: 1.5275 - val_accuracy: 0.4522\n",
      "Epoch 16/100\n",
      "1407/1407 [==============================] - 11s 8ms/step - loss: 1.4538 - accuracy: 0.4791 - val_loss: 1.5501 - val_accuracy: 0.4494\n",
      "Epoch 17/100\n",
      "1407/1407 [==============================] - 12s 9ms/step - loss: 1.4431 - accuracy: 0.4829 - val_loss: 1.5461 - val_accuracy: 0.4440\n",
      "Epoch 18/100\n",
      "1407/1407 [==============================] - ETA: 0s - loss: 1.4292 - accuracy: 0.4877INFO:tensorflow:Assets written to: my_cifar10_model\\assets\n",
      "1407/1407 [==============================] - 15s 11ms/step - loss: 1.4292 - accuracy: 0.4877 - val_loss: 1.5042 - val_accuracy: 0.4694\n",
      "Epoch 19/100\n",
      "1407/1407 [==============================] - 12s 9ms/step - loss: 1.4149 - accuracy: 0.4955 - val_loss: 1.5278 - val_accuracy: 0.4556\n",
      "Epoch 20/100\n",
      "1403/1407 [============================>.] - ETA: 0s - loss: 1.4065 - accuracy: 0.4971INFO:tensorflow:Assets written to: my_cifar10_model\\assets\n",
      "1407/1407 [==============================] - 15s 11ms/step - loss: 1.4065 - accuracy: 0.4971 - val_loss: 1.4971 - val_accuracy: 0.4696\n",
      "Epoch 21/100\n",
      "1407/1407 [==============================] - 12s 8ms/step - loss: 1.3929 - accuracy: 0.4999 - val_loss: 1.5212 - val_accuracy: 0.4588\n",
      "Epoch 22/100\n",
      "1407/1407 [==============================] - 11s 8ms/step - loss: 1.3810 - accuracy: 0.5057 - val_loss: 1.5135 - val_accuracy: 0.4640\n",
      "Epoch 23/100\n",
      "1407/1407 [==============================] - 11s 8ms/step - loss: 1.3743 - accuracy: 0.5078 - val_loss: 1.5094 - val_accuracy: 0.4704\n",
      "Epoch 24/100\n",
      "1407/1407 [==============================] - 11s 8ms/step - loss: 1.3633 - accuracy: 0.5123 - val_loss: 1.6127 - val_accuracy: 0.4450\n",
      "Epoch 25/100\n",
      "1405/1407 [============================>.] - ETA: 0s - loss: 1.3549 - accuracy: 0.5164INFO:tensorflow:Assets written to: my_cifar10_model\\assets\n",
      "1407/1407 [==============================] - 15s 11ms/step - loss: 1.3549 - accuracy: 0.5164 - val_loss: 1.4839 - val_accuracy: 0.4760\n",
      "Epoch 26/100\n",
      "1407/1407 [==============================] - 11s 8ms/step - loss: 1.3419 - accuracy: 0.5200 - val_loss: 1.5307 - val_accuracy: 0.4654\n",
      "Epoch 27/100\n",
      "1407/1407 [==============================] - 12s 8ms/step - loss: 1.3312 - accuracy: 0.5237 - val_loss: 1.5019 - val_accuracy: 0.4752\n",
      "Epoch 28/100\n",
      "1407/1407 [==============================] - 12s 8ms/step - loss: 1.3203 - accuracy: 0.5272 - val_loss: 1.5240 - val_accuracy: 0.4580\n",
      "Epoch 29/100\n",
      "1407/1407 [==============================] - 12s 8ms/step - loss: 1.3113 - accuracy: 0.5296 - val_loss: 1.4936 - val_accuracy: 0.4700\n",
      "Epoch 30/100\n",
      "1407/1407 [==============================] - ETA: 0s - loss: 1.3050 - accuracy: 0.5306INFO:tensorflow:Assets written to: my_cifar10_model\\assets\n",
      "1407/1407 [==============================] - 15s 11ms/step - loss: 1.3050 - accuracy: 0.5306 - val_loss: 1.4779 - val_accuracy: 0.4788\n",
      "Epoch 31/100\n",
      "1407/1407 [==============================] - 12s 8ms/step - loss: 1.2951 - accuracy: 0.5352 - val_loss: 1.5162 - val_accuracy: 0.4702\n",
      "Epoch 32/100\n",
      "1407/1407 [==============================] - 12s 9ms/step - loss: 1.2858 - accuracy: 0.5396 - val_loss: 1.5155 - val_accuracy: 0.4654\n",
      "Epoch 33/100\n",
      "1407/1407 [==============================] - 12s 9ms/step - loss: 1.2773 - accuracy: 0.5427 - val_loss: 1.5519 - val_accuracy: 0.4496\n",
      "Epoch 34/100\n",
      "1407/1407 [==============================] - 12s 8ms/step - loss: 1.2704 - accuracy: 0.5463 - val_loss: 1.5081 - val_accuracy: 0.4640\n",
      "Epoch 35/100\n",
      "1407/1407 [==============================] - 12s 8ms/step - loss: 1.2594 - accuracy: 0.5498 - val_loss: 1.4920 - val_accuracy: 0.4784\n",
      "Epoch 36/100\n",
      "1407/1407 [==============================] - 12s 8ms/step - loss: 1.2507 - accuracy: 0.5512 - val_loss: 1.5211 - val_accuracy: 0.4666\n",
      "Epoch 37/100\n",
      "1407/1407 [==============================] - 12s 8ms/step - loss: 1.2448 - accuracy: 0.5553 - val_loss: 1.5567 - val_accuracy: 0.4628\n",
      "Epoch 38/100\n",
      "1407/1407 [==============================] - 12s 8ms/step - loss: 1.2342 - accuracy: 0.5585 - val_loss: 1.5752 - val_accuracy: 0.4634\n",
      "Epoch 39/100\n",
      "1407/1407 [==============================] - 12s 9ms/step - loss: 1.2251 - accuracy: 0.5616 - val_loss: 1.5121 - val_accuracy: 0.4744\n",
      "Epoch 40/100\n",
      "1407/1407 [==============================] - 12s 8ms/step - loss: 1.2173 - accuracy: 0.5628 - val_loss: 1.5530 - val_accuracy: 0.4722\n"
     ]
    },
    {
     "data": {
      "text/plain": [
       "<keras.callbacks.History at 0x28018d36c40>"
      ]
     },
     "execution_count": 35,
     "metadata": {},
     "output_type": "execute_result"
    }
   ],
   "source": [
    "model.fit(x_train, y_train, epochs=100, validation_data=(x_valid, y_valid), callbacks=callbacks)"
   ]
  },
  {
   "cell_type": "code",
   "execution_count": 37,
   "metadata": {},
   "outputs": [
    {
     "name": "stdout",
     "output_type": "stream",
     "text": [
      "157/157 [==============================] - 0s 2ms/step - loss: 1.4779 - accuracy: 0.4788\n"
     ]
    },
    {
     "data": {
      "text/plain": [
       "[1.4778989553451538, 0.4787999987602234]"
      ]
     },
     "execution_count": 37,
     "metadata": {},
     "output_type": "execute_result"
    }
   ],
   "source": [
    "model.evaluate(x_valid, y_valid)"
   ]
  },
  {
   "cell_type": "markdown",
   "metadata": {},
   "source": [
    "# c"
   ]
  },
  {
   "cell_type": "code",
   "execution_count": 38,
   "metadata": {},
   "outputs": [],
   "source": [
    "model = tf.keras.Sequential()\n",
    "model.add(tf.keras.layers.Input(shape=[32, 32, 3]))\n",
    "model.add(tf.keras.layers.Flatten())\n",
    "\n",
    "for _ in range(20):\n",
    "    model.add(tf.keras.layers.Dense(100, activation=\"swish\", kernel_initializer=\"he_normal\"))\n",
    "    model.add(tf.keras.layers.BatchNormalization())\n",
    "\n",
    "model.add(tf.keras.layers.Dense(10, activation=\"softmax\"))\n",
    "\n",
    "optimizer = tf.keras.optimizers.Nadam(learning_rate=0.0001, beta_1=0.9, beta_2=0.999, epsilon=1e-07)\n",
    "model.compile(loss=\"sparse_categorical_crossentropy\", optimizer=optimizer, metrics=[\"accuracy\"])\n",
    "\n",
    "early_stopping_cb = tf.keras.callbacks.EarlyStopping(patience=10, restore_best_weights=True)\n",
    "\n",
    "checkpoint_cb = tf.keras.callbacks.ModelCheckpoint(\"my_cifar10_model\", save_best_only=True)\n",
    "\n",
    "run_index = 2\n",
    "run_logdir = Path() / \"my_cifar10_logs\" / f\"run_{run_index:03d}\"\n",
    "tensorboard_cb = tf.keras.callbacks.TensorBoard(run_logdir)\n",
    "callbacks = [early_stopping_cb, checkpoint_cb, tensorboard_cb]"
   ]
  },
  {
   "cell_type": "code",
   "execution_count": 41,
   "metadata": {},
   "outputs": [
    {
     "name": "stdout",
     "output_type": "stream",
     "text": [
      "Epoch 1/100\n",
      "1406/1407 [============================>.] - ETA: 0s - loss: 2.6068 - accuracy: 0.1109INFO:tensorflow:Assets written to: my_cifar10_model\\assets\n",
      "1407/1407 [==============================] - 31s 17ms/step - loss: 2.6067 - accuracy: 0.1109 - val_loss: 4.3798 - val_accuracy: 0.1084\n",
      "Epoch 2/100\n",
      "1404/1407 [============================>.] - ETA: 0s - loss: 2.3611 - accuracy: 0.1392INFO:tensorflow:Assets written to: my_cifar10_model\\assets\n",
      "1407/1407 [==============================] - 24s 17ms/step - loss: 2.3610 - accuracy: 0.1393 - val_loss: 2.6820 - val_accuracy: 0.1300\n",
      "Epoch 3/100\n",
      "1407/1407 [==============================] - ETA: 0s - loss: 2.1857 - accuracy: 0.1892INFO:tensorflow:Assets written to: my_cifar10_model\\assets\n",
      "1407/1407 [==============================] - 22s 16ms/step - loss: 2.1857 - accuracy: 0.1892 - val_loss: 2.1955 - val_accuracy: 0.2058\n",
      "Epoch 4/100\n",
      "1404/1407 [============================>.] - ETA: 0s - loss: 2.0562 - accuracy: 0.2381INFO:tensorflow:Assets written to: my_cifar10_model\\assets\n",
      "1407/1407 [==============================] - 32s 23ms/step - loss: 2.0559 - accuracy: 0.2382 - val_loss: 2.0273 - val_accuracy: 0.2518\n",
      "Epoch 5/100\n",
      "1405/1407 [============================>.] - ETA: 0s - loss: 1.9649 - accuracy: 0.2781INFO:tensorflow:Assets written to: my_cifar10_model\\assets\n",
      "1407/1407 [==============================] - 35s 25ms/step - loss: 1.9649 - accuracy: 0.2781 - val_loss: 1.9265 - val_accuracy: 0.3068\n",
      "Epoch 6/100\n",
      "1406/1407 [============================>.] - ETA: 0s - loss: 1.8982 - accuracy: 0.3067INFO:tensorflow:Assets written to: my_cifar10_model\\assets\n",
      "1407/1407 [==============================] - 34s 24ms/step - loss: 1.8983 - accuracy: 0.3067 - val_loss: 1.8638 - val_accuracy: 0.3258\n",
      "Epoch 7/100\n",
      "1406/1407 [============================>.] - ETA: 0s - loss: 1.8387 - accuracy: 0.3333INFO:tensorflow:Assets written to: my_cifar10_model\\assets\n",
      "1407/1407 [==============================] - 35s 25ms/step - loss: 1.8387 - accuracy: 0.3332 - val_loss: 1.7722 - val_accuracy: 0.3550\n",
      "Epoch 8/100\n",
      "1407/1407 [==============================] - 16s 12ms/step - loss: 1.7916 - accuracy: 0.3530 - val_loss: 1.7855 - val_accuracy: 0.3514\n",
      "Epoch 9/100\n",
      "1406/1407 [============================>.] - ETA: 0s - loss: 1.7557 - accuracy: 0.3673INFO:tensorflow:Assets written to: my_cifar10_model\\assets\n",
      "1407/1407 [==============================] - 33s 23ms/step - loss: 1.7557 - accuracy: 0.3673 - val_loss: 1.7367 - val_accuracy: 0.3670\n",
      "Epoch 10/100\n",
      "1407/1407 [==============================] - ETA: 0s - loss: 1.7094 - accuracy: 0.3861INFO:tensorflow:Assets written to: my_cifar10_model\\assets\n",
      "1407/1407 [==============================] - 33s 24ms/step - loss: 1.7094 - accuracy: 0.3861 - val_loss: 1.7009 - val_accuracy: 0.3898\n",
      "Epoch 11/100\n",
      "1405/1407 [============================>.] - ETA: 0s - loss: 1.6810 - accuracy: 0.3978INFO:tensorflow:Assets written to: my_cifar10_model\\assets\n",
      "1407/1407 [==============================] - 32s 22ms/step - loss: 1.6812 - accuracy: 0.3977 - val_loss: 1.6348 - val_accuracy: 0.4082\n",
      "Epoch 12/100\n",
      "1407/1407 [==============================] - 20s 14ms/step - loss: 1.6488 - accuracy: 0.4093 - val_loss: 1.6747 - val_accuracy: 0.3954\n",
      "Epoch 13/100\n",
      "1407/1407 [==============================] - 22s 15ms/step - loss: 1.6278 - accuracy: 0.4221 - val_loss: 1.6589 - val_accuracy: 0.4114\n",
      "Epoch 14/100\n",
      "1407/1407 [==============================] - ETA: 0s - loss: 1.6028 - accuracy: 0.4300INFO:tensorflow:Assets written to: my_cifar10_model\\assets\n",
      "1407/1407 [==============================] - 34s 24ms/step - loss: 1.6028 - accuracy: 0.4300 - val_loss: 1.6247 - val_accuracy: 0.4188\n",
      "Epoch 15/100\n",
      "1406/1407 [============================>.] - ETA: 0s - loss: 1.5827 - accuracy: 0.4393INFO:tensorflow:Assets written to: my_cifar10_model\\assets\n",
      "1407/1407 [==============================] - 33s 23ms/step - loss: 1.5827 - accuracy: 0.4393 - val_loss: 1.5839 - val_accuracy: 0.4378\n",
      "Epoch 16/100\n",
      "1407/1407 [==============================] - ETA: 0s - loss: 1.5588 - accuracy: 0.4459INFO:tensorflow:Assets written to: my_cifar10_model\\assets\n",
      "1407/1407 [==============================] - 33s 24ms/step - loss: 1.5588 - accuracy: 0.4459 - val_loss: 1.5550 - val_accuracy: 0.4468\n",
      "Epoch 17/100\n",
      "1407/1407 [==============================] - 21s 15ms/step - loss: 1.5472 - accuracy: 0.4511 - val_loss: 1.6518 - val_accuracy: 0.4220\n",
      "Epoch 18/100\n",
      "1407/1407 [==============================] - 21s 15ms/step - loss: 1.5291 - accuracy: 0.4586 - val_loss: 1.5969 - val_accuracy: 0.4266\n",
      "Epoch 19/100\n",
      "1407/1407 [==============================] - 21s 15ms/step - loss: 1.5100 - accuracy: 0.4658 - val_loss: 1.6389 - val_accuracy: 0.4184\n",
      "Epoch 20/100\n",
      "1407/1407 [==============================] - 21s 15ms/step - loss: 1.5004 - accuracy: 0.4678 - val_loss: 1.6972 - val_accuracy: 0.3960\n",
      "Epoch 21/100\n",
      "1406/1407 [============================>.] - ETA: 0s - loss: 1.4922 - accuracy: 0.4725INFO:tensorflow:Assets written to: my_cifar10_model\\assets\n",
      "1407/1407 [==============================] - 33s 23ms/step - loss: 1.4923 - accuracy: 0.4724 - val_loss: 1.5189 - val_accuracy: 0.4576\n",
      "Epoch 22/100\n",
      "1407/1407 [==============================] - ETA: 0s - loss: 1.4758 - accuracy: 0.4755INFO:tensorflow:Assets written to: my_cifar10_model\\assets\n",
      "1407/1407 [==============================] - 33s 24ms/step - loss: 1.4758 - accuracy: 0.4755 - val_loss: 1.5155 - val_accuracy: 0.4636\n",
      "Epoch 23/100\n",
      "1404/1407 [============================>.] - ETA: 0s - loss: 1.4612 - accuracy: 0.4804INFO:tensorflow:Assets written to: my_cifar10_model\\assets\n",
      "1407/1407 [==============================] - 33s 24ms/step - loss: 1.4611 - accuracy: 0.4803 - val_loss: 1.5084 - val_accuracy: 0.4618\n",
      "Epoch 24/100\n",
      "1407/1407 [==============================] - 21s 15ms/step - loss: 1.4510 - accuracy: 0.4834 - val_loss: 1.5428 - val_accuracy: 0.4574\n",
      "Epoch 25/100\n",
      "1407/1407 [==============================] - 17s 12ms/step - loss: 1.4443 - accuracy: 0.4899 - val_loss: 1.6292 - val_accuracy: 0.4224\n",
      "Epoch 26/100\n",
      "1407/1407 [==============================] - 17s 12ms/step - loss: 1.4307 - accuracy: 0.4932 - val_loss: 1.5337 - val_accuracy: 0.4502\n",
      "Epoch 27/100\n",
      "1404/1407 [============================>.] - ETA: 0s - loss: 1.4182 - accuracy: 0.4971INFO:tensorflow:Assets written to: my_cifar10_model\\assets\n",
      "1407/1407 [==============================] - 32s 23ms/step - loss: 1.4185 - accuracy: 0.4970 - val_loss: 1.4937 - val_accuracy: 0.4704\n",
      "Epoch 28/100\n",
      "1407/1407 [==============================] - 21s 15ms/step - loss: 1.4066 - accuracy: 0.5022 - val_loss: 1.5963 - val_accuracy: 0.4386\n",
      "Epoch 29/100\n",
      "1407/1407 [==============================] - 21s 15ms/step - loss: 1.3992 - accuracy: 0.5028 - val_loss: 1.5708 - val_accuracy: 0.4448\n",
      "Epoch 30/100\n",
      "1405/1407 [============================>.] - ETA: 0s - loss: 1.3832 - accuracy: 0.5091INFO:tensorflow:Assets written to: my_cifar10_model\\assets\n",
      "1407/1407 [==============================] - 34s 25ms/step - loss: 1.3830 - accuracy: 0.5092 - val_loss: 1.4498 - val_accuracy: 0.4830\n",
      "Epoch 31/100\n",
      "1407/1407 [==============================] - 21s 15ms/step - loss: 1.3759 - accuracy: 0.5117 - val_loss: 1.4645 - val_accuracy: 0.4764\n",
      "Epoch 32/100\n",
      "1407/1407 [==============================] - 21s 15ms/step - loss: 1.3618 - accuracy: 0.5198 - val_loss: 1.4764 - val_accuracy: 0.4726\n",
      "Epoch 33/100\n",
      "1407/1407 [==============================] - 21s 15ms/step - loss: 1.3591 - accuracy: 0.5166 - val_loss: 1.4704 - val_accuracy: 0.4820\n",
      "Epoch 34/100\n",
      "1407/1407 [==============================] - 21s 15ms/step - loss: 1.3469 - accuracy: 0.5217 - val_loss: 1.4867 - val_accuracy: 0.4744\n",
      "Epoch 35/100\n",
      "1407/1407 [==============================] - 21s 15ms/step - loss: 1.3339 - accuracy: 0.5272 - val_loss: 1.4529 - val_accuracy: 0.4892\n",
      "Epoch 36/100\n",
      "1407/1407 [==============================] - 21s 15ms/step - loss: 1.3313 - accuracy: 0.5293 - val_loss: 1.5826 - val_accuracy: 0.4438\n",
      "Epoch 37/100\n",
      "1403/1407 [============================>.] - ETA: 0s - loss: 1.3280 - accuracy: 0.5322INFO:tensorflow:Assets written to: my_cifar10_model\\assets\n",
      "1407/1407 [==============================] - 28s 20ms/step - loss: 1.3279 - accuracy: 0.5321 - val_loss: 1.4218 - val_accuracy: 0.4924\n",
      "Epoch 38/100\n",
      "1407/1407 [==============================] - 19s 13ms/step - loss: 1.3104 - accuracy: 0.5376 - val_loss: 1.4586 - val_accuracy: 0.4888\n",
      "Epoch 39/100\n",
      "1405/1407 [============================>.] - ETA: 0s - loss: 1.3068 - accuracy: 0.5378INFO:tensorflow:Assets written to: my_cifar10_model\\assets\n",
      "1407/1407 [==============================] - 33s 23ms/step - loss: 1.3067 - accuracy: 0.5378 - val_loss: 1.4168 - val_accuracy: 0.5016\n",
      "Epoch 40/100\n",
      "1407/1407 [==============================] - 21s 15ms/step - loss: 1.2984 - accuracy: 0.5414 - val_loss: 1.5187 - val_accuracy: 0.4626\n",
      "Epoch 41/100\n",
      "1407/1407 [==============================] - 21s 15ms/step - loss: 1.2907 - accuracy: 0.5431 - val_loss: 1.4600 - val_accuracy: 0.4912\n",
      "Epoch 42/100\n",
      "1407/1407 [==============================] - 21s 15ms/step - loss: 1.2851 - accuracy: 0.5468 - val_loss: 1.4687 - val_accuracy: 0.4796\n",
      "Epoch 43/100\n",
      "1407/1407 [==============================] - 20s 14ms/step - loss: 1.2784 - accuracy: 0.5469 - val_loss: 1.4830 - val_accuracy: 0.4790\n",
      "Epoch 44/100\n",
      "1407/1407 [==============================] - 20s 14ms/step - loss: 1.2677 - accuracy: 0.5540 - val_loss: 1.4496 - val_accuracy: 0.4990\n",
      "Epoch 45/100\n",
      "1407/1407 [==============================] - 20s 14ms/step - loss: 1.2630 - accuracy: 0.5537 - val_loss: 1.5152 - val_accuracy: 0.4690\n",
      "Epoch 46/100\n",
      "1405/1407 [============================>.] - ETA: 0s - loss: 1.2538 - accuracy: 0.5560INFO:tensorflow:Assets written to: my_cifar10_model\\assets\n",
      "1407/1407 [==============================] - 31s 22ms/step - loss: 1.2539 - accuracy: 0.5560 - val_loss: 1.4067 - val_accuracy: 0.5020\n",
      "Epoch 47/100\n",
      "1407/1407 [==============================] - 20s 14ms/step - loss: 1.2510 - accuracy: 0.5591 - val_loss: 1.4614 - val_accuracy: 0.4892\n",
      "Epoch 48/100\n",
      "1407/1407 [==============================] - 20s 14ms/step - loss: 1.2467 - accuracy: 0.5615 - val_loss: 1.4636 - val_accuracy: 0.4894\n",
      "Epoch 49/100\n",
      "1407/1407 [==============================] - 20s 14ms/step - loss: 1.2385 - accuracy: 0.5628 - val_loss: 1.4283 - val_accuracy: 0.5028\n",
      "Epoch 50/100\n",
      "1407/1407 [==============================] - 20s 14ms/step - loss: 1.2294 - accuracy: 0.5667 - val_loss: 1.4746 - val_accuracy: 0.4776\n",
      "Epoch 51/100\n",
      "1407/1407 [==============================] - 20s 14ms/step - loss: 1.2374 - accuracy: 0.5644 - val_loss: 1.4519 - val_accuracy: 0.4940\n",
      "Epoch 52/100\n",
      "1407/1407 [==============================] - 20s 14ms/step - loss: 1.2205 - accuracy: 0.5680 - val_loss: 1.4649 - val_accuracy: 0.4866\n",
      "Epoch 53/100\n",
      "1407/1407 [==============================] - 20s 14ms/step - loss: 1.2152 - accuracy: 0.5722 - val_loss: 1.5656 - val_accuracy: 0.4554\n",
      "Epoch 54/100\n",
      "1407/1407 [==============================] - 20s 14ms/step - loss: 1.2160 - accuracy: 0.5704 - val_loss: 1.4511 - val_accuracy: 0.4826\n",
      "Epoch 55/100\n",
      "1407/1407 [==============================] - 20s 14ms/step - loss: 1.2050 - accuracy: 0.5750 - val_loss: 1.4768 - val_accuracy: 0.4942\n",
      "Epoch 56/100\n",
      "1407/1407 [==============================] - 20s 14ms/step - loss: 1.2005 - accuracy: 0.5773 - val_loss: 1.4444 - val_accuracy: 0.4972\n"
     ]
    },
    {
     "data": {
      "text/plain": [
       "<keras.callbacks.History at 0x280140b6a60>"
      ]
     },
     "execution_count": 41,
     "metadata": {},
     "output_type": "execute_result"
    }
   ],
   "source": [
    "model.fit(x_train, y_train, epochs=100,\n",
    "          validation_data=(x_valid, y_valid),\n",
    "          callbacks=callbacks)"
   ]
  },
  {
   "cell_type": "code",
   "execution_count": 42,
   "metadata": {},
   "outputs": [
    {
     "name": "stdout",
     "output_type": "stream",
     "text": [
      "157/157 [==============================] - 0s 2ms/step - loss: 1.4067 - accuracy: 0.5020\n"
     ]
    },
    {
     "data": {
      "text/plain": [
       "[1.4067293405532837, 0.5019999742507935]"
      ]
     },
     "execution_count": 42,
     "metadata": {},
     "output_type": "execute_result"
    }
   ],
   "source": [
    "model.evaluate(x_valid, y_valid)"
   ]
  },
  {
   "cell_type": "markdown",
   "metadata": {},
   "source": [
    "# d"
   ]
  },
  {
   "cell_type": "code",
   "execution_count": 43,
   "metadata": {},
   "outputs": [],
   "source": [
    "tf.keras.backend.clear_session()\n",
    "\n",
    "\n",
    "model = tf.keras.Sequential()\n",
    "model.add(tf.keras.layers.Input(shape=[32, 32, 3]))\n",
    "model.add(tf.keras.layers.Flatten())\n",
    "\n",
    "for _ in range(20):\n",
    "    model.add(tf.keras.layers.Dense(100, activation=\"selu\", kernel_initializer=\"lecun_normal\"))\n",
    "\n",
    "model.add(tf.keras.layers.Dense(10, activation=\"softmax\"))\n",
    "\n",
    "\n",
    "optimizer = tf.keras.optimizers.Nadam(learning_rate=0.0001, beta_1=0.9, beta_2=0.999, epsilon=1e-07)\n",
    "model.compile(loss=\"sparse_categorical_crossentropy\", optimizer=optimizer, metrics=[\"accuracy\"])\n",
    "\n",
    "early_stopping_cb = tf.keras.callbacks.EarlyStopping(patience=10, restore_best_weights=True)\n",
    "\n",
    "checkpoint_cb = tf.keras.callbacks.ModelCheckpoint(\"my_cifar10_model_selu\", save_best_only=True)\n",
    "\n",
    "run_index = 3\n",
    "run_logdir = Path() / \"my_cifar10_logs\" / f\"run_{run_index:03d}\"\n",
    "tensorboard_cb = tf.keras.callbacks.TensorBoard(run_logdir)\n",
    "callbacks = [early_stopping_cb, checkpoint_cb, tensorboard_cb]"
   ]
  },
  {
   "cell_type": "code",
   "execution_count": 46,
   "metadata": {},
   "outputs": [],
   "source": [
    "x_means = x_train.mean(axis=0)\n",
    "x_stds = x_train.std(axis=0)\n",
    "x_train_scaled = (x_train - x_means) / x_stds\n",
    "x_valid_scaled = (x_valid - x_means) / x_stds\n",
    "x_test_scaled = (x_test - x_means) / x_stds"
   ]
  },
  {
   "cell_type": "code",
   "execution_count": 48,
   "metadata": {},
   "outputs": [
    {
     "name": "stdout",
     "output_type": "stream",
     "text": [
      "Epoch 1/100\n",
      "1401/1407 [============================>.] - ETA: 0s - loss: 1.8387 - accuracy: 0.3429INFO:tensorflow:Assets written to: my_cifar10_model_selu\\assets\n",
      "1407/1407 [==============================] - 15s 9ms/step - loss: 1.8382 - accuracy: 0.3431 - val_loss: 1.6999 - val_accuracy: 0.3928\n",
      "Epoch 2/100\n",
      "1404/1407 [============================>.] - ETA: 0s - loss: 1.6216 - accuracy: 0.4223INFO:tensorflow:Assets written to: my_cifar10_model_selu\\assets\n",
      "1407/1407 [==============================] - 13s 9ms/step - loss: 1.6215 - accuracy: 0.4223 - val_loss: 1.5990 - val_accuracy: 0.4264\n",
      "Epoch 3/100\n",
      "1404/1407 [============================>.] - ETA: 0s - loss: 1.5249 - accuracy: 0.4560INFO:tensorflow:Assets written to: my_cifar10_model_selu\\assets\n",
      "1407/1407 [==============================] - 13s 9ms/step - loss: 1.5246 - accuracy: 0.4562 - val_loss: 1.5358 - val_accuracy: 0.4596\n",
      "Epoch 4/100\n",
      "1406/1407 [============================>.] - ETA: 0s - loss: 1.4529 - accuracy: 0.4810INFO:tensorflow:Assets written to: my_cifar10_model_selu\\assets\n",
      "1407/1407 [==============================] - 11s 8ms/step - loss: 1.4529 - accuracy: 0.4809 - val_loss: 1.5141 - val_accuracy: 0.4564\n",
      "Epoch 5/100\n",
      "1407/1407 [==============================] - ETA: 0s - loss: 1.3909 - accuracy: 0.5042INFO:tensorflow:Assets written to: my_cifar10_model_selu\\assets\n",
      "1407/1407 [==============================] - 11s 8ms/step - loss: 1.3909 - accuracy: 0.5042 - val_loss: 1.4937 - val_accuracy: 0.4766\n",
      "Epoch 6/100\n",
      "1405/1407 [============================>.] - ETA: 0s - loss: 1.3382 - accuracy: 0.5261INFO:tensorflow:Assets written to: my_cifar10_model_selu\\assets\n",
      "1407/1407 [==============================] - 11s 8ms/step - loss: 1.3381 - accuracy: 0.5261 - val_loss: 1.4757 - val_accuracy: 0.4776\n",
      "Epoch 7/100\n",
      "1407/1407 [==============================] - ETA: 0s - loss: 1.2866 - accuracy: 0.5448INFO:tensorflow:Assets written to: my_cifar10_model_selu\\assets\n",
      "1407/1407 [==============================] - 13s 9ms/step - loss: 1.2866 - accuracy: 0.5448 - val_loss: 1.4626 - val_accuracy: 0.4844\n",
      "Epoch 8/100\n",
      "1401/1407 [============================>.] - ETA: 0s - loss: 1.2410 - accuracy: 0.5611INFO:tensorflow:Assets written to: my_cifar10_model_selu\\assets\n",
      "1407/1407 [==============================] - 17s 12ms/step - loss: 1.2412 - accuracy: 0.5610 - val_loss: 1.4512 - val_accuracy: 0.4928\n",
      "Epoch 9/100\n",
      "1403/1407 [============================>.] - ETA: 0s - loss: 1.1983 - accuracy: 0.5750INFO:tensorflow:Assets written to: my_cifar10_model_selu\\assets\n",
      "1407/1407 [==============================] - 13s 9ms/step - loss: 1.1980 - accuracy: 0.5752 - val_loss: 1.4476 - val_accuracy: 0.5004\n",
      "Epoch 10/100\n",
      "1405/1407 [============================>.] - ETA: 0s - loss: 1.1579 - accuracy: 0.5894INFO:tensorflow:Assets written to: my_cifar10_model_selu\\assets\n",
      "1407/1407 [==============================] - 16s 11ms/step - loss: 1.1580 - accuracy: 0.5894 - val_loss: 1.4419 - val_accuracy: 0.4956\n",
      "Epoch 11/100\n",
      "1407/1407 [==============================] - 12s 9ms/step - loss: 1.1186 - accuracy: 0.6046 - val_loss: 1.4599 - val_accuracy: 0.5064\n",
      "Epoch 12/100\n",
      "1407/1407 [==============================] - 13s 9ms/step - loss: 1.0798 - accuracy: 0.6202 - val_loss: 1.4665 - val_accuracy: 0.5014\n",
      "Epoch 13/100\n",
      "1407/1407 [==============================] - 13s 9ms/step - loss: 1.0406 - accuracy: 0.6332 - val_loss: 1.4730 - val_accuracy: 0.5006\n",
      "Epoch 14/100\n",
      "1407/1407 [==============================] - 13s 9ms/step - loss: 1.0077 - accuracy: 0.6477 - val_loss: 1.4879 - val_accuracy: 0.5090\n",
      "Epoch 15/100\n",
      "1407/1407 [==============================] - 12s 8ms/step - loss: 0.9708 - accuracy: 0.6580 - val_loss: 1.4989 - val_accuracy: 0.5080\n",
      "Epoch 16/100\n",
      "1407/1407 [==============================] - 12s 9ms/step - loss: 0.9375 - accuracy: 0.6710 - val_loss: 1.5380 - val_accuracy: 0.5032\n",
      "Epoch 17/100\n",
      "1407/1407 [==============================] - 13s 9ms/step - loss: 0.9088 - accuracy: 0.6789 - val_loss: 1.5354 - val_accuracy: 0.5022\n",
      "Epoch 18/100\n",
      "1407/1407 [==============================] - 13s 9ms/step - loss: 0.8709 - accuracy: 0.6929 - val_loss: 1.5745 - val_accuracy: 0.5100\n",
      "Epoch 19/100\n",
      "1407/1407 [==============================] - 13s 9ms/step - loss: 0.8468 - accuracy: 0.7022 - val_loss: 1.5834 - val_accuracy: 0.5028\n",
      "Epoch 20/100\n",
      "1407/1407 [==============================] - 13s 9ms/step - loss: 0.8203 - accuracy: 0.7085 - val_loss: 1.6394 - val_accuracy: 0.5012\n"
     ]
    },
    {
     "data": {
      "text/plain": [
       "<keras.callbacks.History at 0x280ab7fb670>"
      ]
     },
     "execution_count": 48,
     "metadata": {},
     "output_type": "execute_result"
    }
   ],
   "source": [
    "model.fit(x_train_scaled, y_train, epochs=100,\n",
    "          validation_data=(x_valid_scaled, y_valid),\n",
    "          callbacks=callbacks)"
   ]
  },
  {
   "cell_type": "code",
   "execution_count": 50,
   "metadata": {},
   "outputs": [
    {
     "name": "stdout",
     "output_type": "stream",
     "text": [
      "157/157 [==============================] - 0s 2ms/step - loss: 1.4419 - accuracy: 0.4956\n"
     ]
    },
    {
     "data": {
      "text/plain": [
       "[1.4418914318084717, 0.49559998512268066]"
      ]
     },
     "execution_count": 50,
     "metadata": {},
     "output_type": "execute_result"
    }
   ],
   "source": [
    "model.evaluate(x_valid_scaled, y_valid)"
   ]
  },
  {
   "cell_type": "markdown",
   "metadata": {},
   "source": [
    "# e)"
   ]
  },
  {
   "cell_type": "code",
   "execution_count": 51,
   "metadata": {},
   "outputs": [],
   "source": [
    "tf.keras.backend.clear_session()\n",
    "\n",
    "\n",
    "model = tf.keras.Sequential()\n",
    "model.add(tf.keras.layers.Input(shape=[32, 32, 3]))\n",
    "model.add(tf.keras.layers.Flatten())\n",
    "\n",
    "for _ in range(20):\n",
    "    model.add(tf.keras.layers.Dense(100, activation=\"selu\", kernel_initializer=\"lecun_normal\"))\n",
    "\n",
    "model.add(tf.keras.layers.AlphaDropout(rate=0.1))\n",
    "model.add(tf.keras.layers.Dense(10, activation=\"softmax\"))\n",
    "\n",
    "\n",
    "optimizer = tf.keras.optimizers.Nadam(learning_rate=0.0001, beta_1=0.9, beta_2=0.999, epsilon=1e-07)\n",
    "model.compile(loss=\"sparse_categorical_crossentropy\", optimizer=optimizer, metrics=[\"accuracy\"])\n",
    "\n",
    "early_stopping_cb = tf.keras.callbacks.EarlyStopping(patience=10, restore_best_weights=True)\n",
    "\n",
    "checkpoint_cb = tf.keras.callbacks.ModelCheckpoint(\"my_cifar10_model_alpha_dropout\", save_best_only=True)\n",
    "\n",
    "run_index = 4\n",
    "run_logdir = Path() / \"my_cifar10_logs\" / f\"run_{run_index:03d}\"\n",
    "tensorboard_cb = tf.keras.callbacks.TensorBoard(run_logdir)\n",
    "callbacks = [early_stopping_cb, checkpoint_cb, tensorboard_cb]"
   ]
  },
  {
   "cell_type": "code",
   "execution_count": 52,
   "metadata": {},
   "outputs": [],
   "source": [
    "x_means = x_train.mean(axis=0)\n",
    "x_stds = x_train.std(axis=0)\n",
    "x_train_scaled = (x_train - x_means) / x_stds\n",
    "x_valid_scaled = (x_valid - x_means) / x_stds\n",
    "x_test_scaled = (x_test - x_means) / x_stds"
   ]
  },
  {
   "cell_type": "code",
   "execution_count": 53,
   "metadata": {},
   "outputs": [
    {
     "name": "stdout",
     "output_type": "stream",
     "text": [
      "Epoch 1/100\n",
      "1407/1407 [==============================] - ETA: 0s - loss: 1.9568 - accuracy: 0.3184INFO:tensorflow:Assets written to: my_cifar10_model_alpha_dropout\\assets\n",
      "1407/1407 [==============================] - 15s 9ms/step - loss: 1.9568 - accuracy: 0.3184 - val_loss: 1.6793 - val_accuracy: 0.4000\n",
      "Epoch 2/100\n",
      "1402/1407 [============================>.] - ETA: 0s - loss: 1.6556 - accuracy: 0.4132INFO:tensorflow:Assets written to: my_cifar10_model_alpha_dropout\\assets\n",
      "1407/1407 [==============================] - 13s 9ms/step - loss: 1.6553 - accuracy: 0.4134 - val_loss: 1.5917 - val_accuracy: 0.4382\n",
      "Epoch 3/100\n",
      "1402/1407 [============================>.] - ETA: 0s - loss: 1.5368 - accuracy: 0.4521INFO:tensorflow:Assets written to: my_cifar10_model_alpha_dropout\\assets\n",
      "1407/1407 [==============================] - 16s 11ms/step - loss: 1.5364 - accuracy: 0.4523 - val_loss: 1.5634 - val_accuracy: 0.4504\n",
      "Epoch 4/100\n",
      "1403/1407 [============================>.] - ETA: 0s - loss: 1.4616 - accuracy: 0.4798INFO:tensorflow:Assets written to: my_cifar10_model_alpha_dropout\\assets\n",
      "1407/1407 [==============================] - 17s 12ms/step - loss: 1.4615 - accuracy: 0.4798 - val_loss: 1.5448 - val_accuracy: 0.4596\n",
      "Epoch 5/100\n",
      "1402/1407 [============================>.] - ETA: 0s - loss: 1.3984 - accuracy: 0.5023INFO:tensorflow:Assets written to: my_cifar10_model_alpha_dropout\\assets\n",
      "1407/1407 [==============================] - 16s 11ms/step - loss: 1.3988 - accuracy: 0.5021 - val_loss: 1.5016 - val_accuracy: 0.4726\n",
      "Epoch 6/100\n",
      "1405/1407 [============================>.] - ETA: 0s - loss: 1.3416 - accuracy: 0.5258INFO:tensorflow:Assets written to: my_cifar10_model_alpha_dropout\\assets\n",
      "1407/1407 [==============================] - 14s 10ms/step - loss: 1.3418 - accuracy: 0.5258 - val_loss: 1.4933 - val_accuracy: 0.4890\n",
      "Epoch 7/100\n",
      "1405/1407 [============================>.] - ETA: 0s - loss: 1.2929 - accuracy: 0.5419INFO:tensorflow:Assets written to: my_cifar10_model_alpha_dropout\\assets\n",
      "1407/1407 [==============================] - 16s 11ms/step - loss: 1.2929 - accuracy: 0.5419 - val_loss: 1.4693 - val_accuracy: 0.4918\n",
      "Epoch 8/100\n",
      "1407/1407 [==============================] - 13s 9ms/step - loss: 1.2461 - accuracy: 0.5589 - val_loss: 1.4820 - val_accuracy: 0.4890\n",
      "Epoch 9/100\n",
      "1407/1407 [==============================] - 13s 9ms/step - loss: 1.2038 - accuracy: 0.5730 - val_loss: 1.5137 - val_accuracy: 0.5020\n",
      "Epoch 10/100\n",
      "1407/1407 [==============================] - 13s 9ms/step - loss: 1.1693 - accuracy: 0.5842 - val_loss: 1.5161 - val_accuracy: 0.5000\n",
      "Epoch 11/100\n",
      "1407/1407 [==============================] - 13s 9ms/step - loss: 1.1296 - accuracy: 0.6007 - val_loss: 1.5232 - val_accuracy: 0.4896\n",
      "Epoch 12/100\n",
      "1407/1407 [==============================] - 13s 9ms/step - loss: 1.0914 - accuracy: 0.6139 - val_loss: 1.5639 - val_accuracy: 0.5054\n",
      "Epoch 13/100\n",
      "1407/1407 [==============================] - 13s 9ms/step - loss: 1.0632 - accuracy: 0.6229 - val_loss: 1.5545 - val_accuracy: 0.5018\n",
      "Epoch 14/100\n",
      "1407/1407 [==============================] - 13s 9ms/step - loss: 1.0297 - accuracy: 0.6345 - val_loss: 1.6117 - val_accuracy: 0.5038\n",
      "Epoch 15/100\n",
      "1407/1407 [==============================] - 13s 9ms/step - loss: 0.9978 - accuracy: 0.6441 - val_loss: 1.5856 - val_accuracy: 0.5020\n",
      "Epoch 16/100\n",
      "1407/1407 [==============================] - 13s 9ms/step - loss: 0.9698 - accuracy: 0.6552 - val_loss: 1.6609 - val_accuracy: 0.5014\n",
      "Epoch 17/100\n",
      "1407/1407 [==============================] - 13s 9ms/step - loss: 0.9432 - accuracy: 0.6656 - val_loss: 1.6605 - val_accuracy: 0.5102\n"
     ]
    },
    {
     "data": {
      "text/plain": [
       "<keras.callbacks.History at 0x2801080d430>"
      ]
     },
     "execution_count": 53,
     "metadata": {},
     "output_type": "execute_result"
    }
   ],
   "source": [
    "model.fit(x_train_scaled, y_train, epochs=100,\n",
    "          validation_data=(x_valid_scaled, y_valid),\n",
    "          callbacks=callbacks)"
   ]
  },
  {
   "cell_type": "code",
   "execution_count": 54,
   "metadata": {},
   "outputs": [
    {
     "name": "stdout",
     "output_type": "stream",
     "text": [
      "157/157 [==============================] - 0s 2ms/step - loss: 1.4693 - accuracy: 0.4918\n"
     ]
    },
    {
     "data": {
      "text/plain": [
       "[1.4692630767822266, 0.4918000102043152]"
      ]
     },
     "execution_count": 54,
     "metadata": {},
     "output_type": "execute_result"
    }
   ],
   "source": [
    "model.evaluate(x_valid_scaled, y_valid)"
   ]
  },
  {
   "cell_type": "code",
   "execution_count": 55,
   "metadata": {},
   "outputs": [],
   "source": [
    "class MCAlphaDropout(tf.keras.layers.AlphaDropout):\n",
    "    def call(self, inputs):\n",
    "        return super().call(inputs, training=True)"
   ]
  },
  {
   "cell_type": "code",
   "execution_count": 57,
   "metadata": {},
   "outputs": [],
   "source": [
    "mc_model = tf.keras.Sequential([(MCAlphaDropout(layer.rate)\n",
    "                                    if isinstance(layer, tf.keras.layers.AlphaDropout)\n",
    "                                    else layer)\n",
    "                                for layer in model.layers])"
   ]
  },
  {
   "cell_type": "code",
   "execution_count": 58,
   "metadata": {},
   "outputs": [],
   "source": [
    "def mc_dropout_predict_probas(mc_model, X, n_samples=10):\n",
    "    Y_probas = [mc_model.predict(X) for sample in range(n_samples)]\n",
    "    return np.mean(Y_probas, axis=0)\n",
    "\n",
    "def mc_dropout_predict_classes(mc_model, X, n_samples=10):\n",
    "    Y_probas = mc_dropout_predict_probas(mc_model, X, n_samples)\n",
    "    return Y_probas.argmax(axis=1)"
   ]
  },
  {
   "cell_type": "code",
   "execution_count": 61,
   "metadata": {},
   "outputs": [
    {
     "name": "stdout",
     "output_type": "stream",
     "text": [
      "157/157 [==============================] - 0s 2ms/step\n",
      "157/157 [==============================] - 0s 2ms/step\n",
      "157/157 [==============================] - 0s 2ms/step\n",
      "157/157 [==============================] - 0s 2ms/step\n",
      "157/157 [==============================] - 0s 2ms/step\n",
      "157/157 [==============================] - 0s 2ms/step\n",
      "157/157 [==============================] - 0s 2ms/step\n",
      "157/157 [==============================] - 0s 2ms/step\n",
      "157/157 [==============================] - 0s 2ms/step\n",
      "157/157 [==============================] - 0s 2ms/step\n"
     ]
    },
    {
     "data": {
      "text/plain": [
       "0.4888"
      ]
     },
     "execution_count": 61,
     "metadata": {},
     "output_type": "execute_result"
    }
   ],
   "source": [
    "import numpy as np\n",
    "\n",
    "tf.random.set_seed(42)\n",
    "\n",
    "y_pred = mc_dropout_predict_classes(mc_model, x_valid_scaled)\n",
    "accuracy = (y_pred == y_valid[:, 0]).mean()\n",
    "accuracy"
   ]
  },
  {
   "cell_type": "markdown",
   "metadata": {},
   "source": [
    "# f)"
   ]
  },
  {
   "cell_type": "code",
   "execution_count": 63,
   "metadata": {},
   "outputs": [],
   "source": [
    "tf.keras.backend.clear_session()\n",
    "\n",
    "model = tf.keras.Sequential()\n",
    "model.add(tf.keras.layers.Flatten(input_shape=[32, 32, 3]))\n",
    "for _ in range(20):\n",
    "    model.add(tf.keras.layers.Dense(100,\n",
    "                                    kernel_initializer=\"lecun_normal\",\n",
    "                                    activation=\"selu\"))\n",
    "\n",
    "model.add(tf.keras.layers.AlphaDropout(rate=0.1))\n",
    "model.add(tf.keras.layers.Dense(10, activation=\"softmax\"))\n",
    "\n",
    "optimizer = tf.keras.optimizers.SGD()\n",
    "model.compile(loss=\"sparse_categorical_crossentropy\",\n",
    "              optimizer=optimizer,\n",
    "              metrics=[\"accuracy\"])"
   ]
  },
  {
   "cell_type": "code",
   "execution_count": 70,
   "metadata": {},
   "outputs": [
    {
     "name": "stdout",
     "output_type": "stream",
     "text": [
      "352/352 [==============================] - 3s 9ms/step - loss: nan - accuracy: 0.1748\n"
     ]
    },
    {
     "data": {
      "image/png": "[encoded data removed]",
      "text/plain": [
       "<Figure size 640x480 with 1 Axes>"
      ]
     },
     "metadata": {},
     "output_type": "display_data"
    }
   ],
   "source": [
    "import math\n",
    "import matplotlib.pyplot as plt\n",
    "\n",
    "K = tf.keras.backend\n",
    "\n",
    "class ExponentialLearningRate(tf.keras.callbacks.Callback):\n",
    "    def __init__(self, factor):\n",
    "        self.factor = factor\n",
    "        self.rates = []\n",
    "        self.losses = []\n",
    "\n",
    "    def on_epoch_begin(self, epoch, logs=None):\n",
    "        self.sum_of_epoch_losses = 0\n",
    "\n",
    "    def on_batch_end(self, batch, logs=None):\n",
    "        mean_epoch_loss = logs[\"loss\"]  # the epoch's mean loss so far \n",
    "        new_sum_of_epoch_losses = mean_epoch_loss * (batch + 1)\n",
    "        batch_loss = new_sum_of_epoch_losses - self.sum_of_epoch_losses\n",
    "        self.sum_of_epoch_losses = new_sum_of_epoch_losses\n",
    "        self.rates.append(K.get_value(self.model.optimizer.learning_rate))\n",
    "        self.losses.append(batch_loss)\n",
    "        K.set_value(self.model.optimizer.learning_rate,\n",
    "                    self.model.optimizer.learning_rate * self.factor)\n",
    "\n",
    "def find_learning_rate(model, X, y, epochs=1, batch_size=32, min_rate=1e-4,\n",
    "                       max_rate=1):\n",
    "    init_weights = model.get_weights()\n",
    "    iterations = math.ceil(len(X) / batch_size) * epochs\n",
    "    factor = (max_rate / min_rate) ** (1 / iterations)\n",
    "    init_lr = K.get_value(model.optimizer.learning_rate)\n",
    "    K.set_value(model.optimizer.learning_rate, min_rate)\n",
    "    exp_lr = ExponentialLearningRate(factor)\n",
    "    history = model.fit(X, y, epochs=epochs, batch_size=batch_size,\n",
    "                        callbacks=[exp_lr])\n",
    "    K.set_value(model.optimizer.learning_rate, init_lr)\n",
    "    model.set_weights(init_weights)\n",
    "    return exp_lr.rates, exp_lr.losses\n",
    "\n",
    "def plot_lr_vs_loss(rates, losses):\n",
    "    plt.plot(rates, losses, \"b\")\n",
    "    plt.gca().set_xscale('log')\n",
    "    max_loss = losses[0] + min(losses)\n",
    "    plt.hlines(min(losses), min(rates), max(rates), color=\"k\")\n",
    "    plt.axis([min(rates), max(rates), 0, max_loss])\n",
    "    plt.xlabel(\"Learning rate\")\n",
    "    plt.ylabel(\"Loss\")\n",
    "    plt.grid()\n",
    "\n",
    "batch_size = 128\n",
    "rates, losses = find_learning_rate(model, x_train_scaled, y_train, epochs=1,\n",
    "                                   batch_size=batch_size)\n",
    "plot_lr_vs_loss(rates, losses)"
   ]
  },
  {
   "cell_type": "code",
   "execution_count": 71,
   "metadata": {},
   "outputs": [],
   "source": [
    "model = tf.keras.Sequential()\n",
    "model.add(tf.keras.layers.Flatten(input_shape=[32, 32, 3]))\n",
    "for _ in range(20):\n",
    "    model.add(tf.keras.layers.Dense(100,\n",
    "                                 kernel_initializer=\"lecun_normal\",\n",
    "                                 activation=\"selu\"))\n",
    "\n",
    "model.add(tf.keras.layers.AlphaDropout(rate=0.1))\n",
    "model.add(tf.keras.layers.Dense(10, activation=\"softmax\"))\n",
    "\n",
    "optimizer = tf.keras.optimizers.SGD(learning_rate=2e-2)\n",
    "model.compile(loss=\"sparse_categorical_crossentropy\",\n",
    "              optimizer=optimizer,\n",
    "              metrics=[\"accuracy\"])"
   ]
  },
  {
   "cell_type": "code",
   "execution_count": 75,
   "metadata": {},
   "outputs": [
    {
     "name": "stdout",
     "output_type": "stream",
     "text": [
      "Epoch 1/15\n",
      "352/352 [==============================] - 4s 9ms/step - loss: 2.0370 - accuracy: 0.2937 - val_loss: 1.7812 - val_accuracy: 0.3760\n",
      "Epoch 2/15\n",
      "352/352 [==============================] - 3s 8ms/step - loss: 1.7652 - accuracy: 0.3786 - val_loss: 1.6501 - val_accuracy: 0.4180\n",
      "Epoch 3/15\n",
      "352/352 [==============================] - 3s 8ms/step - loss: 1.6270 - accuracy: 0.4233 - val_loss: 1.6123 - val_accuracy: 0.4364\n",
      "Epoch 4/15\n",
      "352/352 [==============================] - 3s 8ms/step - loss: 1.5457 - accuracy: 0.4523 - val_loss: 1.6509 - val_accuracy: 0.4260\n",
      "Epoch 5/15\n",
      "352/352 [==============================] - 3s 9ms/step - loss: 1.4923 - accuracy: 0.4688 - val_loss: 1.6174 - val_accuracy: 0.4414\n",
      "Epoch 6/15\n",
      "352/352 [==============================] - 3s 9ms/step - loss: 1.4472 - accuracy: 0.4868 - val_loss: 1.6088 - val_accuracy: 0.4444\n",
      "Epoch 7/15\n",
      "352/352 [==============================] - 4s 12ms/step - loss: 1.4134 - accuracy: 0.4981 - val_loss: 1.6141 - val_accuracy: 0.4458\n",
      "Epoch 8/15\n",
      "352/352 [==============================] - 4s 12ms/step - loss: 1.3479 - accuracy: 0.5245 - val_loss: 1.4884 - val_accuracy: 0.4964\n",
      "Epoch 9/15\n",
      "352/352 [==============================] - 4s 12ms/step - loss: 1.2743 - accuracy: 0.5486 - val_loss: 1.5451 - val_accuracy: 0.4798\n",
      "Epoch 10/15\n",
      "352/352 [==============================] - 4s 12ms/step - loss: 1.2036 - accuracy: 0.5725 - val_loss: 1.5277 - val_accuracy: 0.5028\n",
      "Epoch 11/15\n",
      "352/352 [==============================] - 4s 12ms/step - loss: 1.1360 - accuracy: 0.5952 - val_loss: 1.5329 - val_accuracy: 0.5058\n",
      "Epoch 12/15\n",
      "352/352 [==============================] - 4s 12ms/step - loss: 1.0686 - accuracy: 0.6186 - val_loss: 1.5255 - val_accuracy: 0.5124\n",
      "Epoch 13/15\n",
      "352/352 [==============================] - 4s 12ms/step - loss: 0.9981 - accuracy: 0.6441 - val_loss: 1.5379 - val_accuracy: 0.5284\n",
      "Epoch 14/15\n",
      "352/352 [==============================] - 4s 12ms/step - loss: 0.9339 - accuracy: 0.6672 - val_loss: 1.5596 - val_accuracy: 0.5270\n",
      "Epoch 15/15\n",
      "352/352 [==============================] - 4s 12ms/step - loss: 0.8940 - accuracy: 0.6799 - val_loss: 1.5878 - val_accuracy: 0.5250\n"
     ]
    }
   ],
   "source": [
    "class OneCycleScheduler(tf.keras.callbacks.Callback):\n",
    "    def __init__(self, iterations, max_lr=1e-3, start_lr=None,\n",
    "                 last_iterations=None, last_lr=None):\n",
    "        self.iterations = iterations\n",
    "        self.max_lr = max_lr\n",
    "        self.start_lr = start_lr or max_lr / 10\n",
    "        self.last_iterations = last_iterations or iterations // 10 + 1\n",
    "        self.half_iteration = (iterations - self.last_iterations) // 2\n",
    "        self.last_lr = last_lr or self.start_lr / 1000\n",
    "        self.iteration = 0\n",
    "\n",
    "    def _interpolate(self, iter1, iter2, lr1, lr2):\n",
    "        return (lr2 - lr1) * (self.iteration - iter1) / (iter2 - iter1) + lr1\n",
    "\n",
    "    def on_batch_begin(self, batch, logs):\n",
    "        if self.iteration < self.half_iteration:\n",
    "            lr = self._interpolate(0, self.half_iteration, self.start_lr,\n",
    "                                   self.max_lr)\n",
    "        elif self.iteration < 2 * self.half_iteration:\n",
    "            lr = self._interpolate(self.half_iteration, 2 * self.half_iteration,\n",
    "                                   self.max_lr, self.start_lr)\n",
    "        else:\n",
    "            lr = self._interpolate(2 * self.half_iteration, self.iterations,\n",
    "                                   self.start_lr, self.last_lr)\n",
    "        self.iteration += 1\n",
    "        K.set_value(self.model.optimizer.learning_rate, lr)\n",
    "\n",
    "n_epochs = 15\n",
    "n_iterations = math.ceil(len(x_train_scaled) / batch_size) * n_epochs\n",
    "\n",
    "onecycle = OneCycleScheduler(n_iterations, max_lr=0.05)\n",
    "history = model.fit(x_train_scaled, y_train, epochs=n_epochs, batch_size=batch_size,\n",
    "                    validation_data=(x_valid_scaled, y_valid),\n",
    "                    callbacks=[onecycle])"
   ]
  },
  {
   "cell_type": "code",
   "execution_count": 77,
   "metadata": {},
   "outputs": [
    {
     "data": {
      "text/plain": [
       "<keras.callbacks.History at 0x2809e02eac0>"
      ]
     },
     "execution_count": 77,
     "metadata": {},
     "output_type": "execute_result"
    }
   ],
   "source": [
    "history"
   ]
  }
 ],
 "metadata": {
  "kernelspec": {
   "display_name": ".venv",
   "language": "python",
   "name": "python3"
  },
  "language_info": {
   "codemirror_mode": {
    "name": "ipython",
    "version": 3
   },
   "file_extension": ".py",
   "mimetype": "text/x-python",
   "name": "python",
   "nbconvert_exporter": "python",
   "pygments_lexer": "ipython3",
   "version": "3.9.13"
  }
 },
 "nbformat": 4,
 "nbformat_minor": 2
}
